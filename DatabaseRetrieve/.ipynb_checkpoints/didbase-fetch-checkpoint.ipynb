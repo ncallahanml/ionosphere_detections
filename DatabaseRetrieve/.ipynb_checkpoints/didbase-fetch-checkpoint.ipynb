{
 "cells": [
  {
   "cell_type": "markdown",
   "id": "c4a478da",
   "metadata": {},
   "source": [
    "#### Callahan's Modification for Ionosonde Retrieval"
   ]
  },
  {
   "cell_type": "markdown",
   "id": "0aa15c7c",
   "metadata": {},
   "source": [
    "# Lowell Digisonde Reader\n",
    "This notebook is a tool to read and plot data from the Lowell Digisonde network: https://www.digisonde.com/\n",
    "\n",
    "Follow the Rules of the Road! https://giro.uml.edu/didbase/RulesOfTheRoad.html"
   ]
  },
  {
   "cell_type": "code",
   "execution_count": 14,
   "id": "c1db8b6a",
   "metadata": {},
   "outputs": [],
   "source": [
    "import urllib\n",
    "import pandas as pd\n",
    "import plotly.express as px\n",
    "import wget\n",
    "import os                                      # for making sure we have a directory to write data to\n",
    "\n",
    "\n",
    "# Generate output directories:\n",
    "if not os.path.exists('data'):\n",
    "    os.makedirs('data')\n",
    "if not os.path.exists('plots'):\n",
    "    os.makedirs('plots')"
   ]
  },
  {
   "cell_type": "markdown",
   "id": "fb04328c",
   "metadata": {},
   "source": [
    "## Read Station List\n"
   ]
  },
  {
   "cell_type": "code",
   "execution_count": 15,
   "id": "add13c7f",
   "metadata": {},
   "outputs": [],
   "source": [
    "stations = pd.read_csv('DIDBASE List.csv')\n",
    "stations = stations.set_index('URSI')"
   ]
  },
  {
   "cell_type": "markdown",
   "id": "a35e1a83",
   "metadata": {},
   "source": [
    "## Map stations"
   ]
  },
  {
   "cell_type": "code",
   "execution_count": 16,
   "id": "35396cee",
   "metadata": {},
   "outputs": [
    {
     "data": {
      "application/vnd.plotly.v1+json": {
       "config": {
        "plotlyServerURL": "https://plot.ly"
       },
       "data": [
        {
         "customdata": [
          [
           "AH223"
          ],
          [
           "AL945"
          ],
          [
           "AN438"
          ],
          [
           "AS00Q"
          ],
          [
           "AT138"
          ],
          [
           "AU930"
          ],
          [
           "BP440"
          ],
          [
           "BLJ03"
          ],
          [
           "BJJ32"
          ],
          [
           "BVJ03"
          ],
          [
           "BC840"
          ],
          [
           "BR52P"
          ],
          [
           "BV53Q"
          ],
          [
           "CXM9B"
          ],
          [
           "CAJ2M"
          ],
          [
           "CN53L"
          ],
          [
           "CGK21"
          ],
          [
           "CB53N"
          ],
          [
           "CH833"
          ],
          [
           "RL052"
          ],
          [
           "CS31K"
          ],
          [
           "CO764"
          ],
          [
           "CS839"
          ],
          [
           "DW41K"
          ],
          [
           "DB049"
          ],
          [
           "DS932"
          ],
          [
           "EA653"
          ],
          [
           "EG931"
          ],
          [
           "EI764"
          ],
          [
           "TR170"
          ],
          [
           "EA036"
          ],
          [
           "MO156"
          ],
          [
           "FF051"
          ],
          [
           "FZA0M"
          ],
          [
           "GA313"
          ],
          [
           "GA762"
          ],
          [
           "GM037"
          ],
          [
           "GSJ53"
          ],
          [
           "GR13L"
          ],
          [
           "GU513"
          ],
          [
           "HA419"
          ],
          [
           "HAJ43"
          ],
          [
           "HE13N"
          ],
          [
           "HO54K"
          ],
          [
           "IC437"
          ],
          [
           "AC843"
          ],
          [
           "IF843"
          ],
          [
           "IL008"
          ],
          [
           "IR352"
          ],
          [
           "JB57N"
          ],
          [
           "JJ433"
          ],
          [
           "JI91J"
          ],
          [
           "JR055"
          ],
          [
           "KL154"
          ],
          [
           "KI939"
          ],
          [
           "KB547"
          ],
          [
           "KS759"
          ],
          [
           "KR835"
          ],
          [
           "KI167"
          ],
          [
           "TO535"
          ],
          [
           "KJ609"
          ],
          [
           "LA42Q"
          ],
          [
           "LM42B"
          ],
          [
           "LV12P"
          ],
          [
           "LL721"
          ],
          [
           "MU12K"
          ],
          [
           "MA560"
          ],
          [
           "ME929"
          ],
          [
           "MHJ45"
          ],
          [
           "MH453"
          ],
          [
           "MA155"
          ],
          [
           "MO155"
          ],
          [
           "MU230"
          ],
          [
           "MU834"
          ],
          [
           "NQJ61"
          ],
          [
           "NI135"
          ],
          [
           "ND61R"
          ],
          [
           "NDA81"
          ],
          [
           "NI63_"
          ],
          [
           "NO369"
          ],
          [
           "NV355"
          ],
          [
           "OK426"
          ],
          [
           "OL246"
          ],
          [
           "SN437"
          ],
          [
           "PE43K"
          ],
          [
           "PK553"
          ],
          [
           "PF765"
          ],
          [
           "PSJ5J"
          ],
          [
           "PQ052"
          ],
          [
           "PA836"
          ],
          [
           "SJJ18"
          ],
          [
           "PRJ18"
          ],
          [
           "RM041"
          ],
          [
           "RO041"
          ],
          [
           "EB040"
          ],
          [
           "RV149"
          ],
          [
           "SH266"
          ],
          [
           "VT139"
          ],
          [
           "SMK29"
          ],
          [
           "SA418"
          ],
          [
           "SAA0K"
          ],
          [
           "SMJ67"
          ],
          [
           "SO148"
          ],
          [
           "SH42_"
          ],
          [
           "SQ832"
          ],
          [
           "LD160"
          ],
          [
           "THJ76"
          ],
          [
           "THJ77"
          ],
          [
           "TV51R"
          ],
          [
           "TM308"
          ],
          [
           "TR169"
          ],
          [
           "TUJ2O"
          ],
          [
           "TNJ20"
          ],
          [
           "TZ362"
          ],
          [
           "WA619"
          ],
          [
           "WP937"
          ],
          [
           "WI937"
          ],
          [
           "MZ152"
          ],
          [
           "WU430"
          ],
          [
           "XI434"
          ],
          [
           "YA462"
          ],
          [
           "ZH466"
          ],
          [
           "ZS36R"
          ]
         ],
         "geo": "geo",
         "hovertemplate": "<b>%{hovertext}</b><br><br>LAT=%{lat}<br>LONG=%{lon}<br>URSI=%{customdata[0]}<extra></extra>",
         "hovertext": [
          "AHMEDABAD",
          "ALPENA",
          "ANYANG",
          "ASCENSION ISLAND",
          "ATHENS",
          "AUSTIN",
          "BEIJING",
          "BELEM",
          "BERMUDA",
          "BOA VISTA",
          "BOULDER",
          "BRISBANE",
          "BUNDOORA",
          "CACHIMBO",
          "CACHOEIRA PAULISTA",
          "CAMDEN",
          "CAMPO GRANDE",
          "CANBERRA",
          "CHERRY",
          "CHILTON",
          "COCOS_ISLAND",
          "COLLEGE AK",
          "COLORADO_SPRINGS",
          "DARWIN",
          "DOURBES",
          "DYESS AFB",
          "EARECKSON",
          "EGLIN AFB",
          "EIELSON",
          "EISCAT TROMSO",
          "EL ARENOSILLO",
          "ELEKTROUGLI",
          "FAIRFORD",
          "FORTALEZA",
          "GADANKI",
          "GAKONA",
          "GIBILMANNA",
          "GOOSE BAY",
          "GRAHAMSTOWN",
          "GUAM",
          "HAINAN",
          "HANSCOM AFB",
          "HERMANUS",
          "HOBART",
          "I-CHEON",
          "IDAHO NATIONAL LAB",
          "IDAHO NATIONAL LAB",
          "ILORIN",
          "IRKUTSK",
          "JANG BOGO",
          "JEJU",
          "JICAMARCA",
          "JULIUSRUH",
          "KALININGRAD",
          "KENT IS",
          "KHABAROVSK",
          "KING SALMON",
          "KIRTLAND",
          "KIRUNA SWEDEN",
          "KOKUBUNJI",
          "KWAJALEIN",
          "LAVERTON",
          "LEARMONTH",
          "LOUISVALE",
          "LUALUALEI",
          "MADIMBO",
          "MAGADAN",
          "MELROSE",
          "MILLSTONE HILL",
          "MOHE",
          "MOSCOW",
          "MOSCOW",
          "MULTAN",
          "MUNYO",
          "NARSSARSSUAQ",
          "NICOSIA",
          "NIUE",
          "NORD GREENLAND",
          "NORFOLK",
          "NORILSK",
          "NOVOSIBIRSK",
          "OKINAWA",
          "OLSZTYN",
          "OSAN AB",
          "PERTH",
          "PETROPAVLOVSK",
          "POKER FLAT",
          "PORT STANLEY",
          "PRUHONICE",
          "PT ARGUELLO",
          "PUERTO RICO",
          "RAMEY",
          "ROME",
          "ROME",
          "ROQUETES",
          "ROSTOV",
          "SALEKHARD",
          "SAN VITO",
          "SANTA MARIA",
          "SANYA",
          "SAOLUIS",
          "SONDRESTROM",
          "SOPRON",
          "SOUTH HEDLAND",
          "SQUIRT",
          "ST. PETERSBURG",
          "THULE",
          "THULE/QAANAAQ",
          "TOWNSVILLE",
          "TRIVANDRUM",
          "TROMSO",
          "TUCUMAN",
          "TUCUMAN AIS-INGV",
          "TUNGUSKA",
          "WAKE",
          "WALLOPS IS",
          "WALLOPS ISLAND",
          "WARSAW",
          "WUHAN",
          "XINXIANG CHINA",
          "YAKUTSK",
          "ZHIGANSK",
          "ZHONG SHAN"
         ],
         "lat": [
          23,
          45.07,
          37.39,
          -7.95,
          38,
          30.4,
          40.3,
          1.43,
          32.4,
          2.8,
          40,
          -27.06,
          -37.7,
          -9.5,
          -22.7,
          -34.05,
          -20.5,
          -35.32,
          32.9,
          51.5,
          -12.18,
          64.9,
          39,
          -12.45,
          50.1,
          32.4,
          52.73,
          30.5,
          64.66,
          69.58,
          37.1,
          55.76,
          51.7,
          -3.9,
          13.46,
          62.38,
          37.9,
          53.3,
          -33.3,
          13.62,
          19.4,
          42.5,
          -34.42,
          -42.92,
          37.14,
          43.81,
          43.81,
          8.5,
          52.4,
          -74.62,
          33.43,
          -12,
          54.6,
          54.36,
          38.96,
          47.52,
          58.4,
          35,
          67.86,
          35.7,
          9,
          -28.3,
          -21.8,
          -28.5,
          21.43,
          -22.39,
          60.09,
          29.71,
          42.6,
          52,
          55.49,
          55.47,
          33.03,
          33.56,
          61.2,
          35.03,
          -19.07,
          81.4,
          -29.03,
          69.2,
          55.02,
          26.68,
          53.8,
          37.1,
          -32,
          52.97,
          65.13,
          -51.6,
          50,
          34.8,
          18.11,
          18.5,
          41.8,
          41.9,
          40.8,
          47.24,
          66.51,
          40.6,
          -29.73,
          18.34,
          -2.6,
          66.98,
          47.63,
          -20.4,
          32.42,
          60,
          76.54,
          77.5,
          -19.63,
          8.54,
          69.6,
          -26.9,
          -26.9,
          61.58,
          19.29,
          37.9,
          37.94,
          52.2,
          30.5,
          35.3,
          62,
          66.8,
          -69.4
         ],
         "legendgroup": "",
         "lon": [
          72.5,
          276.44,
          126.95,
          345.6,
          23.5,
          262.3,
          116.2,
          311.56,
          295.3,
          299.3,
          254.7,
          153.06,
          145.05,
          305.2,
          315,
          150.67,
          305,
          149,
          253.59,
          359.4,
          96.83,
          212,
          255.12,
          130.95,
          4.6,
          260.2,
          185.92,
          273.5,
          212.93,
          19.22,
          353.3,
          38.28,
          358.5,
          321.6,
          79.17,
          215,
          14,
          299.7,
          26.5,
          144.86,
          109,
          288.7,
          19.22,
          147.32,
          127.54,
          247.32,
          247.32,
          4.5,
          104.3,
          164.24,
          126.3,
          283.2,
          13.4,
          20.12,
          283.72,
          134.77,
          203.6,
          253.47,
          20.43,
          139.5,
          167.2,
          122.8,
          114.1,
          21.2,
          201.85,
          30.88,
          150.93,
          278,
          288.5,
          122.52,
          37.29,
          37.3,
          72.01,
          253.35,
          314.6,
          33.16,
          190.07,
          342.5,
          167.97,
          88,
          82.21,
          128.15,
          20.5,
          127,
          116.13,
          158.24,
          212.55,
          302.1,
          14.6,
          239.5,
          293.75,
          292.9,
          12.5,
          12.5,
          0.5,
          39.63,
          66.66,
          17.8,
          306.29,
          109.42,
          315.8,
          309.06,
          16.72,
          118.5,
          253.71,
          30.7,
          291.56,
          290.8,
          146.85,
          76.87,
          19.2,
          294.6,
          294.6,
          90.02,
          166.65,
          284.5,
          284.42,
          21.1,
          114.4,
          113.92,
          129.6,
          123.4,
          76.4
         ],
         "marker": {
          "color": "#636efa",
          "symbol": "circle"
         },
         "mode": "markers",
         "name": "",
         "showlegend": false,
         "type": "scattergeo"
        }
       ],
       "layout": {
        "autosize": true,
        "geo": {
         "center": {},
         "domain": {
          "x": [
           0,
           1
          ],
          "y": [
           0,
           1
          ]
         }
        },
        "legend": {
         "tracegroupgap": 0
        },
        "margin": {
         "t": 60
        },
        "template": {
         "data": {
          "bar": [
           {
            "error_x": {
             "color": "#2a3f5f"
            },
            "error_y": {
             "color": "#2a3f5f"
            },
            "marker": {
             "line": {
              "color": "#E5ECF6",
              "width": 0.5
             },
             "pattern": {
              "fillmode": "overlay",
              "size": 10,
              "solidity": 0.2
             }
            },
            "type": "bar"
           }
          ],
          "barpolar": [
           {
            "marker": {
             "line": {
              "color": "#E5ECF6",
              "width": 0.5
             },
             "pattern": {
              "fillmode": "overlay",
              "size": 10,
              "solidity": 0.2
             }
            },
            "type": "barpolar"
           }
          ],
          "carpet": [
           {
            "aaxis": {
             "endlinecolor": "#2a3f5f",
             "gridcolor": "white",
             "linecolor": "white",
             "minorgridcolor": "white",
             "startlinecolor": "#2a3f5f"
            },
            "baxis": {
             "endlinecolor": "#2a3f5f",
             "gridcolor": "white",
             "linecolor": "white",
             "minorgridcolor": "white",
             "startlinecolor": "#2a3f5f"
            },
            "type": "carpet"
           }
          ],
          "choropleth": [
           {
            "colorbar": {
             "outlinewidth": 0,
             "ticks": ""
            },
            "type": "choropleth"
           }
          ],
          "contour": [
           {
            "colorbar": {
             "outlinewidth": 0,
             "ticks": ""
            },
            "colorscale": [
             [
              0,
              "#0d0887"
             ],
             [
              0.1111111111111111,
              "#46039f"
             ],
             [
              0.2222222222222222,
              "#7201a8"
             ],
             [
              0.3333333333333333,
              "#9c179e"
             ],
             [
              0.4444444444444444,
              "#bd3786"
             ],
             [
              0.5555555555555556,
              "#d8576b"
             ],
             [
              0.6666666666666666,
              "#ed7953"
             ],
             [
              0.7777777777777778,
              "#fb9f3a"
             ],
             [
              0.8888888888888888,
              "#fdca26"
             ],
             [
              1,
              "#f0f921"
             ]
            ],
            "type": "contour"
           }
          ],
          "contourcarpet": [
           {
            "colorbar": {
             "outlinewidth": 0,
             "ticks": ""
            },
            "type": "contourcarpet"
           }
          ],
          "heatmap": [
           {
            "colorbar": {
             "outlinewidth": 0,
             "ticks": ""
            },
            "colorscale": [
             [
              0,
              "#0d0887"
             ],
             [
              0.1111111111111111,
              "#46039f"
             ],
             [
              0.2222222222222222,
              "#7201a8"
             ],
             [
              0.3333333333333333,
              "#9c179e"
             ],
             [
              0.4444444444444444,
              "#bd3786"
             ],
             [
              0.5555555555555556,
              "#d8576b"
             ],
             [
              0.6666666666666666,
              "#ed7953"
             ],
             [
              0.7777777777777778,
              "#fb9f3a"
             ],
             [
              0.8888888888888888,
              "#fdca26"
             ],
             [
              1,
              "#f0f921"
             ]
            ],
            "type": "heatmap"
           }
          ],
          "heatmapgl": [
           {
            "colorbar": {
             "outlinewidth": 0,
             "ticks": ""
            },
            "colorscale": [
             [
              0,
              "#0d0887"
             ],
             [
              0.1111111111111111,
              "#46039f"
             ],
             [
              0.2222222222222222,
              "#7201a8"
             ],
             [
              0.3333333333333333,
              "#9c179e"
             ],
             [
              0.4444444444444444,
              "#bd3786"
             ],
             [
              0.5555555555555556,
              "#d8576b"
             ],
             [
              0.6666666666666666,
              "#ed7953"
             ],
             [
              0.7777777777777778,
              "#fb9f3a"
             ],
             [
              0.8888888888888888,
              "#fdca26"
             ],
             [
              1,
              "#f0f921"
             ]
            ],
            "type": "heatmapgl"
           }
          ],
          "histogram": [
           {
            "marker": {
             "pattern": {
              "fillmode": "overlay",
              "size": 10,
              "solidity": 0.2
             }
            },
            "type": "histogram"
           }
          ],
          "histogram2d": [
           {
            "colorbar": {
             "outlinewidth": 0,
             "ticks": ""
            },
            "colorscale": [
             [
              0,
              "#0d0887"
             ],
             [
              0.1111111111111111,
              "#46039f"
             ],
             [
              0.2222222222222222,
              "#7201a8"
             ],
             [
              0.3333333333333333,
              "#9c179e"
             ],
             [
              0.4444444444444444,
              "#bd3786"
             ],
             [
              0.5555555555555556,
              "#d8576b"
             ],
             [
              0.6666666666666666,
              "#ed7953"
             ],
             [
              0.7777777777777778,
              "#fb9f3a"
             ],
             [
              0.8888888888888888,
              "#fdca26"
             ],
             [
              1,
              "#f0f921"
             ]
            ],
            "type": "histogram2d"
           }
          ],
          "histogram2dcontour": [
           {
            "colorbar": {
             "outlinewidth": 0,
             "ticks": ""
            },
            "colorscale": [
             [
              0,
              "#0d0887"
             ],
             [
              0.1111111111111111,
              "#46039f"
             ],
             [
              0.2222222222222222,
              "#7201a8"
             ],
             [
              0.3333333333333333,
              "#9c179e"
             ],
             [
              0.4444444444444444,
              "#bd3786"
             ],
             [
              0.5555555555555556,
              "#d8576b"
             ],
             [
              0.6666666666666666,
              "#ed7953"
             ],
             [
              0.7777777777777778,
              "#fb9f3a"
             ],
             [
              0.8888888888888888,
              "#fdca26"
             ],
             [
              1,
              "#f0f921"
             ]
            ],
            "type": "histogram2dcontour"
           }
          ],
          "mesh3d": [
           {
            "colorbar": {
             "outlinewidth": 0,
             "ticks": ""
            },
            "type": "mesh3d"
           }
          ],
          "parcoords": [
           {
            "line": {
             "colorbar": {
              "outlinewidth": 0,
              "ticks": ""
             }
            },
            "type": "parcoords"
           }
          ],
          "pie": [
           {
            "automargin": true,
            "type": "pie"
           }
          ],
          "scatter": [
           {
            "fillpattern": {
             "fillmode": "overlay",
             "size": 10,
             "solidity": 0.2
            },
            "type": "scatter"
           }
          ],
          "scatter3d": [
           {
            "line": {
             "colorbar": {
              "outlinewidth": 0,
              "ticks": ""
             }
            },
            "marker": {
             "colorbar": {
              "outlinewidth": 0,
              "ticks": ""
             }
            },
            "type": "scatter3d"
           }
          ],
          "scattercarpet": [
           {
            "marker": {
             "colorbar": {
              "outlinewidth": 0,
              "ticks": ""
             }
            },
            "type": "scattercarpet"
           }
          ],
          "scattergeo": [
           {
            "marker": {
             "colorbar": {
              "outlinewidth": 0,
              "ticks": ""
             }
            },
            "type": "scattergeo"
           }
          ],
          "scattergl": [
           {
            "marker": {
             "colorbar": {
              "outlinewidth": 0,
              "ticks": ""
             }
            },
            "type": "scattergl"
           }
          ],
          "scattermapbox": [
           {
            "marker": {
             "colorbar": {
              "outlinewidth": 0,
              "ticks": ""
             }
            },
            "type": "scattermapbox"
           }
          ],
          "scatterpolar": [
           {
            "marker": {
             "colorbar": {
              "outlinewidth": 0,
              "ticks": ""
             }
            },
            "type": "scatterpolar"
           }
          ],
          "scatterpolargl": [
           {
            "marker": {
             "colorbar": {
              "outlinewidth": 0,
              "ticks": ""
             }
            },
            "type": "scatterpolargl"
           }
          ],
          "scatterternary": [
           {
            "marker": {
             "colorbar": {
              "outlinewidth": 0,
              "ticks": ""
             }
            },
            "type": "scatterternary"
           }
          ],
          "surface": [
           {
            "colorbar": {
             "outlinewidth": 0,
             "ticks": ""
            },
            "colorscale": [
             [
              0,
              "#0d0887"
             ],
             [
              0.1111111111111111,
              "#46039f"
             ],
             [
              0.2222222222222222,
              "#7201a8"
             ],
             [
              0.3333333333333333,
              "#9c179e"
             ],
             [
              0.4444444444444444,
              "#bd3786"
             ],
             [
              0.5555555555555556,
              "#d8576b"
             ],
             [
              0.6666666666666666,
              "#ed7953"
             ],
             [
              0.7777777777777778,
              "#fb9f3a"
             ],
             [
              0.8888888888888888,
              "#fdca26"
             ],
             [
              1,
              "#f0f921"
             ]
            ],
            "type": "surface"
           }
          ],
          "table": [
           {
            "cells": {
             "fill": {
              "color": "#EBF0F8"
             },
             "line": {
              "color": "white"
             }
            },
            "header": {
             "fill": {
              "color": "#C8D4E3"
             },
             "line": {
              "color": "white"
             }
            },
            "type": "table"
           }
          ]
         },
         "layout": {
          "annotationdefaults": {
           "arrowcolor": "#2a3f5f",
           "arrowhead": 0,
           "arrowwidth": 1
          },
          "autotypenumbers": "strict",
          "coloraxis": {
           "colorbar": {
            "outlinewidth": 0,
            "ticks": ""
           }
          },
          "colorscale": {
           "diverging": [
            [
             0,
             "#8e0152"
            ],
            [
             0.1,
             "#c51b7d"
            ],
            [
             0.2,
             "#de77ae"
            ],
            [
             0.3,
             "#f1b6da"
            ],
            [
             0.4,
             "#fde0ef"
            ],
            [
             0.5,
             "#f7f7f7"
            ],
            [
             0.6,
             "#e6f5d0"
            ],
            [
             0.7,
             "#b8e186"
            ],
            [
             0.8,
             "#7fbc41"
            ],
            [
             0.9,
             "#4d9221"
            ],
            [
             1,
             "#276419"
            ]
           ],
           "sequential": [
            [
             0,
             "#0d0887"
            ],
            [
             0.1111111111111111,
             "#46039f"
            ],
            [
             0.2222222222222222,
             "#7201a8"
            ],
            [
             0.3333333333333333,
             "#9c179e"
            ],
            [
             0.4444444444444444,
             "#bd3786"
            ],
            [
             0.5555555555555556,
             "#d8576b"
            ],
            [
             0.6666666666666666,
             "#ed7953"
            ],
            [
             0.7777777777777778,
             "#fb9f3a"
            ],
            [
             0.8888888888888888,
             "#fdca26"
            ],
            [
             1,
             "#f0f921"
            ]
           ],
           "sequentialminus": [
            [
             0,
             "#0d0887"
            ],
            [
             0.1111111111111111,
             "#46039f"
            ],
            [
             0.2222222222222222,
             "#7201a8"
            ],
            [
             0.3333333333333333,
             "#9c179e"
            ],
            [
             0.4444444444444444,
             "#bd3786"
            ],
            [
             0.5555555555555556,
             "#d8576b"
            ],
            [
             0.6666666666666666,
             "#ed7953"
            ],
            [
             0.7777777777777778,
             "#fb9f3a"
            ],
            [
             0.8888888888888888,
             "#fdca26"
            ],
            [
             1,
             "#f0f921"
            ]
           ]
          },
          "colorway": [
           "#636efa",
           "#EF553B",
           "#00cc96",
           "#ab63fa",
           "#FFA15A",
           "#19d3f3",
           "#FF6692",
           "#B6E880",
           "#FF97FF",
           "#FECB52"
          ],
          "font": {
           "color": "#2a3f5f"
          },
          "geo": {
           "bgcolor": "white",
           "lakecolor": "white",
           "landcolor": "#E5ECF6",
           "showlakes": true,
           "showland": true,
           "subunitcolor": "white"
          },
          "hoverlabel": {
           "align": "left"
          },
          "hovermode": "closest",
          "mapbox": {
           "style": "light"
          },
          "paper_bgcolor": "white",
          "plot_bgcolor": "#E5ECF6",
          "polar": {
           "angularaxis": {
            "gridcolor": "white",
            "linecolor": "white",
            "ticks": ""
           },
           "bgcolor": "#E5ECF6",
           "radialaxis": {
            "gridcolor": "white",
            "linecolor": "white",
            "ticks": ""
           }
          },
          "scene": {
           "xaxis": {
            "backgroundcolor": "#E5ECF6",
            "gridcolor": "white",
            "gridwidth": 2,
            "linecolor": "white",
            "showbackground": true,
            "ticks": "",
            "zerolinecolor": "white"
           },
           "yaxis": {
            "backgroundcolor": "#E5ECF6",
            "gridcolor": "white",
            "gridwidth": 2,
            "linecolor": "white",
            "showbackground": true,
            "ticks": "",
            "zerolinecolor": "white"
           },
           "zaxis": {
            "backgroundcolor": "#E5ECF6",
            "gridcolor": "white",
            "gridwidth": 2,
            "linecolor": "white",
            "showbackground": true,
            "ticks": "",
            "zerolinecolor": "white"
           }
          },
          "shapedefaults": {
           "line": {
            "color": "#2a3f5f"
           }
          },
          "ternary": {
           "aaxis": {
            "gridcolor": "white",
            "linecolor": "white",
            "ticks": ""
           },
           "baxis": {
            "gridcolor": "white",
            "linecolor": "white",
            "ticks": ""
           },
           "bgcolor": "#E5ECF6",
           "caxis": {
            "gridcolor": "white",
            "linecolor": "white",
            "ticks": ""
           }
          },
          "title": {
           "x": 0.05
          },
          "xaxis": {
           "automargin": true,
           "gridcolor": "white",
           "linecolor": "white",
           "ticks": "",
           "title": {
            "standoff": 15
           },
           "zerolinecolor": "white",
           "zerolinewidth": 2
          },
          "yaxis": {
           "automargin": true,
           "gridcolor": "white",
           "linecolor": "white",
           "ticks": "",
           "title": {
            "standoff": 15
           },
           "zerolinecolor": "white",
           "zerolinewidth": 2
          }
         }
        },
        "title": {
         "text": "Stations"
        }
       }
      },
      "image/png": "[encoded data removed]",
      "text/html": [
       "<div>                            <div id=\"1bc65013-9a76-46d5-a466-2defffff16e4\" class=\"plotly-graph-div\" style=\"height:525px; width:100%;\"></div>            <script type=\"text/javascript\">                require([\"plotly\"], function(Plotly) {                    window.PLOTLYENV=window.PLOTLYENV || {};                                    if (document.getElementById(\"1bc65013-9a76-46d5-a466-2defffff16e4\")) {                    Plotly.newPlot(                        \"1bc65013-9a76-46d5-a466-2defffff16e4\",                        [{\"customdata\":[[\"AH223\"],[\"AL945\"],[\"AN438\"],[\"AS00Q\"],[\"AT138\"],[\"AU930\"],[\"BP440\"],[\"BLJ03\"],[\"BJJ32\"],[\"BVJ03\"],[\"BC840\"],[\"BR52P\"],[\"BV53Q\"],[\"CXM9B\"],[\"CAJ2M\"],[\"CN53L\"],[\"CGK21\"],[\"CB53N\"],[\"CH833\"],[\"RL052\"],[\"CS31K\"],[\"CO764\"],[\"CS839\"],[\"DW41K\"],[\"DB049\"],[\"DS932\"],[\"EA653\"],[\"EG931\"],[\"EI764\"],[\"TR170\"],[\"EA036\"],[\"MO156\"],[\"FF051\"],[\"FZA0M\"],[\"GA313\"],[\"GA762\"],[\"GM037\"],[\"GSJ53\"],[\"GR13L\"],[\"GU513\"],[\"HA419\"],[\"HAJ43\"],[\"HE13N\"],[\"HO54K\"],[\"IC437\"],[\"AC843\"],[\"IF843\"],[\"IL008\"],[\"IR352\"],[\"JB57N\"],[\"JJ433\"],[\"JI91J\"],[\"JR055\"],[\"KL154\"],[\"KI939\"],[\"KB547\"],[\"KS759\"],[\"KR835\"],[\"KI167\"],[\"TO535\"],[\"KJ609\"],[\"LA42Q\"],[\"LM42B\"],[\"LV12P\"],[\"LL721\"],[\"MU12K\"],[\"MA560\"],[\"ME929\"],[\"MHJ45\"],[\"MH453\"],[\"MA155\"],[\"MO155\"],[\"MU230\"],[\"MU834\"],[\"NQJ61\"],[\"NI135\"],[\"ND61R\"],[\"NDA81\"],[\"NI63_\"],[\"NO369\"],[\"NV355\"],[\"OK426\"],[\"OL246\"],[\"SN437\"],[\"PE43K\"],[\"PK553\"],[\"PF765\"],[\"PSJ5J\"],[\"PQ052\"],[\"PA836\"],[\"SJJ18\"],[\"PRJ18\"],[\"RM041\"],[\"RO041\"],[\"EB040\"],[\"RV149\"],[\"SH266\"],[\"VT139\"],[\"SMK29\"],[\"SA418\"],[\"SAA0K\"],[\"SMJ67\"],[\"SO148\"],[\"SH42_\"],[\"SQ832\"],[\"LD160\"],[\"THJ76\"],[\"THJ77\"],[\"TV51R\"],[\"TM308\"],[\"TR169\"],[\"TUJ2O\"],[\"TNJ20\"],[\"TZ362\"],[\"WA619\"],[\"WP937\"],[\"WI937\"],[\"MZ152\"],[\"WU430\"],[\"XI434\"],[\"YA462\"],[\"ZH466\"],[\"ZS36R\"]],\"geo\":\"geo\",\"hovertemplate\":\"<b>%{hovertext}</b><br><br>LAT=%{lat}<br>LONG=%{lon}<br>URSI=%{customdata[0]}<extra></extra>\",\"hovertext\":[\"AHMEDABAD\",\"ALPENA\",\"ANYANG\",\"ASCENSION ISLAND\",\"ATHENS\",\"AUSTIN\",\"BEIJING\",\"BELEM\",\"BERMUDA\",\"BOA VISTA\",\"BOULDER\",\"BRISBANE\",\"BUNDOORA\",\"CACHIMBO\",\"CACHOEIRA PAULISTA\",\"CAMDEN\",\"CAMPO GRANDE\",\"CANBERRA\",\"CHERRY\",\"CHILTON\",\"COCOS_ISLAND\",\"COLLEGE AK\",\"COLORADO_SPRINGS\",\"DARWIN\",\"DOURBES\",\"DYESS AFB\",\"EARECKSON\",\"EGLIN AFB\",\"EIELSON\",\"EISCAT TROMSO\",\"EL ARENOSILLO\",\"ELEKTROUGLI\",\"FAIRFORD\",\"FORTALEZA\",\"GADANKI\",\"GAKONA\",\"GIBILMANNA\",\"GOOSE BAY\",\"GRAHAMSTOWN\",\"GUAM\",\"HAINAN\",\"HANSCOM AFB\",\"HERMANUS\",\"HOBART\",\"I-CHEON\",\"IDAHO NATIONAL LAB\",\"IDAHO NATIONAL LAB\",\"ILORIN\",\"IRKUTSK\",\"JANG BOGO\",\"JEJU\",\"JICAMARCA\",\"JULIUSRUH\",\"KALININGRAD\",\"KENT IS\",\"KHABAROVSK\",\"KING SALMON\",\"KIRTLAND\",\"KIRUNA SWEDEN\",\"KOKUBUNJI\",\"KWAJALEIN\",\"LAVERTON\",\"LEARMONTH\",\"LOUISVALE\",\"LUALUALEI\",\"MADIMBO\",\"MAGADAN\",\"MELROSE\",\"MILLSTONE HILL\",\"MOHE\",\"MOSCOW\",\"MOSCOW\",\"MULTAN\",\"MUNYO\",\"NARSSARSSUAQ\",\"NICOSIA\",\"NIUE\",\"NORD GREENLAND\",\"NORFOLK\",\"NORILSK\",\"NOVOSIBIRSK\",\"OKINAWA\",\"OLSZTYN\",\"OSAN AB\",\"PERTH\",\"PETROPAVLOVSK\",\"POKER FLAT\",\"PORT STANLEY\",\"PRUHONICE\",\"PT ARGUELLO\",\"PUERTO RICO\",\"RAMEY\",\"ROME\",\"ROME\",\"ROQUETES\",\"ROSTOV\",\"SALEKHARD\",\"SAN VITO\",\"SANTA MARIA\",\"SANYA\",\"SAOLUIS\",\"SONDRESTROM\",\"SOPRON\",\"SOUTH HEDLAND\",\"SQUIRT\",\"ST. PETERSBURG\",\"THULE\",\"THULE/QAANAAQ\",\"TOWNSVILLE\",\"TRIVANDRUM\",\"TROMSO\",\"TUCUMAN\",\"TUCUMAN AIS-INGV\",\"TUNGUSKA\",\"WAKE\",\"WALLOPS IS\",\"WALLOPS ISLAND\",\"WARSAW\",\"WUHAN\",\"XINXIANG CHINA\",\"YAKUTSK\",\"ZHIGANSK\",\"ZHONG SHAN\"],\"lat\":[23.0,45.07,37.39,-7.95,38.0,30.4,40.3,1.43,32.4,2.8,40.0,-27.06,-37.7,-9.5,-22.7,-34.05,-20.5,-35.32,32.9,51.5,-12.18,64.9,39.0,-12.45,50.1,32.4,52.73,30.5,64.66,69.58,37.1,55.76,51.7,-3.9,13.46,62.38,37.9,53.3,-33.3,13.62,19.4,42.5,-34.42,-42.92,37.14,43.81,43.81,8.5,52.4,-74.62,33.43,-12.0,54.6,54.36,38.96,47.52,58.4,35.0,67.86,35.7,9.0,-28.3,-21.8,-28.5,21.43,-22.39,60.09,29.71,42.6,52.0,55.49,55.47,33.03,33.56,61.2,35.03,-19.07,81.4,-29.03,69.2,55.02,26.68,53.8,37.1,-32.0,52.97,65.13,-51.6,50.0,34.8,18.11,18.5,41.8,41.9,40.8,47.24,66.51,40.6,-29.73,18.34,-2.6,66.98,47.63,-20.4,32.42,60.0,76.54,77.5,-19.63,8.54,69.6,-26.9,-26.9,61.58,19.29,37.9,37.94,52.2,30.5,35.3,62.0,66.8,-69.4],\"legendgroup\":\"\",\"lon\":[72.5,276.44,126.95,345.6,23.5,262.3,116.2,311.56,295.3,299.3,254.7,153.06,145.05,305.2,315.0,150.67,305.0,149.0,253.59,359.4,96.83,212.0,255.12,130.95,4.6,260.2,185.92,273.5,212.93,19.22,353.3,38.28,358.5,321.6,79.17,215.0,14.0,299.7,26.5,144.86,109.0,288.7,19.22,147.32,127.54,247.32,247.32,4.5,104.3,164.24,126.3,283.2,13.4,20.12,283.72,134.77,203.6,253.47,20.43,139.5,167.2,122.8,114.1,21.2,201.85,30.88,150.93,278.0,288.5,122.52,37.29,37.3,72.01,253.35,314.6,33.16,190.07,342.5,167.97,88.0,82.21,128.15,20.5,127.0,116.13,158.24,212.55,302.1,14.6,239.5,293.75,292.9,12.5,12.5,0.5,39.63,66.66,17.8,306.29,109.42,315.8,309.06,16.72,118.5,253.71,30.7,291.56,290.8,146.85,76.87,19.2,294.6,294.6,90.02,166.65,284.5,284.42,21.1,114.4,113.92,129.6,123.4,76.4],\"marker\":{\"color\":\"#636efa\",\"symbol\":\"circle\"},\"mode\":\"markers\",\"name\":\"\",\"showlegend\":false,\"type\":\"scattergeo\"}],                        {\"template\":{\"data\":{\"histogram2dcontour\":[{\"type\":\"histogram2dcontour\",\"colorbar\":{\"outlinewidth\":0,\"ticks\":\"\"},\"colorscale\":[[0.0,\"#0d0887\"],[0.1111111111111111,\"#46039f\"],[0.2222222222222222,\"#7201a8\"],[0.3333333333333333,\"#9c179e\"],[0.4444444444444444,\"#bd3786\"],[0.5555555555555556,\"#d8576b\"],[0.6666666666666666,\"#ed7953\"],[0.7777777777777778,\"#fb9f3a\"],[0.8888888888888888,\"#fdca26\"],[1.0,\"#f0f921\"]]}],\"choropleth\":[{\"type\":\"choropleth\",\"colorbar\":{\"outlinewidth\":0,\"ticks\":\"\"}}],\"histogram2d\":[{\"type\":\"histogram2d\",\"colorbar\":{\"outlinewidth\":0,\"ticks\":\"\"},\"colorscale\":[[0.0,\"#0d0887\"],[0.1111111111111111,\"#46039f\"],[0.2222222222222222,\"#7201a8\"],[0.3333333333333333,\"#9c179e\"],[0.4444444444444444,\"#bd3786\"],[0.5555555555555556,\"#d8576b\"],[0.6666666666666666,\"#ed7953\"],[0.7777777777777778,\"#fb9f3a\"],[0.8888888888888888,\"#fdca26\"],[1.0,\"#f0f921\"]]}],\"heatmap\":[{\"type\":\"heatmap\",\"colorbar\":{\"outlinewidth\":0,\"ticks\":\"\"},\"colorscale\":[[0.0,\"#0d0887\"],[0.1111111111111111,\"#46039f\"],[0.2222222222222222,\"#7201a8\"],[0.3333333333333333,\"#9c179e\"],[0.4444444444444444,\"#bd3786\"],[0.5555555555555556,\"#d8576b\"],[0.6666666666666666,\"#ed7953\"],[0.7777777777777778,\"#fb9f3a\"],[0.8888888888888888,\"#fdca26\"],[1.0,\"#f0f921\"]]}],\"heatmapgl\":[{\"type\":\"heatmapgl\",\"colorbar\":{\"outlinewidth\":0,\"ticks\":\"\"},\"colorscale\":[[0.0,\"#0d0887\"],[0.1111111111111111,\"#46039f\"],[0.2222222222222222,\"#7201a8\"],[0.3333333333333333,\"#9c179e\"],[0.4444444444444444,\"#bd3786\"],[0.5555555555555556,\"#d8576b\"],[0.6666666666666666,\"#ed7953\"],[0.7777777777777778,\"#fb9f3a\"],[0.8888888888888888,\"#fdca26\"],[1.0,\"#f0f921\"]]}],\"contourcarpet\":[{\"type\":\"contourcarpet\",\"colorbar\":{\"outlinewidth\":0,\"ticks\":\"\"}}],\"contour\":[{\"type\":\"contour\",\"colorbar\":{\"outlinewidth\":0,\"ticks\":\"\"},\"colorscale\":[[0.0,\"#0d0887\"],[0.1111111111111111,\"#46039f\"],[0.2222222222222222,\"#7201a8\"],[0.3333333333333333,\"#9c179e\"],[0.4444444444444444,\"#bd3786\"],[0.5555555555555556,\"#d8576b\"],[0.6666666666666666,\"#ed7953\"],[0.7777777777777778,\"#fb9f3a\"],[0.8888888888888888,\"#fdca26\"],[1.0,\"#f0f921\"]]}],\"surface\":[{\"type\":\"surface\",\"colorbar\":{\"outlinewidth\":0,\"ticks\":\"\"},\"colorscale\":[[0.0,\"#0d0887\"],[0.1111111111111111,\"#46039f\"],[0.2222222222222222,\"#7201a8\"],[0.3333333333333333,\"#9c179e\"],[0.4444444444444444,\"#bd3786\"],[0.5555555555555556,\"#d8576b\"],[0.6666666666666666,\"#ed7953\"],[0.7777777777777778,\"#fb9f3a\"],[0.8888888888888888,\"#fdca26\"],[1.0,\"#f0f921\"]]}],\"mesh3d\":[{\"type\":\"mesh3d\",\"colorbar\":{\"outlinewidth\":0,\"ticks\":\"\"}}],\"scatter\":[{\"fillpattern\":{\"fillmode\":\"overlay\",\"size\":10,\"solidity\":0.2},\"type\":\"scatter\"}],\"parcoords\":[{\"type\":\"parcoords\",\"line\":{\"colorbar\":{\"outlinewidth\":0,\"ticks\":\"\"}}}],\"scatterpolargl\":[{\"type\":\"scatterpolargl\",\"marker\":{\"colorbar\":{\"outlinewidth\":0,\"ticks\":\"\"}}}],\"bar\":[{\"error_x\":{\"color\":\"#2a3f5f\"},\"error_y\":{\"color\":\"#2a3f5f\"},\"marker\":{\"line\":{\"color\":\"#E5ECF6\",\"width\":0.5},\"pattern\":{\"fillmode\":\"overlay\",\"size\":10,\"solidity\":0.2}},\"type\":\"bar\"}],\"scattergeo\":[{\"type\":\"scattergeo\",\"marker\":{\"colorbar\":{\"outlinewidth\":0,\"ticks\":\"\"}}}],\"scatterpolar\":[{\"type\":\"scatterpolar\",\"marker\":{\"colorbar\":{\"outlinewidth\":0,\"ticks\":\"\"}}}],\"histogram\":[{\"marker\":{\"pattern\":{\"fillmode\":\"overlay\",\"size\":10,\"solidity\":0.2}},\"type\":\"histogram\"}],\"scattergl\":[{\"type\":\"scattergl\",\"marker\":{\"colorbar\":{\"outlinewidth\":0,\"ticks\":\"\"}}}],\"scatter3d\":[{\"type\":\"scatter3d\",\"line\":{\"colorbar\":{\"outlinewidth\":0,\"ticks\":\"\"}},\"marker\":{\"colorbar\":{\"outlinewidth\":0,\"ticks\":\"\"}}}],\"scattermapbox\":[{\"type\":\"scattermapbox\",\"marker\":{\"colorbar\":{\"outlinewidth\":0,\"ticks\":\"\"}}}],\"scatterternary\":[{\"type\":\"scatterternary\",\"marker\":{\"colorbar\":{\"outlinewidth\":0,\"ticks\":\"\"}}}],\"scattercarpet\":[{\"type\":\"scattercarpet\",\"marker\":{\"colorbar\":{\"outlinewidth\":0,\"ticks\":\"\"}}}],\"carpet\":[{\"aaxis\":{\"endlinecolor\":\"#2a3f5f\",\"gridcolor\":\"white\",\"linecolor\":\"white\",\"minorgridcolor\":\"white\",\"startlinecolor\":\"#2a3f5f\"},\"baxis\":{\"endlinecolor\":\"#2a3f5f\",\"gridcolor\":\"white\",\"linecolor\":\"white\",\"minorgridcolor\":\"white\",\"startlinecolor\":\"#2a3f5f\"},\"type\":\"carpet\"}],\"table\":[{\"cells\":{\"fill\":{\"color\":\"#EBF0F8\"},\"line\":{\"color\":\"white\"}},\"header\":{\"fill\":{\"color\":\"#C8D4E3\"},\"line\":{\"color\":\"white\"}},\"type\":\"table\"}],\"barpolar\":[{\"marker\":{\"line\":{\"color\":\"#E5ECF6\",\"width\":0.5},\"pattern\":{\"fillmode\":\"overlay\",\"size\":10,\"solidity\":0.2}},\"type\":\"barpolar\"}],\"pie\":[{\"automargin\":true,\"type\":\"pie\"}]},\"layout\":{\"autotypenumbers\":\"strict\",\"colorway\":[\"#636efa\",\"#EF553B\",\"#00cc96\",\"#ab63fa\",\"#FFA15A\",\"#19d3f3\",\"#FF6692\",\"#B6E880\",\"#FF97FF\",\"#FECB52\"],\"font\":{\"color\":\"#2a3f5f\"},\"hovermode\":\"closest\",\"hoverlabel\":{\"align\":\"left\"},\"paper_bgcolor\":\"white\",\"plot_bgcolor\":\"#E5ECF6\",\"polar\":{\"bgcolor\":\"#E5ECF6\",\"angularaxis\":{\"gridcolor\":\"white\",\"linecolor\":\"white\",\"ticks\":\"\"},\"radialaxis\":{\"gridcolor\":\"white\",\"linecolor\":\"white\",\"ticks\":\"\"}},\"ternary\":{\"bgcolor\":\"#E5ECF6\",\"aaxis\":{\"gridcolor\":\"white\",\"linecolor\":\"white\",\"ticks\":\"\"},\"baxis\":{\"gridcolor\":\"white\",\"linecolor\":\"white\",\"ticks\":\"\"},\"caxis\":{\"gridcolor\":\"white\",\"linecolor\":\"white\",\"ticks\":\"\"}},\"coloraxis\":{\"colorbar\":{\"outlinewidth\":0,\"ticks\":\"\"}},\"colorscale\":{\"sequential\":[[0.0,\"#0d0887\"],[0.1111111111111111,\"#46039f\"],[0.2222222222222222,\"#7201a8\"],[0.3333333333333333,\"#9c179e\"],[0.4444444444444444,\"#bd3786\"],[0.5555555555555556,\"#d8576b\"],[0.6666666666666666,\"#ed7953\"],[0.7777777777777778,\"#fb9f3a\"],[0.8888888888888888,\"#fdca26\"],[1.0,\"#f0f921\"]],\"sequentialminus\":[[0.0,\"#0d0887\"],[0.1111111111111111,\"#46039f\"],[0.2222222222222222,\"#7201a8\"],[0.3333333333333333,\"#9c179e\"],[0.4444444444444444,\"#bd3786\"],[0.5555555555555556,\"#d8576b\"],[0.6666666666666666,\"#ed7953\"],[0.7777777777777778,\"#fb9f3a\"],[0.8888888888888888,\"#fdca26\"],[1.0,\"#f0f921\"]],\"diverging\":[[0,\"#8e0152\"],[0.1,\"#c51b7d\"],[0.2,\"#de77ae\"],[0.3,\"#f1b6da\"],[0.4,\"#fde0ef\"],[0.5,\"#f7f7f7\"],[0.6,\"#e6f5d0\"],[0.7,\"#b8e186\"],[0.8,\"#7fbc41\"],[0.9,\"#4d9221\"],[1,\"#276419\"]]},\"xaxis\":{\"gridcolor\":\"white\",\"linecolor\":\"white\",\"ticks\":\"\",\"title\":{\"standoff\":15},\"zerolinecolor\":\"white\",\"automargin\":true,\"zerolinewidth\":2},\"yaxis\":{\"gridcolor\":\"white\",\"linecolor\":\"white\",\"ticks\":\"\",\"title\":{\"standoff\":15},\"zerolinecolor\":\"white\",\"automargin\":true,\"zerolinewidth\":2},\"scene\":{\"xaxis\":{\"backgroundcolor\":\"#E5ECF6\",\"gridcolor\":\"white\",\"linecolor\":\"white\",\"showbackground\":true,\"ticks\":\"\",\"zerolinecolor\":\"white\",\"gridwidth\":2},\"yaxis\":{\"backgroundcolor\":\"#E5ECF6\",\"gridcolor\":\"white\",\"linecolor\":\"white\",\"showbackground\":true,\"ticks\":\"\",\"zerolinecolor\":\"white\",\"gridwidth\":2},\"zaxis\":{\"backgroundcolor\":\"#E5ECF6\",\"gridcolor\":\"white\",\"linecolor\":\"white\",\"showbackground\":true,\"ticks\":\"\",\"zerolinecolor\":\"white\",\"gridwidth\":2}},\"shapedefaults\":{\"line\":{\"color\":\"#2a3f5f\"}},\"annotationdefaults\":{\"arrowcolor\":\"#2a3f5f\",\"arrowhead\":0,\"arrowwidth\":1},\"geo\":{\"bgcolor\":\"white\",\"landcolor\":\"#E5ECF6\",\"subunitcolor\":\"white\",\"showland\":true,\"showlakes\":true,\"lakecolor\":\"white\"},\"title\":{\"x\":0.05},\"mapbox\":{\"style\":\"light\"}}},\"geo\":{\"domain\":{\"x\":[0.0,1.0],\"y\":[0.0,1.0]},\"center\":{}},\"legend\":{\"tracegroupgap\":0},\"margin\":{\"t\":60},\"title\":{\"text\":\"Stations\"}},                        {\"responsive\": true}                    ).then(function(){\n",
       "                            \n",
       "var gd = document.getElementById('1bc65013-9a76-46d5-a466-2defffff16e4');\n",
       "var x = new MutationObserver(function (mutations, observer) {{\n",
       "        var display = window.getComputedStyle(gd).display;\n",
       "        if (!display || display === 'none') {{\n",
       "            console.log([gd, 'removed!']);\n",
       "            Plotly.purge(gd);\n",
       "            observer.disconnect();\n",
       "        }}\n",
       "}});\n",
       "\n",
       "// Listen for the removal of the full notebook cells\n",
       "var notebookContainer = gd.closest('#notebook-container');\n",
       "if (notebookContainer) {{\n",
       "    x.observe(notebookContainer, {childList: true});\n",
       "}}\n",
       "\n",
       "// Listen for the clearing of the current output cell\n",
       "var outputEl = gd.closest('.output');\n",
       "if (outputEl) {{\n",
       "    x.observe(outputEl, {childList: true});\n",
       "}}\n",
       "\n",
       "                        })                };                });            </script>        </div>"
      ]
     },
     "metadata": {},
     "output_type": "display_data"
    }
   ],
   "source": [
    "# Map nodes:\n",
    "fig = px.scatter_geo(stations, \"LAT\", \"LONG\",\n",
    "#                      color=\"Status\", # which column to use to set the color of markers\n",
    "                     hover_name=stations[\"STATION NAME\"], # column added to hover information\n",
    "                     hover_data=[stations.index], \n",
    "                     )\n",
    "fig.update_layout(title=\"Stations\")\n",
    "fig.show()\n",
    "fig.write_html(\"ionosonde_map.html\", include_plotlyjs=\"cdn\")"
   ]
  },
  {
   "cell_type": "markdown",
   "id": "432cddc4",
   "metadata": {},
   "source": [
    "## Functions to read data: "
   ]
  },
  {
   "cell_type": "markdown",
   "id": "cf444a73",
   "metadata": {},
   "source": [
    "### Construct URL\n",
    "Example: https://lgdc.uml.edu/common/DIDBGetValues?ursiCode=BC840&charName=hmE&fromDate=2020.01.29&toDate=2020.01.30"
   ]
  },
  {
   "cell_type": "code",
   "execution_count": 17,
   "id": "3ed03394",
   "metadata": {},
   "outputs": [
    {
     "data": {
      "text/plain": [
       "'http://lgdc.uml.edu/common/DIDBGetValues?ursiCode=BC840&charName=hmE&fromDate=2020.01.29&toDate=2020.01.30'"
      ]
     },
     "execution_count": 17,
     "metadata": {},
     "output_type": "execute_result"
    }
   ],
   "source": [
    "# url = \"https://lgdc.uml.edu/common/DIDBGetValues?ursiCode=BC840&charName=hmE&fromDate=2020.01.29&toDate=2020.01.30\"\n",
    "\n",
    "import requests\n",
    "\n",
    "# Parameters:\n",
    "    # f0F2 f0F1 MD (MUF(D) /foF2) fmin f0ES fminF fminE foE fxI hF hF2 hE hEs hmE yE QF QE FF FE\n",
    "    # hmF2 hmF1 zhalfNm finEs yF2 yF2 TEC scaleF2 (scale height at F2 peak) B0 B1 D1 f0Ea\n",
    "    # hEa foP hP fbEs TypeEs\n",
    "\n",
    "def urlmaker(URSIcode, parameter, fromDate, toDate):\n",
    "    URL = 'http://lgdc.uml.edu/common/DIDBGetValues' + \\\n",
    "      '?ursiCode=' + URSIcode + \\\n",
    "      '&charName=' + parameter + \\\n",
    "      '&fromDate=' + fromDate + \\\n",
    "      '&toDate='   + toDate\n",
    "    return URL\n",
    "\n",
    "\n",
    "url = urlmaker(URSIcode = 'BC840', parameter = 'hmE', fromDate = '2020.01.29', toDate = '2020.01.30')\n",
    "url"
   ]
  },
  {
   "cell_type": "markdown",
   "id": "5708043f",
   "metadata": {},
   "source": [
    "### Read URL data"
   ]
  },
  {
   "cell_type": "code",
   "execution_count": 18,
   "id": "afcd9403",
   "metadata": {},
   "outputs": [],
   "source": [
    "def didread(url):\n",
    "    file = urllib.request.urlopen(url)\n",
    "\n",
    "    id = []                                                     # commented lines\n",
    "    ego = []                                                    # get it? as opposed to \"id\"? (I'm tired.)\n",
    "    for line in file:\n",
    "        decoded_line = line.decode(\"utf-8\")\n",
    "        if decoded_line.startswith(\"#\"):\n",
    "    #         print(decoded_line)\n",
    "            id.append(decoded_line)\n",
    "        else:\n",
    "            ego.append(decoded_line.split())\n",
    "    id                                                          # print header information\n",
    "\n",
    "    headers = id[len(id)-1]                                     # Pull headers from url file\n",
    "    headers.split()                                             \n",
    "    df = pd.DataFrame(ego)                                      # Create dataframe\n",
    "    df.columns = headers.split()\n",
    "    df=df.rename(columns = {'#Time':'Time'})                    # Fix column name\n",
    "    df['Time'] = pd.to_datetime(df['Time'])                     # Cast timestamp to datetime\n",
    "    return df"
   ]
  },
  {
   "cell_type": "markdown",
   "id": "5692341c",
   "metadata": {},
   "source": [
    "### Plot data from multiple ionosondes for a given date and parameter:\n",
    "\n",
    "First, set your parameters of interest in this cell:"
   ]
  },
  {
   "cell_type": "code",
   "execution_count": 19,
   "id": "929770f3",
   "metadata": {},
   "outputs": [],
   "source": [
    "# This stuff's not going to change from station to station:\n",
    "parameter = 'hmF2'\n",
    "fromDate = '2022.05.06' \n",
    "toDate = '2022.05.07'\n",
    "cadence = '1T'                                      # '5T' is a 5 minute cadence\n",
    "\n",
    "# Let's confine our search to just a couple of stations. Comment this line out if you want to see ALL of them. \n",
    "stations = stations.loc[stations['STATION NAME'].isin(['AUSTIN','BOULDER'])]"
   ]
  },
  {
   "cell_type": "code",
   "execution_count": 20,
   "id": "2194fd98",
   "metadata": {},
   "outputs": [
    {
     "name": "stdout",
     "output_type": "stream",
     "text": [
      "Merging data...AU930: AUSTIN\n",
      "Merging data...BC840: BOULDER\n",
      "\n",
      "Here is the hmF2 data you requested:\n"
     ]
    },
    {
     "data": {
      "text/html": [
       "<div>\n",
       "<style scoped>\n",
       "    .dataframe tbody tr th:only-of-type {\n",
       "        vertical-align: middle;\n",
       "    }\n",
       "\n",
       "    .dataframe tbody tr th {\n",
       "        vertical-align: top;\n",
       "    }\n",
       "\n",
       "    .dataframe thead th {\n",
       "        text-align: right;\n",
       "    }\n",
       "</style>\n",
       "<table border=\"1\" class=\"dataframe\">\n",
       "  <thead>\n",
       "    <tr style=\"text-align: right;\">\n",
       "      <th></th>\n",
       "      <th>AUSTIN</th>\n",
       "      <th>BOULDER</th>\n",
       "    </tr>\n",
       "    <tr>\n",
       "      <th>Time</th>\n",
       "      <th></th>\n",
       "      <th></th>\n",
       "    </tr>\n",
       "  </thead>\n",
       "  <tbody>\n",
       "    <tr>\n",
       "      <th>2022-05-06 00:00:00+00:00</th>\n",
       "      <td>NaN</td>\n",
       "      <td>NaN</td>\n",
       "    </tr>\n",
       "    <tr>\n",
       "      <th>2022-05-06 00:05:00+00:00</th>\n",
       "      <td>NaN</td>\n",
       "      <td>NaN</td>\n",
       "    </tr>\n",
       "    <tr>\n",
       "      <th>2022-05-06 00:10:00+00:00</th>\n",
       "      <td>NaN</td>\n",
       "      <td>NaN</td>\n",
       "    </tr>\n",
       "    <tr>\n",
       "      <th>2022-05-06 00:15:00+00:00</th>\n",
       "      <td>NaN</td>\n",
       "      <td>NaN</td>\n",
       "    </tr>\n",
       "    <tr>\n",
       "      <th>2022-05-06 00:20:00+00:00</th>\n",
       "      <td>NaN</td>\n",
       "      <td>NaN</td>\n",
       "    </tr>\n",
       "    <tr>\n",
       "      <th>...</th>\n",
       "      <td>...</td>\n",
       "      <td>...</td>\n",
       "    </tr>\n",
       "    <tr>\n",
       "      <th>2022-05-06 19:10:05+00:00</th>\n",
       "      <td>NaN</td>\n",
       "      <td>267.2</td>\n",
       "    </tr>\n",
       "    <tr>\n",
       "      <th>2022-05-06 19:15:05+00:00</th>\n",
       "      <td>NaN</td>\n",
       "      <td>280.3</td>\n",
       "    </tr>\n",
       "    <tr>\n",
       "      <th>2022-05-06 20:10:05+00:00</th>\n",
       "      <td>NaN</td>\n",
       "      <td>276.2</td>\n",
       "    </tr>\n",
       "    <tr>\n",
       "      <th>2022-05-06 20:25:05+00:00</th>\n",
       "      <td>NaN</td>\n",
       "      <td>271.6</td>\n",
       "    </tr>\n",
       "    <tr>\n",
       "      <th>2022-05-06 22:05:05+00:00</th>\n",
       "      <td>NaN</td>\n",
       "      <td>281.4</td>\n",
       "    </tr>\n",
       "  </tbody>\n",
       "</table>\n",
       "<p>564 rows × 2 columns</p>\n",
       "</div>"
      ],
      "text/plain": [
       "                          AUSTIN BOULDER\n",
       "Time                                    \n",
       "2022-05-06 00:00:00+00:00    NaN     NaN\n",
       "2022-05-06 00:05:00+00:00    NaN     NaN\n",
       "2022-05-06 00:10:00+00:00    NaN     NaN\n",
       "2022-05-06 00:15:00+00:00    NaN     NaN\n",
       "2022-05-06 00:20:00+00:00    NaN     NaN\n",
       "...                          ...     ...\n",
       "2022-05-06 19:10:05+00:00    NaN   267.2\n",
       "2022-05-06 19:15:05+00:00    NaN   280.3\n",
       "2022-05-06 20:10:05+00:00    NaN   276.2\n",
       "2022-05-06 20:25:05+00:00    NaN   271.6\n",
       "2022-05-06 22:05:05+00:00    NaN   281.4\n",
       "\n",
       "[564 rows x 2 columns]"
      ]
     },
     "execution_count": 20,
     "metadata": {},
     "output_type": "execute_result"
    }
   ],
   "source": [
    "# How to generate df for a single station and set of parameters:\n",
    "# df = didread(urlmaker(URSIcode = 'BC840', parameter = 'hmE', fromDate = '2020.01.29', toDate = '2020.01.30'))\n",
    "\n",
    "# Preallocation:\n",
    "df = didread(urlmaker(URSIcode = 'AT138', parameter = parameter, fromDate = fromDate, toDate = toDate))\n",
    "df = df.drop(columns = ['CS', 'QD'])\n",
    "df['Time']= pd.to_datetime(df['Time']) # cast to datetime\n",
    "df = df.set_index('Time')\n",
    "pd.DataFrame.resample(df, cadence)\n",
    "\n",
    "\n",
    "# Iterating through all the ionosondes: \n",
    "for station in stations.index:\n",
    "    try:\n",
    "        df1 = didread(urlmaker(URSIcode = station, parameter = parameter, fromDate = fromDate, toDate = toDate))\n",
    "        foo = stations.loc[stations.index==station]\n",
    "        df1 = df1.rename(columns = {str(parameter):foo.iloc[0, 1]})\n",
    "        df1 = df1.drop(columns = ['CS', 'QD'])\n",
    "        \n",
    "        df1['Time']= pd.to_datetime(df1['Time']) # cast to datetime\n",
    "        df1 = df1.set_index('Time')\n",
    "        pd.DataFrame.resample(df1, cadence)\n",
    "#         df1 = df1.sort_values(by=\"Time\")        # not sure this line actually does anything...\n",
    "        \n",
    "        print('Merging data...' + station +\": \" + foo.iloc[0, 1])\n",
    "#         df1 = df1.sort_values(by=\"Time\")\n",
    "        df = pd.merge(df, df1, on = 'Time', how='outer')  \n",
    "#         df = pd.join(df, df1)\n",
    "    except:\n",
    "        continue\n",
    "\n",
    "df = df.drop(columns = [str(parameter)])                          # stone soup\n",
    "# df = df.set_index('Time')\n",
    "# df = df.sort_values(by=\"Time\")\n",
    "\n",
    "print('\\nHere is the ' + str(parameter) + ' data you requested:')\n",
    "df"
   ]
  },
  {
   "cell_type": "code",
   "execution_count": 21,
   "id": "bec6c107",
   "metadata": {},
   "outputs": [
    {
     "name": "stdout",
     "output_type": "stream",
     "text": [
      "<class 'pandas.core.frame.DataFrame'>\n",
      "DatetimeIndex: 564 entries, 2022-05-06 00:00:00+00:00 to 2022-05-06 22:05:05+00:00\n",
      "Data columns (total 2 columns):\n",
      " #   Column   Non-Null Count  Dtype  \n",
      "---  ------   --------------  -----  \n",
      " 0   AUSTIN   268 non-null    float64\n",
      " 1   BOULDER  252 non-null    float64\n",
      "dtypes: float64(2)\n",
      "memory usage: 13.2 KB\n",
      "None\n"
     ]
    },
    {
     "data": {
      "application/vnd.plotly.v1+json": {
       "config": {
        "plotlyServerURL": "https://plot.ly"
       },
       "data": [
        {
         "hovertemplate": "variable=AUSTIN<br>Time=%{x}<br>value=%{y}<extra></extra>",
         "legendgroup": "AUSTIN",
         "line": {
          "color": "#636efa",
          "dash": "solid"
         },
         "marker": {
          "symbol": "circle"
         },
         "mode": "lines",
         "name": "AUSTIN",
         "showlegend": true,
         "type": "scattergl",
         "x": [
          "2022-05-06T00:00:00+00:00",
          "2022-05-06T00:05:00+00:00",
          "2022-05-06T00:10:00+00:00",
          "2022-05-06T00:15:00+00:00",
          "2022-05-06T00:20:00+00:00",
          "2022-05-06T00:25:00+00:00",
          "2022-05-06T00:30:00+00:00",
          "2022-05-06T00:35:00+00:00",
          "2022-05-06T00:40:00+00:00",
          "2022-05-06T00:45:00+00:00",
          "2022-05-06T00:50:00+00:00",
          "2022-05-06T00:55:00+00:00",
          "2022-05-06T01:00:00+00:00",
          "2022-05-06T01:05:00+00:00",
          "2022-05-06T01:10:00+00:00",
          "2022-05-06T01:15:00+00:00",
          "2022-05-06T01:20:00+00:00",
          "2022-05-06T01:25:00+00:00",
          "2022-05-06T01:30:00+00:00",
          "2022-05-06T01:35:00+00:00",
          "2022-05-06T01:40:00+00:00",
          "2022-05-06T01:45:00+00:00",
          "2022-05-06T01:50:00+00:00",
          "2022-05-06T01:55:00+00:00",
          "2022-05-06T02:00:00+00:00",
          "2022-05-06T02:05:00+00:00",
          "2022-05-06T02:10:00+00:00",
          "2022-05-06T02:15:00+00:00",
          "2022-05-06T02:20:00+00:00",
          "2022-05-06T02:25:00+00:00",
          "2022-05-06T02:30:00+00:00",
          "2022-05-06T02:35:00+00:00",
          "2022-05-06T02:40:00+00:00",
          "2022-05-06T02:45:00+00:00",
          "2022-05-06T02:50:00+00:00",
          "2022-05-06T02:55:00+00:00",
          "2022-05-06T03:00:00+00:00",
          "2022-05-06T03:05:00+00:00",
          "2022-05-06T03:10:00+00:00",
          "2022-05-06T03:15:00+00:00",
          "2022-05-06T03:20:00+00:00",
          "2022-05-06T03:25:00+00:00",
          "2022-05-06T03:30:00+00:00",
          "2022-05-06T03:35:00+00:00",
          "2022-05-06T03:40:00+00:00",
          "2022-05-06T03:45:00+00:00",
          "2022-05-06T03:50:00+00:00",
          "2022-05-06T03:55:00+00:00",
          "2022-05-06T04:00:00+00:00",
          "2022-05-06T04:05:00+00:00",
          "2022-05-06T04:10:00+00:00",
          "2022-05-06T04:15:00+00:00",
          "2022-05-06T04:20:00+00:00",
          "2022-05-06T04:25:00+00:00",
          "2022-05-06T04:30:00+00:00",
          "2022-05-06T04:35:00+00:00",
          "2022-05-06T04:40:00+00:00",
          "2022-05-06T04:45:00+00:00",
          "2022-05-06T04:50:00+00:00",
          "2022-05-06T04:55:00+00:00",
          "2022-05-06T05:00:00+00:00",
          "2022-05-06T05:05:00+00:00",
          "2022-05-06T05:10:00+00:00",
          "2022-05-06T05:15:00+00:00",
          "2022-05-06T05:20:00+00:00",
          "2022-05-06T05:25:00+00:00",
          "2022-05-06T05:30:00+00:00",
          "2022-05-06T05:35:00+00:00",
          "2022-05-06T05:40:00+00:00",
          "2022-05-06T05:45:00+00:00",
          "2022-05-06T05:50:00+00:00",
          "2022-05-06T05:55:00+00:00",
          "2022-05-06T06:00:00+00:00",
          "2022-05-06T06:05:00+00:00",
          "2022-05-06T06:10:00+00:00",
          "2022-05-06T06:15:00+00:00",
          "2022-05-06T06:20:00+00:00",
          "2022-05-06T06:25:00+00:00",
          "2022-05-06T06:30:00+00:00",
          "2022-05-06T06:35:00+00:00",
          "2022-05-06T06:40:00+00:00",
          "2022-05-06T06:45:00+00:00",
          "2022-05-06T06:50:00+00:00",
          "2022-05-06T06:55:00+00:00",
          "2022-05-06T07:00:00+00:00",
          "2022-05-06T07:05:00+00:00",
          "2022-05-06T07:10:00+00:00",
          "2022-05-06T07:15:00+00:00",
          "2022-05-06T07:20:00+00:00",
          "2022-05-06T07:25:00+00:00",
          "2022-05-06T07:30:00+00:00",
          "2022-05-06T07:35:00+00:00",
          "2022-05-06T07:40:00+00:00",
          "2022-05-06T07:45:00+00:00",
          "2022-05-06T07:50:00+00:00",
          "2022-05-06T07:55:00+00:00",
          "2022-05-06T08:00:00+00:00",
          "2022-05-06T08:05:00+00:00",
          "2022-05-06T08:10:00+00:00",
          "2022-05-06T08:15:00+00:00",
          "2022-05-06T08:20:00+00:00",
          "2022-05-06T08:25:00+00:00",
          "2022-05-06T08:30:00+00:00",
          "2022-05-06T08:35:00+00:00",
          "2022-05-06T08:40:00+00:00",
          "2022-05-06T08:45:00+00:00",
          "2022-05-06T08:50:00+00:00",
          "2022-05-06T08:55:00+00:00",
          "2022-05-06T09:00:00+00:00",
          "2022-05-06T09:05:00+00:00",
          "2022-05-06T09:10:00+00:00",
          "2022-05-06T09:15:00+00:00",
          "2022-05-06T09:20:00+00:00",
          "2022-05-06T09:25:00+00:00",
          "2022-05-06T09:30:00+00:00",
          "2022-05-06T09:35:00+00:00",
          "2022-05-06T09:40:00+00:00",
          "2022-05-06T09:45:00+00:00",
          "2022-05-06T09:50:00+00:00",
          "2022-05-06T09:55:00+00:00",
          "2022-05-06T10:00:00+00:00",
          "2022-05-06T10:05:00+00:00",
          "2022-05-06T10:20:00+00:00",
          "2022-05-06T10:30:00+00:00",
          "2022-05-06T10:35:00+00:00",
          "2022-05-06T10:40:00+00:00",
          "2022-05-06T10:45:00+00:00",
          "2022-05-06T10:50:00+00:00",
          "2022-05-06T10:55:00+00:00",
          "2022-05-06T11:00:00+00:00",
          "2022-05-06T11:05:00+00:00",
          "2022-05-06T11:10:00+00:00",
          "2022-05-06T11:15:00+00:00",
          "2022-05-06T11:20:00+00:00",
          "2022-05-06T11:25:00+00:00",
          "2022-05-06T11:30:00+00:00",
          "2022-05-06T11:35:00+00:00",
          "2022-05-06T11:40:00+00:00",
          "2022-05-06T11:45:00+00:00",
          "2022-05-06T11:50:00+00:00",
          "2022-05-06T11:55:00+00:00",
          "2022-05-06T12:00:00+00:00",
          "2022-05-06T12:05:00+00:00",
          "2022-05-06T12:10:00+00:00",
          "2022-05-06T12:15:00+00:00",
          "2022-05-06T12:20:00+00:00",
          "2022-05-06T12:25:00+00:00",
          "2022-05-06T12:30:00+00:00",
          "2022-05-06T12:35:00+00:00",
          "2022-05-06T12:40:00+00:00",
          "2022-05-06T12:45:00+00:00",
          "2022-05-06T12:50:00+00:00",
          "2022-05-06T12:55:00+00:00",
          "2022-05-06T13:00:00+00:00",
          "2022-05-06T13:05:00+00:00",
          "2022-05-06T13:10:00+00:00",
          "2022-05-06T13:15:00+00:00",
          "2022-05-06T13:20:00+00:00",
          "2022-05-06T13:25:00+00:00",
          "2022-05-06T13:30:00+00:00",
          "2022-05-06T13:35:00+00:00",
          "2022-05-06T13:40:00+00:00",
          "2022-05-06T13:45:00+00:00",
          "2022-05-06T13:50:00+00:00",
          "2022-05-06T13:55:00+00:00",
          "2022-05-06T14:00:00+00:00",
          "2022-05-06T14:05:00+00:00",
          "2022-05-06T14:10:00+00:00",
          "2022-05-06T14:15:00+00:00",
          "2022-05-06T14:20:00+00:00",
          "2022-05-06T14:25:00+00:00",
          "2022-05-06T14:30:00+00:00",
          "2022-05-06T14:35:00+00:00",
          "2022-05-06T14:40:00+00:00",
          "2022-05-06T14:45:00+00:00",
          "2022-05-06T14:50:00+00:00",
          "2022-05-06T14:55:00+00:00",
          "2022-05-06T15:00:00+00:00",
          "2022-05-06T15:05:00+00:00",
          "2022-05-06T15:10:00+00:00",
          "2022-05-06T15:15:00+00:00",
          "2022-05-06T15:20:00+00:00",
          "2022-05-06T15:25:00+00:00",
          "2022-05-06T15:30:00+00:00",
          "2022-05-06T15:35:00+00:00",
          "2022-05-06T15:40:00+00:00",
          "2022-05-06T15:45:00+00:00",
          "2022-05-06T15:50:00+00:00",
          "2022-05-06T15:55:00+00:00",
          "2022-05-06T16:00:00+00:00",
          "2022-05-06T16:05:00+00:00",
          "2022-05-06T16:10:00+00:00",
          "2022-05-06T16:15:00+00:00",
          "2022-05-06T16:20:00+00:00",
          "2022-05-06T16:25:00+00:00",
          "2022-05-06T16:30:00+00:00",
          "2022-05-06T16:35:00+00:00",
          "2022-05-06T16:40:00+00:00",
          "2022-05-06T16:45:00+00:00",
          "2022-05-06T16:50:00+00:00",
          "2022-05-06T16:55:00+00:00",
          "2022-05-06T17:00:00+00:00",
          "2022-05-06T17:05:00+00:00",
          "2022-05-06T17:10:00+00:00",
          "2022-05-06T17:15:00+00:00",
          "2022-05-06T17:20:00+00:00",
          "2022-05-06T17:25:00+00:00",
          "2022-05-06T17:30:00+00:00",
          "2022-05-06T17:35:00+00:00",
          "2022-05-06T17:40:00+00:00",
          "2022-05-06T17:45:00+00:00",
          "2022-05-06T17:50:00+00:00",
          "2022-05-06T17:55:00+00:00",
          "2022-05-06T18:00:00+00:00",
          "2022-05-06T18:05:00+00:00",
          "2022-05-06T18:10:00+00:00",
          "2022-05-06T18:15:00+00:00",
          "2022-05-06T18:20:00+00:00",
          "2022-05-06T18:25:00+00:00",
          "2022-05-06T18:30:00+00:00",
          "2022-05-06T18:45:00+00:00",
          "2022-05-06T18:55:00+00:00",
          "2022-05-06T19:00:00+00:00",
          "2022-05-06T19:05:00+00:00",
          "2022-05-06T19:10:00+00:00",
          "2022-05-06T19:15:00+00:00",
          "2022-05-06T19:20:00+00:00",
          "2022-05-06T19:25:00+00:00",
          "2022-05-06T19:30:00+00:00",
          "2022-05-06T19:35:00+00:00",
          "2022-05-06T19:40:00+00:00",
          "2022-05-06T19:45:00+00:00",
          "2022-05-06T19:50:00+00:00",
          "2022-05-06T19:55:00+00:00",
          "2022-05-06T20:00:00+00:00",
          "2022-05-06T20:05:00+00:00",
          "2022-05-06T20:10:00+00:00",
          "2022-05-06T20:15:00+00:00",
          "2022-05-06T20:20:00+00:00",
          "2022-05-06T20:25:00+00:00",
          "2022-05-06T20:30:00+00:00",
          "2022-05-06T20:35:00+00:00",
          "2022-05-06T20:40:00+00:00",
          "2022-05-06T20:45:00+00:00",
          "2022-05-06T20:50:00+00:00",
          "2022-05-06T20:55:00+00:00",
          "2022-05-06T21:00:00+00:00",
          "2022-05-06T21:05:00+00:00",
          "2022-05-06T21:10:00+00:00",
          "2022-05-06T21:15:00+00:00",
          "2022-05-06T21:20:00+00:00",
          "2022-05-06T21:25:00+00:00",
          "2022-05-06T21:30:00+00:00",
          "2022-05-06T21:35:00+00:00",
          "2022-05-06T21:40:00+00:00",
          "2022-05-06T21:45:00+00:00",
          "2022-05-06T21:50:00+00:00",
          "2022-05-06T21:55:00+00:00",
          "2022-05-06T22:00:00+00:00",
          "2022-05-06T22:05:00+00:00",
          "2022-05-06T22:10:00+00:00",
          "2022-05-06T22:15:00+00:00",
          "2022-05-06T22:20:00+00:00",
          "2022-05-06T22:25:00+00:00",
          "2022-05-06T22:30:00+00:00",
          "2022-05-06T22:35:00+00:00",
          "2022-05-06T22:40:00+00:00",
          "2022-05-06T22:45:00+00:00",
          "2022-05-06T22:50:00+00:00",
          "2022-05-06T22:55:00+00:00",
          "2022-05-06T23:00:00+00:00",
          "2022-05-06T23:05:00+00:00",
          "2022-05-06T23:10:00+00:00",
          "2022-05-06T23:15:00+00:00",
          "2022-05-06T23:20:00+00:00",
          "2022-05-06T23:25:00+00:00",
          "2022-05-06T23:30:00+00:00",
          "2022-05-06T23:35:00+00:00",
          "2022-05-06T23:40:00+00:00",
          "2022-05-06T23:45:00+00:00",
          "2022-05-06T23:50:00+00:00",
          "2022-05-07T00:00:00+00:00",
          "2022-05-06T00:00:05+00:00",
          "2022-05-06T00:05:05+00:00",
          "2022-05-06T00:10:05+00:00",
          "2022-05-06T00:15:05+00:00",
          "2022-05-06T00:20:05+00:00",
          "2022-05-06T00:25:05+00:00",
          "2022-05-06T00:30:05+00:00",
          "2022-05-06T00:35:05+00:00",
          "2022-05-06T00:40:05+00:00",
          "2022-05-06T00:45:05+00:00",
          "2022-05-06T00:50:05+00:00",
          "2022-05-06T00:55:05+00:00",
          "2022-05-06T01:00:05+00:00",
          "2022-05-06T01:05:05+00:00",
          "2022-05-06T01:10:05+00:00",
          "2022-05-06T01:15:05+00:00",
          "2022-05-06T01:20:05+00:00",
          "2022-05-06T01:25:05+00:00",
          "2022-05-06T01:30:05+00:00",
          "2022-05-06T01:35:05+00:00",
          "2022-05-06T01:40:05+00:00",
          "2022-05-06T01:45:05+00:00",
          "2022-05-06T01:50:05+00:00",
          "2022-05-06T01:55:05+00:00",
          "2022-05-06T02:00:05+00:00",
          "2022-05-06T02:05:05+00:00",
          "2022-05-06T02:10:05+00:00",
          "2022-05-06T02:15:05+00:00",
          "2022-05-06T02:20:05+00:00",
          "2022-05-06T02:25:05+00:00",
          "2022-05-06T02:30:05+00:00",
          "2022-05-06T02:35:05+00:00",
          "2022-05-06T02:40:05+00:00",
          "2022-05-06T02:45:05+00:00",
          "2022-05-06T02:50:05+00:00",
          "2022-05-06T02:55:05+00:00",
          "2022-05-06T03:00:05+00:00",
          "2022-05-06T03:05:05+00:00",
          "2022-05-06T03:10:05+00:00",
          "2022-05-06T03:15:05+00:00",
          "2022-05-06T03:20:05+00:00",
          "2022-05-06T03:25:05+00:00",
          "2022-05-06T03:30:05+00:00",
          "2022-05-06T03:35:05+00:00",
          "2022-05-06T03:40:05+00:00",
          "2022-05-06T03:45:05+00:00",
          "2022-05-06T03:50:05+00:00",
          "2022-05-06T03:55:05+00:00",
          "2022-05-06T04:00:05+00:00",
          "2022-05-06T04:05:05+00:00",
          "2022-05-06T04:10:05+00:00",
          "2022-05-06T04:15:05+00:00",
          "2022-05-06T04:20:05+00:00",
          "2022-05-06T04:25:05+00:00",
          "2022-05-06T04:30:05+00:00",
          "2022-05-06T04:35:05+00:00",
          "2022-05-06T04:40:05+00:00",
          "2022-05-06T04:45:05+00:00",
          "2022-05-06T04:50:05+00:00",
          "2022-05-06T04:55:05+00:00",
          "2022-05-06T05:00:05+00:00",
          "2022-05-06T05:05:05+00:00",
          "2022-05-06T05:10:05+00:00",
          "2022-05-06T05:15:05+00:00",
          "2022-05-06T05:20:05+00:00",
          "2022-05-06T05:25:05+00:00",
          "2022-05-06T05:30:05+00:00",
          "2022-05-06T05:35:05+00:00",
          "2022-05-06T05:40:05+00:00",
          "2022-05-06T05:45:05+00:00",
          "2022-05-06T05:50:05+00:00",
          "2022-05-06T05:55:05+00:00",
          "2022-05-06T06:00:05+00:00",
          "2022-05-06T06:05:05+00:00",
          "2022-05-06T06:10:05+00:00",
          "2022-05-06T06:15:05+00:00",
          "2022-05-06T06:20:05+00:00",
          "2022-05-06T06:25:05+00:00",
          "2022-05-06T06:30:05+00:00",
          "2022-05-06T06:35:05+00:00",
          "2022-05-06T06:40:05+00:00",
          "2022-05-06T06:45:05+00:00",
          "2022-05-06T06:50:05+00:00",
          "2022-05-06T06:55:05+00:00",
          "2022-05-06T07:00:05+00:00",
          "2022-05-06T07:05:05+00:00",
          "2022-05-06T07:10:05+00:00",
          "2022-05-06T07:15:05+00:00",
          "2022-05-06T07:20:05+00:00",
          "2022-05-06T07:25:05+00:00",
          "2022-05-06T07:30:05+00:00",
          "2022-05-06T07:35:05+00:00",
          "2022-05-06T07:40:05+00:00",
          "2022-05-06T07:45:05+00:00",
          "2022-05-06T07:50:05+00:00",
          "2022-05-06T07:55:05+00:00",
          "2022-05-06T08:00:05+00:00",
          "2022-05-06T08:05:05+00:00",
          "2022-05-06T08:10:05+00:00",
          "2022-05-06T08:15:05+00:00",
          "2022-05-06T08:20:05+00:00",
          "2022-05-06T08:25:05+00:00",
          "2022-05-06T08:30:05+00:00",
          "2022-05-06T08:35:05+00:00",
          "2022-05-06T08:40:05+00:00",
          "2022-05-06T08:45:05+00:00",
          "2022-05-06T08:50:05+00:00",
          "2022-05-06T08:55:05+00:00",
          "2022-05-06T09:00:05+00:00",
          "2022-05-06T09:05:05+00:00",
          "2022-05-06T09:10:05+00:00",
          "2022-05-06T09:15:05+00:00",
          "2022-05-06T09:20:05+00:00",
          "2022-05-06T09:25:05+00:00",
          "2022-05-06T09:30:05+00:00",
          "2022-05-06T09:35:05+00:00",
          "2022-05-06T09:40:05+00:00",
          "2022-05-06T09:45:05+00:00",
          "2022-05-06T09:50:05+00:00",
          "2022-05-06T09:55:05+00:00",
          "2022-05-06T10:00:05+00:00",
          "2022-05-06T10:05:05+00:00",
          "2022-05-06T10:10:05+00:00",
          "2022-05-06T10:15:05+00:00",
          "2022-05-06T10:20:05+00:00",
          "2022-05-06T10:25:05+00:00",
          "2022-05-06T10:30:05+00:00",
          "2022-05-06T10:35:05+00:00",
          "2022-05-06T10:40:05+00:00",
          "2022-05-06T10:45:05+00:00",
          "2022-05-06T10:50:05+00:00",
          "2022-05-06T10:55:05+00:00",
          "2022-05-06T11:00:05+00:00",
          "2022-05-06T11:05:05+00:00",
          "2022-05-06T11:10:05+00:00",
          "2022-05-06T11:15:05+00:00",
          "2022-05-06T11:20:05+00:00",
          "2022-05-06T11:25:05+00:00",
          "2022-05-06T11:30:05+00:00",
          "2022-05-06T11:35:05+00:00",
          "2022-05-06T11:40:05+00:00",
          "2022-05-06T11:45:05+00:00",
          "2022-05-06T11:50:05+00:00",
          "2022-05-06T11:55:05+00:00",
          "2022-05-06T12:00:05+00:00",
          "2022-05-06T12:05:05+00:00",
          "2022-05-06T12:10:05+00:00",
          "2022-05-06T12:15:05+00:00",
          "2022-05-06T12:20:05+00:00",
          "2022-05-06T12:25:05+00:00",
          "2022-05-06T12:30:05+00:00",
          "2022-05-06T12:35:05+00:00",
          "2022-05-06T12:40:05+00:00",
          "2022-05-06T12:45:05+00:00",
          "2022-05-06T12:50:05+00:00",
          "2022-05-06T12:55:05+00:00",
          "2022-05-06T13:00:05+00:00",
          "2022-05-06T13:05:05+00:00",
          "2022-05-06T13:10:05+00:00",
          "2022-05-06T13:15:05+00:00",
          "2022-05-06T13:20:05+00:00",
          "2022-05-06T13:25:05+00:00",
          "2022-05-06T13:30:05+00:00",
          "2022-05-06T13:35:05+00:00",
          "2022-05-06T13:40:05+00:00",
          "2022-05-06T13:45:05+00:00",
          "2022-05-06T13:50:05+00:00",
          "2022-05-06T13:55:05+00:00",
          "2022-05-06T14:00:05+00:00",
          "2022-05-06T14:05:05+00:00",
          "2022-05-06T14:10:05+00:00",
          "2022-05-06T14:15:05+00:00",
          "2022-05-06T14:20:05+00:00",
          "2022-05-06T14:25:05+00:00",
          "2022-05-06T14:30:05+00:00",
          "2022-05-06T14:35:05+00:00",
          "2022-05-06T14:40:05+00:00",
          "2022-05-06T14:45:05+00:00",
          "2022-05-06T14:50:05+00:00",
          "2022-05-06T15:05:05+00:00",
          "2022-05-06T15:10:05+00:00",
          "2022-05-06T15:15:05+00:00",
          "2022-05-06T15:25:05+00:00",
          "2022-05-06T15:30:05+00:00",
          "2022-05-06T15:35:05+00:00",
          "2022-05-06T15:45:05+00:00",
          "2022-05-06T15:50:05+00:00",
          "2022-05-06T15:55:05+00:00",
          "2022-05-06T16:00:05+00:00",
          "2022-05-06T16:05:05+00:00",
          "2022-05-06T16:10:05+00:00",
          "2022-05-06T16:20:05+00:00",
          "2022-05-06T16:30:05+00:00",
          "2022-05-06T16:45:05+00:00",
          "2022-05-06T16:50:05+00:00",
          "2022-05-06T17:05:05+00:00",
          "2022-05-06T17:10:05+00:00",
          "2022-05-06T17:20:05+00:00",
          "2022-05-06T17:35:05+00:00",
          "2022-05-06T17:40:05+00:00",
          "2022-05-06T17:45:05+00:00",
          "2022-05-06T17:50:05+00:00",
          "2022-05-06T17:55:05+00:00",
          "2022-05-06T18:00:05+00:00",
          "2022-05-06T18:05:05+00:00",
          "2022-05-06T18:10:05+00:00",
          "2022-05-06T18:15:05+00:00",
          "2022-05-06T18:20:05+00:00",
          "2022-05-06T18:25:05+00:00",
          "2022-05-06T18:30:05+00:00",
          "2022-05-06T18:35:05+00:00",
          "2022-05-06T18:45:05+00:00",
          "2022-05-06T18:50:05+00:00",
          "2022-05-06T18:55:05+00:00",
          "2022-05-06T19:00:05+00:00",
          "2022-05-06T19:05:05+00:00",
          "2022-05-06T19:20:05+00:00",
          "2022-05-06T19:25:05+00:00",
          "2022-05-06T19:30:05+00:00",
          "2022-05-06T19:35:05+00:00",
          "2022-05-06T19:40:05+00:00",
          "2022-05-06T19:45:05+00:00",
          "2022-05-06T19:50:05+00:00",
          "2022-05-06T19:55:05+00:00",
          "2022-05-06T20:00:05+00:00",
          "2022-05-06T20:05:05+00:00",
          "2022-05-06T20:15:05+00:00",
          "2022-05-06T20:20:05+00:00",
          "2022-05-06T20:30:05+00:00",
          "2022-05-06T20:40:05+00:00",
          "2022-05-06T20:45:05+00:00",
          "2022-05-06T20:50:05+00:00",
          "2022-05-06T20:55:05+00:00",
          "2022-05-06T21:00:05+00:00",
          "2022-05-06T21:05:05+00:00",
          "2022-05-06T21:10:05+00:00",
          "2022-05-06T21:15:05+00:00",
          "2022-05-06T21:20:05+00:00",
          "2022-05-06T21:25:05+00:00",
          "2022-05-06T21:30:05+00:00",
          "2022-05-06T21:35:05+00:00",
          "2022-05-06T21:40:05+00:00",
          "2022-05-06T21:45:05+00:00",
          "2022-05-06T21:50:05+00:00",
          "2022-05-06T21:55:05+00:00",
          "2022-05-06T22:00:05+00:00",
          "2022-05-06T22:10:05+00:00",
          "2022-05-06T22:15:05+00:00",
          "2022-05-06T22:20:05+00:00",
          "2022-05-06T22:25:05+00:00",
          "2022-05-06T22:30:05+00:00",
          "2022-05-06T22:35:05+00:00",
          "2022-05-06T22:40:05+00:00",
          "2022-05-06T22:45:05+00:00",
          "2022-05-06T22:50:05+00:00",
          "2022-05-06T22:55:05+00:00",
          "2022-05-06T23:00:05+00:00",
          "2022-05-06T23:05:05+00:00",
          "2022-05-06T23:10:05+00:00",
          "2022-05-06T23:15:05+00:00",
          "2022-05-06T23:20:05+00:00",
          "2022-05-06T23:25:05+00:00",
          "2022-05-06T23:30:05+00:00",
          "2022-05-06T23:35:05+00:00",
          "2022-05-06T23:40:05+00:00",
          "2022-05-06T23:45:05+00:00",
          "2022-05-06T23:50:05+00:00",
          "2022-05-06T23:55:05+00:00",
          "2022-05-06T03:30:26+00:00",
          "2022-05-06T08:00:28+00:00",
          "2022-05-06T14:55:05+00:00",
          "2022-05-06T15:20:05+00:00",
          "2022-05-06T16:25:05+00:00",
          "2022-05-06T16:40:05+00:00",
          "2022-05-06T17:25:05+00:00",
          "2022-05-06T17:30:05+00:00",
          "2022-05-06T18:40:05+00:00",
          "2022-05-06T19:10:05+00:00",
          "2022-05-06T19:15:05+00:00",
          "2022-05-06T20:10:05+00:00",
          "2022-05-06T20:25:05+00:00",
          "2022-05-06T22:05:05+00:00"
         ],
         "xaxis": "x",
         "y": [
          null,
          null,
          null,
          null,
          null,
          null,
          null,
          null,
          null,
          null,
          null,
          null,
          null,
          null,
          null,
          null,
          null,
          null,
          null,
          null,
          null,
          null,
          null,
          null,
          null,
          null,
          null,
          null,
          null,
          null,
          null,
          null,
          null,
          null,
          null,
          null,
          null,
          null,
          null,
          null,
          null,
          null,
          null,
          null,
          null,
          null,
          null,
          null,
          null,
          null,
          null,
          null,
          null,
          null,
          null,
          null,
          null,
          null,
          null,
          null,
          null,
          null,
          null,
          null,
          null,
          null,
          null,
          null,
          null,
          null,
          null,
          null,
          null,
          null,
          null,
          null,
          null,
          null,
          null,
          null,
          null,
          null,
          null,
          null,
          null,
          null,
          null,
          null,
          null,
          null,
          null,
          null,
          null,
          null,
          null,
          null,
          null,
          null,
          null,
          null,
          null,
          null,
          null,
          null,
          null,
          null,
          null,
          null,
          null,
          null,
          null,
          null,
          null,
          null,
          null,
          null,
          null,
          null,
          null,
          null,
          null,
          null,
          null,
          null,
          null,
          null,
          null,
          null,
          null,
          null,
          null,
          null,
          null,
          null,
          null,
          null,
          null,
          null,
          null,
          null,
          null,
          null,
          null,
          null,
          null,
          null,
          null,
          null,
          null,
          null,
          null,
          null,
          null,
          null,
          null,
          null,
          null,
          null,
          null,
          null,
          null,
          null,
          null,
          null,
          null,
          null,
          null,
          null,
          null,
          null,
          null,
          null,
          null,
          null,
          null,
          null,
          null,
          null,
          null,
          null,
          null,
          null,
          null,
          null,
          null,
          null,
          null,
          null,
          null,
          null,
          null,
          null,
          null,
          null,
          null,
          null,
          null,
          null,
          null,
          null,
          null,
          null,
          null,
          null,
          null,
          null,
          null,
          null,
          null,
          null,
          null,
          null,
          null,
          null,
          null,
          null,
          null,
          null,
          null,
          null,
          null,
          null,
          null,
          null,
          null,
          null,
          null,
          null,
          null,
          null,
          null,
          null,
          null,
          null,
          null,
          null,
          null,
          null,
          null,
          null,
          null,
          null,
          null,
          null,
          null,
          null,
          null,
          null,
          null,
          null,
          null,
          null,
          null,
          null,
          null,
          null,
          null,
          null,
          null,
          null,
          null,
          null,
          null,
          null,
          null,
          null,
          null,
          null,
          null,
          null,
          null,
          null,
          null,
          null,
          null,
          null,
          null,
          null,
          null,
          null,
          null,
          null,
          285,
          281.5,
          281.3,
          278.1,
          282.4,
          282.8,
          282.9,
          283.9,
          277.4,
          275.6,
          277.7,
          281.2,
          279.9,
          273.9,
          278.9,
          281.7,
          275,
          275.4,
          281.1,
          282,
          281.8,
          275.3,
          272.3,
          271.2,
          268.4,
          286.6,
          263.4,
          270.9,
          259.8,
          257,
          263.4,
          292.3,
          264.9,
          262.1,
          275.7,
          274,
          275.5,
          278.8,
          299.3,
          310.7,
          274.7,
          281.1,
          276.1,
          279.7,
          282.7,
          279.2,
          312.2,
          312.2,
          320.1,
          342.7,
          329.9,
          328.1,
          346.2,
          344.8,
          350.4,
          345.2,
          355.7,
          332.8,
          353.4,
          345.3,
          341.2,
          349.8,
          344.3,
          341,
          352,
          338.7,
          340.8,
          330,
          362.2,
          326.7,
          323.3,
          337.8,
          346,
          329.4,
          345.2,
          318.9,
          336,
          338.8,
          340.5,
          331.1,
          342.1,
          348.6,
          341.1,
          344.8,
          341.6,
          320.2,
          347.5,
          342.3,
          354.6,
          351.7,
          335.2,
          340.7,
          347.5,
          343.8,
          312.8,
          350.7,
          346.9,
          350,
          345.6,
          347.2,
          353.5,
          355.3,
          351.3,
          353.1,
          364.1,
          359.2,
          366.6,
          356.2,
          351.7,
          341,
          361.7,
          373.5,
          354.5,
          353.7,
          357.5,
          355.4,
          362.7,
          350.8,
          351.5,
          361.1,
          348.1,
          354.1,
          368.4,
          350.7,
          351.7,
          354,
          349.4,
          354.9,
          318.7,
          344.2,
          335,
          323.6,
          312,
          324.6,
          331.2,
          319,
          310.2,
          308.3,
          303.7,
          289.8,
          280.2,
          269.6,
          260,
          254.3,
          244.3,
          240.7,
          241.3,
          235.8,
          229,
          225.5,
          231.7,
          223.9,
          226.3,
          216.7,
          226,
          219.7,
          224.2,
          220.5,
          219,
          203.9,
          231.6,
          223.5,
          227.5,
          241.4,
          247.7,
          234.2,
          225.9,
          225.5,
          232.6,
          248.4,
          236.8,
          235.6,
          240.4,
          242.1,
          218.2,
          225.1,
          230.9,
          233.2,
          237.7,
          244,
          223.6,
          251.9,
          264.3,
          280.5,
          256.5,
          237,
          249.4,
          271.5,
          239.8,
          259.3,
          270.7,
          255.5,
          278,
          273.5,
          265.4,
          278.2,
          290.5,
          271.7,
          268.4,
          281.8,
          299.9,
          247.6,
          297.1,
          302,
          280.5,
          271.8,
          312.6,
          305.3,
          249.8,
          299.7,
          274.2,
          313.9,
          306.5,
          313.8,
          288.5,
          281.5,
          291.3,
          306.1,
          262.1,
          306,
          284.1,
          307.5,
          312.7,
          277.9,
          297.6,
          309.9,
          307.7,
          305,
          297.5,
          299.7,
          315.3,
          310.1,
          240.6,
          257.8,
          243.5,
          265.2,
          310.9,
          290.2,
          297.6,
          276.8,
          270.9,
          280.7,
          331.3,
          267.3,
          294.3,
          291.7,
          257.2,
          269.8,
          280.5,
          288.6,
          294.2,
          252.6,
          263.7,
          285.8,
          279.8,
          287.6,
          293.9,
          272.9,
          258.2,
          283,
          299.3,
          282.4,
          278.8,
          286.6,
          286.8,
          303.2,
          286.6,
          278.2,
          null,
          null,
          null,
          null,
          null,
          null,
          null,
          null,
          null,
          null,
          null,
          null,
          null,
          null
         ],
         "yaxis": "y"
        },
        {
         "hovertemplate": "variable=BOULDER<br>Time=%{x}<br>value=%{y}<extra></extra>",
         "legendgroup": "BOULDER",
         "line": {
          "color": "#EF553B",
          "dash": "solid"
         },
         "marker": {
          "symbol": "circle"
         },
         "mode": "lines",
         "name": "BOULDER",
         "showlegend": true,
         "type": "scattergl",
         "x": [
          "2022-05-06T00:00:00+00:00",
          "2022-05-06T00:05:00+00:00",
          "2022-05-06T00:10:00+00:00",
          "2022-05-06T00:15:00+00:00",
          "2022-05-06T00:20:00+00:00",
          "2022-05-06T00:25:00+00:00",
          "2022-05-06T00:30:00+00:00",
          "2022-05-06T00:35:00+00:00",
          "2022-05-06T00:40:00+00:00",
          "2022-05-06T00:45:00+00:00",
          "2022-05-06T00:50:00+00:00",
          "2022-05-06T00:55:00+00:00",
          "2022-05-06T01:00:00+00:00",
          "2022-05-06T01:05:00+00:00",
          "2022-05-06T01:10:00+00:00",
          "2022-05-06T01:15:00+00:00",
          "2022-05-06T01:20:00+00:00",
          "2022-05-06T01:25:00+00:00",
          "2022-05-06T01:30:00+00:00",
          "2022-05-06T01:35:00+00:00",
          "2022-05-06T01:40:00+00:00",
          "2022-05-06T01:45:00+00:00",
          "2022-05-06T01:50:00+00:00",
          "2022-05-06T01:55:00+00:00",
          "2022-05-06T02:00:00+00:00",
          "2022-05-06T02:05:00+00:00",
          "2022-05-06T02:10:00+00:00",
          "2022-05-06T02:15:00+00:00",
          "2022-05-06T02:20:00+00:00",
          "2022-05-06T02:25:00+00:00",
          "2022-05-06T02:30:00+00:00",
          "2022-05-06T02:35:00+00:00",
          "2022-05-06T02:40:00+00:00",
          "2022-05-06T02:45:00+00:00",
          "2022-05-06T02:50:00+00:00",
          "2022-05-06T02:55:00+00:00",
          "2022-05-06T03:00:00+00:00",
          "2022-05-06T03:05:00+00:00",
          "2022-05-06T03:10:00+00:00",
          "2022-05-06T03:15:00+00:00",
          "2022-05-06T03:20:00+00:00",
          "2022-05-06T03:25:00+00:00",
          "2022-05-06T03:30:00+00:00",
          "2022-05-06T03:35:00+00:00",
          "2022-05-06T03:40:00+00:00",
          "2022-05-06T03:45:00+00:00",
          "2022-05-06T03:50:00+00:00",
          "2022-05-06T03:55:00+00:00",
          "2022-05-06T04:00:00+00:00",
          "2022-05-06T04:05:00+00:00",
          "2022-05-06T04:10:00+00:00",
          "2022-05-06T04:15:00+00:00",
          "2022-05-06T04:20:00+00:00",
          "2022-05-06T04:25:00+00:00",
          "2022-05-06T04:30:00+00:00",
          "2022-05-06T04:35:00+00:00",
          "2022-05-06T04:40:00+00:00",
          "2022-05-06T04:45:00+00:00",
          "2022-05-06T04:50:00+00:00",
          "2022-05-06T04:55:00+00:00",
          "2022-05-06T05:00:00+00:00",
          "2022-05-06T05:05:00+00:00",
          "2022-05-06T05:10:00+00:00",
          "2022-05-06T05:15:00+00:00",
          "2022-05-06T05:20:00+00:00",
          "2022-05-06T05:25:00+00:00",
          "2022-05-06T05:30:00+00:00",
          "2022-05-06T05:35:00+00:00",
          "2022-05-06T05:40:00+00:00",
          "2022-05-06T05:45:00+00:00",
          "2022-05-06T05:50:00+00:00",
          "2022-05-06T05:55:00+00:00",
          "2022-05-06T06:00:00+00:00",
          "2022-05-06T06:05:00+00:00",
          "2022-05-06T06:10:00+00:00",
          "2022-05-06T06:15:00+00:00",
          "2022-05-06T06:20:00+00:00",
          "2022-05-06T06:25:00+00:00",
          "2022-05-06T06:30:00+00:00",
          "2022-05-06T06:35:00+00:00",
          "2022-05-06T06:40:00+00:00",
          "2022-05-06T06:45:00+00:00",
          "2022-05-06T06:50:00+00:00",
          "2022-05-06T06:55:00+00:00",
          "2022-05-06T07:00:00+00:00",
          "2022-05-06T07:05:00+00:00",
          "2022-05-06T07:10:00+00:00",
          "2022-05-06T07:15:00+00:00",
          "2022-05-06T07:20:00+00:00",
          "2022-05-06T07:25:00+00:00",
          "2022-05-06T07:30:00+00:00",
          "2022-05-06T07:35:00+00:00",
          "2022-05-06T07:40:00+00:00",
          "2022-05-06T07:45:00+00:00",
          "2022-05-06T07:50:00+00:00",
          "2022-05-06T07:55:00+00:00",
          "2022-05-06T08:00:00+00:00",
          "2022-05-06T08:05:00+00:00",
          "2022-05-06T08:10:00+00:00",
          "2022-05-06T08:15:00+00:00",
          "2022-05-06T08:20:00+00:00",
          "2022-05-06T08:25:00+00:00",
          "2022-05-06T08:30:00+00:00",
          "2022-05-06T08:35:00+00:00",
          "2022-05-06T08:40:00+00:00",
          "2022-05-06T08:45:00+00:00",
          "2022-05-06T08:50:00+00:00",
          "2022-05-06T08:55:00+00:00",
          "2022-05-06T09:00:00+00:00",
          "2022-05-06T09:05:00+00:00",
          "2022-05-06T09:10:00+00:00",
          "2022-05-06T09:15:00+00:00",
          "2022-05-06T09:20:00+00:00",
          "2022-05-06T09:25:00+00:00",
          "2022-05-06T09:30:00+00:00",
          "2022-05-06T09:35:00+00:00",
          "2022-05-06T09:40:00+00:00",
          "2022-05-06T09:45:00+00:00",
          "2022-05-06T09:50:00+00:00",
          "2022-05-06T09:55:00+00:00",
          "2022-05-06T10:00:00+00:00",
          "2022-05-06T10:05:00+00:00",
          "2022-05-06T10:20:00+00:00",
          "2022-05-06T10:30:00+00:00",
          "2022-05-06T10:35:00+00:00",
          "2022-05-06T10:40:00+00:00",
          "2022-05-06T10:45:00+00:00",
          "2022-05-06T10:50:00+00:00",
          "2022-05-06T10:55:00+00:00",
          "2022-05-06T11:00:00+00:00",
          "2022-05-06T11:05:00+00:00",
          "2022-05-06T11:10:00+00:00",
          "2022-05-06T11:15:00+00:00",
          "2022-05-06T11:20:00+00:00",
          "2022-05-06T11:25:00+00:00",
          "2022-05-06T11:30:00+00:00",
          "2022-05-06T11:35:00+00:00",
          "2022-05-06T11:40:00+00:00",
          "2022-05-06T11:45:00+00:00",
          "2022-05-06T11:50:00+00:00",
          "2022-05-06T11:55:00+00:00",
          "2022-05-06T12:00:00+00:00",
          "2022-05-06T12:05:00+00:00",
          "2022-05-06T12:10:00+00:00",
          "2022-05-06T12:15:00+00:00",
          "2022-05-06T12:20:00+00:00",
          "2022-05-06T12:25:00+00:00",
          "2022-05-06T12:30:00+00:00",
          "2022-05-06T12:35:00+00:00",
          "2022-05-06T12:40:00+00:00",
          "2022-05-06T12:45:00+00:00",
          "2022-05-06T12:50:00+00:00",
          "2022-05-06T12:55:00+00:00",
          "2022-05-06T13:00:00+00:00",
          "2022-05-06T13:05:00+00:00",
          "2022-05-06T13:10:00+00:00",
          "2022-05-06T13:15:00+00:00",
          "2022-05-06T13:20:00+00:00",
          "2022-05-06T13:25:00+00:00",
          "2022-05-06T13:30:00+00:00",
          "2022-05-06T13:35:00+00:00",
          "2022-05-06T13:40:00+00:00",
          "2022-05-06T13:45:00+00:00",
          "2022-05-06T13:50:00+00:00",
          "2022-05-06T13:55:00+00:00",
          "2022-05-06T14:00:00+00:00",
          "2022-05-06T14:05:00+00:00",
          "2022-05-06T14:10:00+00:00",
          "2022-05-06T14:15:00+00:00",
          "2022-05-06T14:20:00+00:00",
          "2022-05-06T14:25:00+00:00",
          "2022-05-06T14:30:00+00:00",
          "2022-05-06T14:35:00+00:00",
          "2022-05-06T14:40:00+00:00",
          "2022-05-06T14:45:00+00:00",
          "2022-05-06T14:50:00+00:00",
          "2022-05-06T14:55:00+00:00",
          "2022-05-06T15:00:00+00:00",
          "2022-05-06T15:05:00+00:00",
          "2022-05-06T15:10:00+00:00",
          "2022-05-06T15:15:00+00:00",
          "2022-05-06T15:20:00+00:00",
          "2022-05-06T15:25:00+00:00",
          "2022-05-06T15:30:00+00:00",
          "2022-05-06T15:35:00+00:00",
          "2022-05-06T15:40:00+00:00",
          "2022-05-06T15:45:00+00:00",
          "2022-05-06T15:50:00+00:00",
          "2022-05-06T15:55:00+00:00",
          "2022-05-06T16:00:00+00:00",
          "2022-05-06T16:05:00+00:00",
          "2022-05-06T16:10:00+00:00",
          "2022-05-06T16:15:00+00:00",
          "2022-05-06T16:20:00+00:00",
          "2022-05-06T16:25:00+00:00",
          "2022-05-06T16:30:00+00:00",
          "2022-05-06T16:35:00+00:00",
          "2022-05-06T16:40:00+00:00",
          "2022-05-06T16:45:00+00:00",
          "2022-05-06T16:50:00+00:00",
          "2022-05-06T16:55:00+00:00",
          "2022-05-06T17:00:00+00:00",
          "2022-05-06T17:05:00+00:00",
          "2022-05-06T17:10:00+00:00",
          "2022-05-06T17:15:00+00:00",
          "2022-05-06T17:20:00+00:00",
          "2022-05-06T17:25:00+00:00",
          "2022-05-06T17:30:00+00:00",
          "2022-05-06T17:35:00+00:00",
          "2022-05-06T17:40:00+00:00",
          "2022-05-06T17:45:00+00:00",
          "2022-05-06T17:50:00+00:00",
          "2022-05-06T17:55:00+00:00",
          "2022-05-06T18:00:00+00:00",
          "2022-05-06T18:05:00+00:00",
          "2022-05-06T18:10:00+00:00",
          "2022-05-06T18:15:00+00:00",
          "2022-05-06T18:20:00+00:00",
          "2022-05-06T18:25:00+00:00",
          "2022-05-06T18:30:00+00:00",
          "2022-05-06T18:45:00+00:00",
          "2022-05-06T18:55:00+00:00",
          "2022-05-06T19:00:00+00:00",
          "2022-05-06T19:05:00+00:00",
          "2022-05-06T19:10:00+00:00",
          "2022-05-06T19:15:00+00:00",
          "2022-05-06T19:20:00+00:00",
          "2022-05-06T19:25:00+00:00",
          "2022-05-06T19:30:00+00:00",
          "2022-05-06T19:35:00+00:00",
          "2022-05-06T19:40:00+00:00",
          "2022-05-06T19:45:00+00:00",
          "2022-05-06T19:50:00+00:00",
          "2022-05-06T19:55:00+00:00",
          "2022-05-06T20:00:00+00:00",
          "2022-05-06T20:05:00+00:00",
          "2022-05-06T20:10:00+00:00",
          "2022-05-06T20:15:00+00:00",
          "2022-05-06T20:20:00+00:00",
          "2022-05-06T20:25:00+00:00",
          "2022-05-06T20:30:00+00:00",
          "2022-05-06T20:35:00+00:00",
          "2022-05-06T20:40:00+00:00",
          "2022-05-06T20:45:00+00:00",
          "2022-05-06T20:50:00+00:00",
          "2022-05-06T20:55:00+00:00",
          "2022-05-06T21:00:00+00:00",
          "2022-05-06T21:05:00+00:00",
          "2022-05-06T21:10:00+00:00",
          "2022-05-06T21:15:00+00:00",
          "2022-05-06T21:20:00+00:00",
          "2022-05-06T21:25:00+00:00",
          "2022-05-06T21:30:00+00:00",
          "2022-05-06T21:35:00+00:00",
          "2022-05-06T21:40:00+00:00",
          "2022-05-06T21:45:00+00:00",
          "2022-05-06T21:50:00+00:00",
          "2022-05-06T21:55:00+00:00",
          "2022-05-06T22:00:00+00:00",
          "2022-05-06T22:05:00+00:00",
          "2022-05-06T22:10:00+00:00",
          "2022-05-06T22:15:00+00:00",
          "2022-05-06T22:20:00+00:00",
          "2022-05-06T22:25:00+00:00",
          "2022-05-06T22:30:00+00:00",
          "2022-05-06T22:35:00+00:00",
          "2022-05-06T22:40:00+00:00",
          "2022-05-06T22:45:00+00:00",
          "2022-05-06T22:50:00+00:00",
          "2022-05-06T22:55:00+00:00",
          "2022-05-06T23:00:00+00:00",
          "2022-05-06T23:05:00+00:00",
          "2022-05-06T23:10:00+00:00",
          "2022-05-06T23:15:00+00:00",
          "2022-05-06T23:20:00+00:00",
          "2022-05-06T23:25:00+00:00",
          "2022-05-06T23:30:00+00:00",
          "2022-05-06T23:35:00+00:00",
          "2022-05-06T23:40:00+00:00",
          "2022-05-06T23:45:00+00:00",
          "2022-05-06T23:50:00+00:00",
          "2022-05-07T00:00:00+00:00",
          "2022-05-06T00:00:05+00:00",
          "2022-05-06T00:05:05+00:00",
          "2022-05-06T00:10:05+00:00",
          "2022-05-06T00:15:05+00:00",
          "2022-05-06T00:20:05+00:00",
          "2022-05-06T00:25:05+00:00",
          "2022-05-06T00:30:05+00:00",
          "2022-05-06T00:35:05+00:00",
          "2022-05-06T00:40:05+00:00",
          "2022-05-06T00:45:05+00:00",
          "2022-05-06T00:50:05+00:00",
          "2022-05-06T00:55:05+00:00",
          "2022-05-06T01:00:05+00:00",
          "2022-05-06T01:05:05+00:00",
          "2022-05-06T01:10:05+00:00",
          "2022-05-06T01:15:05+00:00",
          "2022-05-06T01:20:05+00:00",
          "2022-05-06T01:25:05+00:00",
          "2022-05-06T01:30:05+00:00",
          "2022-05-06T01:35:05+00:00",
          "2022-05-06T01:40:05+00:00",
          "2022-05-06T01:45:05+00:00",
          "2022-05-06T01:50:05+00:00",
          "2022-05-06T01:55:05+00:00",
          "2022-05-06T02:00:05+00:00",
          "2022-05-06T02:05:05+00:00",
          "2022-05-06T02:10:05+00:00",
          "2022-05-06T02:15:05+00:00",
          "2022-05-06T02:20:05+00:00",
          "2022-05-06T02:25:05+00:00",
          "2022-05-06T02:30:05+00:00",
          "2022-05-06T02:35:05+00:00",
          "2022-05-06T02:40:05+00:00",
          "2022-05-06T02:45:05+00:00",
          "2022-05-06T02:50:05+00:00",
          "2022-05-06T02:55:05+00:00",
          "2022-05-06T03:00:05+00:00",
          "2022-05-06T03:05:05+00:00",
          "2022-05-06T03:10:05+00:00",
          "2022-05-06T03:15:05+00:00",
          "2022-05-06T03:20:05+00:00",
          "2022-05-06T03:25:05+00:00",
          "2022-05-06T03:30:05+00:00",
          "2022-05-06T03:35:05+00:00",
          "2022-05-06T03:40:05+00:00",
          "2022-05-06T03:45:05+00:00",
          "2022-05-06T03:50:05+00:00",
          "2022-05-06T03:55:05+00:00",
          "2022-05-06T04:00:05+00:00",
          "2022-05-06T04:05:05+00:00",
          "2022-05-06T04:10:05+00:00",
          "2022-05-06T04:15:05+00:00",
          "2022-05-06T04:20:05+00:00",
          "2022-05-06T04:25:05+00:00",
          "2022-05-06T04:30:05+00:00",
          "2022-05-06T04:35:05+00:00",
          "2022-05-06T04:40:05+00:00",
          "2022-05-06T04:45:05+00:00",
          "2022-05-06T04:50:05+00:00",
          "2022-05-06T04:55:05+00:00",
          "2022-05-06T05:00:05+00:00",
          "2022-05-06T05:05:05+00:00",
          "2022-05-06T05:10:05+00:00",
          "2022-05-06T05:15:05+00:00",
          "2022-05-06T05:20:05+00:00",
          "2022-05-06T05:25:05+00:00",
          "2022-05-06T05:30:05+00:00",
          "2022-05-06T05:35:05+00:00",
          "2022-05-06T05:40:05+00:00",
          "2022-05-06T05:45:05+00:00",
          "2022-05-06T05:50:05+00:00",
          "2022-05-06T05:55:05+00:00",
          "2022-05-06T06:00:05+00:00",
          "2022-05-06T06:05:05+00:00",
          "2022-05-06T06:10:05+00:00",
          "2022-05-06T06:15:05+00:00",
          "2022-05-06T06:20:05+00:00",
          "2022-05-06T06:25:05+00:00",
          "2022-05-06T06:30:05+00:00",
          "2022-05-06T06:35:05+00:00",
          "2022-05-06T06:40:05+00:00",
          "2022-05-06T06:45:05+00:00",
          "2022-05-06T06:50:05+00:00",
          "2022-05-06T06:55:05+00:00",
          "2022-05-06T07:00:05+00:00",
          "2022-05-06T07:05:05+00:00",
          "2022-05-06T07:10:05+00:00",
          "2022-05-06T07:15:05+00:00",
          "2022-05-06T07:20:05+00:00",
          "2022-05-06T07:25:05+00:00",
          "2022-05-06T07:30:05+00:00",
          "2022-05-06T07:35:05+00:00",
          "2022-05-06T07:40:05+00:00",
          "2022-05-06T07:45:05+00:00",
          "2022-05-06T07:50:05+00:00",
          "2022-05-06T07:55:05+00:00",
          "2022-05-06T08:00:05+00:00",
          "2022-05-06T08:05:05+00:00",
          "2022-05-06T08:10:05+00:00",
          "2022-05-06T08:15:05+00:00",
          "2022-05-06T08:20:05+00:00",
          "2022-05-06T08:25:05+00:00",
          "2022-05-06T08:30:05+00:00",
          "2022-05-06T08:35:05+00:00",
          "2022-05-06T08:40:05+00:00",
          "2022-05-06T08:45:05+00:00",
          "2022-05-06T08:50:05+00:00",
          "2022-05-06T08:55:05+00:00",
          "2022-05-06T09:00:05+00:00",
          "2022-05-06T09:05:05+00:00",
          "2022-05-06T09:10:05+00:00",
          "2022-05-06T09:15:05+00:00",
          "2022-05-06T09:20:05+00:00",
          "2022-05-06T09:25:05+00:00",
          "2022-05-06T09:30:05+00:00",
          "2022-05-06T09:35:05+00:00",
          "2022-05-06T09:40:05+00:00",
          "2022-05-06T09:45:05+00:00",
          "2022-05-06T09:50:05+00:00",
          "2022-05-06T09:55:05+00:00",
          "2022-05-06T10:00:05+00:00",
          "2022-05-06T10:05:05+00:00",
          "2022-05-06T10:10:05+00:00",
          "2022-05-06T10:15:05+00:00",
          "2022-05-06T10:20:05+00:00",
          "2022-05-06T10:25:05+00:00",
          "2022-05-06T10:30:05+00:00",
          "2022-05-06T10:35:05+00:00",
          "2022-05-06T10:40:05+00:00",
          "2022-05-06T10:45:05+00:00",
          "2022-05-06T10:50:05+00:00",
          "2022-05-06T10:55:05+00:00",
          "2022-05-06T11:00:05+00:00",
          "2022-05-06T11:05:05+00:00",
          "2022-05-06T11:10:05+00:00",
          "2022-05-06T11:15:05+00:00",
          "2022-05-06T11:20:05+00:00",
          "2022-05-06T11:25:05+00:00",
          "2022-05-06T11:30:05+00:00",
          "2022-05-06T11:35:05+00:00",
          "2022-05-06T11:40:05+00:00",
          "2022-05-06T11:45:05+00:00",
          "2022-05-06T11:50:05+00:00",
          "2022-05-06T11:55:05+00:00",
          "2022-05-06T12:00:05+00:00",
          "2022-05-06T12:05:05+00:00",
          "2022-05-06T12:10:05+00:00",
          "2022-05-06T12:15:05+00:00",
          "2022-05-06T12:20:05+00:00",
          "2022-05-06T12:25:05+00:00",
          "2022-05-06T12:30:05+00:00",
          "2022-05-06T12:35:05+00:00",
          "2022-05-06T12:40:05+00:00",
          "2022-05-06T12:45:05+00:00",
          "2022-05-06T12:50:05+00:00",
          "2022-05-06T12:55:05+00:00",
          "2022-05-06T13:00:05+00:00",
          "2022-05-06T13:05:05+00:00",
          "2022-05-06T13:10:05+00:00",
          "2022-05-06T13:15:05+00:00",
          "2022-05-06T13:20:05+00:00",
          "2022-05-06T13:25:05+00:00",
          "2022-05-06T13:30:05+00:00",
          "2022-05-06T13:35:05+00:00",
          "2022-05-06T13:40:05+00:00",
          "2022-05-06T13:45:05+00:00",
          "2022-05-06T13:50:05+00:00",
          "2022-05-06T13:55:05+00:00",
          "2022-05-06T14:00:05+00:00",
          "2022-05-06T14:05:05+00:00",
          "2022-05-06T14:10:05+00:00",
          "2022-05-06T14:15:05+00:00",
          "2022-05-06T14:20:05+00:00",
          "2022-05-06T14:25:05+00:00",
          "2022-05-06T14:30:05+00:00",
          "2022-05-06T14:35:05+00:00",
          "2022-05-06T14:40:05+00:00",
          "2022-05-06T14:45:05+00:00",
          "2022-05-06T14:50:05+00:00",
          "2022-05-06T15:05:05+00:00",
          "2022-05-06T15:10:05+00:00",
          "2022-05-06T15:15:05+00:00",
          "2022-05-06T15:25:05+00:00",
          "2022-05-06T15:30:05+00:00",
          "2022-05-06T15:35:05+00:00",
          "2022-05-06T15:45:05+00:00",
          "2022-05-06T15:50:05+00:00",
          "2022-05-06T15:55:05+00:00",
          "2022-05-06T16:00:05+00:00",
          "2022-05-06T16:05:05+00:00",
          "2022-05-06T16:10:05+00:00",
          "2022-05-06T16:20:05+00:00",
          "2022-05-06T16:30:05+00:00",
          "2022-05-06T16:45:05+00:00",
          "2022-05-06T16:50:05+00:00",
          "2022-05-06T17:05:05+00:00",
          "2022-05-06T17:10:05+00:00",
          "2022-05-06T17:20:05+00:00",
          "2022-05-06T17:35:05+00:00",
          "2022-05-06T17:40:05+00:00",
          "2022-05-06T17:45:05+00:00",
          "2022-05-06T17:50:05+00:00",
          "2022-05-06T17:55:05+00:00",
          "2022-05-06T18:00:05+00:00",
          "2022-05-06T18:05:05+00:00",
          "2022-05-06T18:10:05+00:00",
          "2022-05-06T18:15:05+00:00",
          "2022-05-06T18:20:05+00:00",
          "2022-05-06T18:25:05+00:00",
          "2022-05-06T18:30:05+00:00",
          "2022-05-06T18:35:05+00:00",
          "2022-05-06T18:45:05+00:00",
          "2022-05-06T18:50:05+00:00",
          "2022-05-06T18:55:05+00:00",
          "2022-05-06T19:00:05+00:00",
          "2022-05-06T19:05:05+00:00",
          "2022-05-06T19:20:05+00:00",
          "2022-05-06T19:25:05+00:00",
          "2022-05-06T19:30:05+00:00",
          "2022-05-06T19:35:05+00:00",
          "2022-05-06T19:40:05+00:00",
          "2022-05-06T19:45:05+00:00",
          "2022-05-06T19:50:05+00:00",
          "2022-05-06T19:55:05+00:00",
          "2022-05-06T20:00:05+00:00",
          "2022-05-06T20:05:05+00:00",
          "2022-05-06T20:15:05+00:00",
          "2022-05-06T20:20:05+00:00",
          "2022-05-06T20:30:05+00:00",
          "2022-05-06T20:40:05+00:00",
          "2022-05-06T20:45:05+00:00",
          "2022-05-06T20:50:05+00:00",
          "2022-05-06T20:55:05+00:00",
          "2022-05-06T21:00:05+00:00",
          "2022-05-06T21:05:05+00:00",
          "2022-05-06T21:10:05+00:00",
          "2022-05-06T21:15:05+00:00",
          "2022-05-06T21:20:05+00:00",
          "2022-05-06T21:25:05+00:00",
          "2022-05-06T21:30:05+00:00",
          "2022-05-06T21:35:05+00:00",
          "2022-05-06T21:40:05+00:00",
          "2022-05-06T21:45:05+00:00",
          "2022-05-06T21:50:05+00:00",
          "2022-05-06T21:55:05+00:00",
          "2022-05-06T22:00:05+00:00",
          "2022-05-06T22:10:05+00:00",
          "2022-05-06T22:15:05+00:00",
          "2022-05-06T22:20:05+00:00",
          "2022-05-06T22:25:05+00:00",
          "2022-05-06T22:30:05+00:00",
          "2022-05-06T22:35:05+00:00",
          "2022-05-06T22:40:05+00:00",
          "2022-05-06T22:45:05+00:00",
          "2022-05-06T22:50:05+00:00",
          "2022-05-06T22:55:05+00:00",
          "2022-05-06T23:00:05+00:00",
          "2022-05-06T23:05:05+00:00",
          "2022-05-06T23:10:05+00:00",
          "2022-05-06T23:15:05+00:00",
          "2022-05-06T23:20:05+00:00",
          "2022-05-06T23:25:05+00:00",
          "2022-05-06T23:30:05+00:00",
          "2022-05-06T23:35:05+00:00",
          "2022-05-06T23:40:05+00:00",
          "2022-05-06T23:45:05+00:00",
          "2022-05-06T23:50:05+00:00",
          "2022-05-06T23:55:05+00:00",
          "2022-05-06T03:30:26+00:00",
          "2022-05-06T08:00:28+00:00",
          "2022-05-06T14:55:05+00:00",
          "2022-05-06T15:20:05+00:00",
          "2022-05-06T16:25:05+00:00",
          "2022-05-06T16:40:05+00:00",
          "2022-05-06T17:25:05+00:00",
          "2022-05-06T17:30:05+00:00",
          "2022-05-06T18:40:05+00:00",
          "2022-05-06T19:10:05+00:00",
          "2022-05-06T19:15:05+00:00",
          "2022-05-06T20:10:05+00:00",
          "2022-05-06T20:25:05+00:00",
          "2022-05-06T22:05:05+00:00"
         ],
         "xaxis": "x",
         "y": [
          null,
          null,
          null,
          null,
          null,
          null,
          null,
          null,
          null,
          null,
          null,
          null,
          null,
          null,
          null,
          null,
          null,
          null,
          null,
          null,
          null,
          null,
          null,
          null,
          null,
          null,
          null,
          null,
          null,
          null,
          null,
          null,
          null,
          null,
          null,
          null,
          null,
          null,
          null,
          null,
          null,
          null,
          null,
          null,
          null,
          null,
          null,
          null,
          null,
          null,
          null,
          null,
          null,
          null,
          null,
          null,
          null,
          null,
          null,
          null,
          null,
          null,
          null,
          null,
          null,
          null,
          null,
          null,
          null,
          null,
          null,
          null,
          null,
          null,
          null,
          null,
          null,
          null,
          null,
          null,
          null,
          null,
          null,
          null,
          null,
          null,
          null,
          null,
          null,
          null,
          null,
          null,
          null,
          null,
          null,
          null,
          null,
          null,
          null,
          null,
          null,
          null,
          null,
          null,
          null,
          null,
          null,
          null,
          null,
          null,
          null,
          null,
          null,
          null,
          null,
          null,
          null,
          null,
          null,
          null,
          null,
          null,
          null,
          null,
          null,
          null,
          null,
          null,
          null,
          null,
          null,
          null,
          null,
          null,
          null,
          null,
          null,
          null,
          null,
          null,
          null,
          null,
          null,
          null,
          null,
          null,
          null,
          null,
          null,
          null,
          null,
          null,
          null,
          null,
          null,
          null,
          null,
          null,
          null,
          null,
          null,
          null,
          null,
          null,
          null,
          null,
          null,
          null,
          null,
          null,
          null,
          null,
          null,
          null,
          null,
          null,
          null,
          null,
          null,
          null,
          null,
          null,
          null,
          null,
          null,
          null,
          null,
          null,
          null,
          null,
          null,
          null,
          null,
          null,
          null,
          null,
          null,
          null,
          null,
          null,
          null,
          null,
          null,
          null,
          null,
          null,
          null,
          null,
          null,
          null,
          null,
          null,
          null,
          null,
          null,
          null,
          null,
          null,
          null,
          null,
          null,
          null,
          null,
          null,
          null,
          null,
          null,
          null,
          null,
          null,
          null,
          null,
          null,
          null,
          null,
          null,
          null,
          null,
          null,
          null,
          null,
          null,
          null,
          null,
          null,
          null,
          null,
          null,
          null,
          null,
          null,
          null,
          null,
          null,
          null,
          null,
          null,
          null,
          null,
          null,
          null,
          null,
          null,
          null,
          null,
          null,
          null,
          null,
          null,
          null,
          null,
          null,
          null,
          null,
          null,
          null,
          null,
          null,
          null,
          null,
          null,
          null,
          264.6,
          272.2,
          287.1,
          273.9,
          266.6,
          270.1,
          271.3,
          275,
          278.4,
          271.4,
          263.6,
          264.8,
          268.2,
          274.3,
          278.4,
          271.1,
          268.9,
          270.6,
          276,
          292.1,
          294.7,
          297.2,
          286.7,
          296.1,
          293.5,
          298,
          293.3,
          295.1,
          293.3,
          295.4,
          294.8,
          298.5,
          301.6,
          308.6,
          296.2,
          295.9,
          292.7,
          285.1,
          283.8,
          300.2,
          294.8,
          283.1,
          null,
          279.4,
          270.4,
          270.8,
          273.2,
          266.4,
          268.9,
          264.6,
          271.5,
          264.8,
          264.6,
          265.1,
          269.3,
          268.4,
          278.8,
          282.2,
          308.1,
          280.1,
          287.9,
          306.7,
          311.2,
          321.2,
          316.9,
          331.6,
          340.8,
          331.2,
          368.6,
          319,
          332.8,
          340,
          344.9,
          346.2,
          348,
          348.3,
          351.3,
          379.6,
          357.6,
          364.7,
          375.2,
          372,
          380.8,
          367.9,
          353.1,
          372.4,
          370,
          384.8,
          371.4,
          371.1,
          375.4,
          372.1,
          376.1,
          374.7,
          374.3,
          377.9,
          null,
          387.9,
          379.8,
          378.8,
          387,
          376.4,
          383.1,
          364.2,
          373.7,
          377.8,
          378.5,
          371.9,
          347.7,
          385.3,
          376,
          365.1,
          338.1,
          336,
          331.1,
          311.7,
          371.3,
          375.6,
          369,
          370.3,
          372.5,
          358.8,
          309.8,
          366.8,
          362.9,
          306.3,
          309.1,
          303.7,
          360.8,
          358.7,
          360.4,
          355,
          352.2,
          296.9,
          343.8,
          321.4,
          339.1,
          332.9,
          321.8,
          315.4,
          306.1,
          300.3,
          301.3,
          295,
          281.4,
          270.5,
          256.9,
          256.5,
          250.7,
          262.5,
          273,
          255.6,
          256.2,
          251.9,
          250.9,
          266.9,
          269.8,
          252.6,
          249.9,
          251.6,
          251.2,
          261.7,
          242.7,
          259.4,
          247.6,
          243.3,
          265.7,
          242.2,
          233.8,
          261.6,
          264.9,
          272.5,
          247.4,
          245.4,
          266,
          244.8,
          245.8,
          232.9,
          null,
          249.7,
          253.6,
          250.5,
          225.4,
          223.4,
          229.3,
          250.9,
          null,
          239,
          235.3,
          256.1,
          null,
          null,
          null,
          247.5,
          null,
          null,
          272.3,
          261.8,
          null,
          null,
          null,
          null,
          250,
          264,
          null,
          null,
          252.9,
          null,
          267.6,
          null,
          274.1,
          null,
          278.6,
          301.3,
          299.4,
          279.8,
          273.2,
          290.3,
          262.5,
          null,
          null,
          303.8,
          279.4,
          273.4,
          273.8,
          261.1,
          276,
          null,
          263.5,
          275.1,
          null,
          null,
          287.4,
          269.9,
          263.4,
          276.9,
          null,
          294.7,
          285.9,
          286.8,
          302.3,
          268.2,
          291.3,
          null,
          null,
          null,
          null,
          288.8,
          286.1,
          273.8,
          278.2,
          280.4,
          296.8,
          273.3,
          null,
          null,
          276.8,
          287.7,
          282.5,
          290.6,
          280.5,
          271.4,
          278.4,
          273.7,
          281.6,
          272.4,
          282.3,
          270.9,
          279.9,
          387.8,
          250.1,
          244,
          255.4,
          256.7,
          250.1,
          243.3,
          281.1,
          267.2,
          280.3,
          276.2,
          271.6,
          281.4
         ],
         "yaxis": "y"
        }
       ],
       "layout": {
        "autosize": true,
        "autotypenumbers": "convert types",
        "font": {
         "family": "Courier New, monospace",
         "size": 18
        },
        "legend": {
         "title": {
          "text": "Station"
         },
         "tracegroupgap": 0
        },
        "paper_bgcolor": "rgba(0, 0, 0, 0)",
        "plot_bgcolor": "rgba(0, 0, 0, 0)",
        "template": {
         "data": {
          "bar": [
           {
            "error_x": {
             "color": "#2a3f5f"
            },
            "error_y": {
             "color": "#2a3f5f"
            },
            "marker": {
             "line": {
              "color": "#E5ECF6",
              "width": 0.5
             },
             "pattern": {
              "fillmode": "overlay",
              "size": 10,
              "solidity": 0.2
             }
            },
            "type": "bar"
           }
          ],
          "barpolar": [
           {
            "marker": {
             "line": {
              "color": "#E5ECF6",
              "width": 0.5
             },
             "pattern": {
              "fillmode": "overlay",
              "size": 10,
              "solidity": 0.2
             }
            },
            "type": "barpolar"
           }
          ],
          "carpet": [
           {
            "aaxis": {
             "endlinecolor": "#2a3f5f",
             "gridcolor": "white",
             "linecolor": "white",
             "minorgridcolor": "white",
             "startlinecolor": "#2a3f5f"
            },
            "baxis": {
             "endlinecolor": "#2a3f5f",
             "gridcolor": "white",
             "linecolor": "white",
             "minorgridcolor": "white",
             "startlinecolor": "#2a3f5f"
            },
            "type": "carpet"
           }
          ],
          "choropleth": [
           {
            "colorbar": {
             "outlinewidth": 0,
             "ticks": ""
            },
            "type": "choropleth"
           }
          ],
          "contour": [
           {
            "colorbar": {
             "outlinewidth": 0,
             "ticks": ""
            },
            "colorscale": [
             [
              0,
              "#0d0887"
             ],
             [
              0.1111111111111111,
              "#46039f"
             ],
             [
              0.2222222222222222,
              "#7201a8"
             ],
             [
              0.3333333333333333,
              "#9c179e"
             ],
             [
              0.4444444444444444,
              "#bd3786"
             ],
             [
              0.5555555555555556,
              "#d8576b"
             ],
             [
              0.6666666666666666,
              "#ed7953"
             ],
             [
              0.7777777777777778,
              "#fb9f3a"
             ],
             [
              0.8888888888888888,
              "#fdca26"
             ],
             [
              1,
              "#f0f921"
             ]
            ],
            "type": "contour"
           }
          ],
          "contourcarpet": [
           {
            "colorbar": {
             "outlinewidth": 0,
             "ticks": ""
            },
            "type": "contourcarpet"
           }
          ],
          "heatmap": [
           {
            "colorbar": {
             "outlinewidth": 0,
             "ticks": ""
            },
            "colorscale": [
             [
              0,
              "#0d0887"
             ],
             [
              0.1111111111111111,
              "#46039f"
             ],
             [
              0.2222222222222222,
              "#7201a8"
             ],
             [
              0.3333333333333333,
              "#9c179e"
             ],
             [
              0.4444444444444444,
              "#bd3786"
             ],
             [
              0.5555555555555556,
              "#d8576b"
             ],
             [
              0.6666666666666666,
              "#ed7953"
             ],
             [
              0.7777777777777778,
              "#fb9f3a"
             ],
             [
              0.8888888888888888,
              "#fdca26"
             ],
             [
              1,
              "#f0f921"
             ]
            ],
            "type": "heatmap"
           }
          ],
          "heatmapgl": [
           {
            "colorbar": {
             "outlinewidth": 0,
             "ticks": ""
            },
            "colorscale": [
             [
              0,
              "#0d0887"
             ],
             [
              0.1111111111111111,
              "#46039f"
             ],
             [
              0.2222222222222222,
              "#7201a8"
             ],
             [
              0.3333333333333333,
              "#9c179e"
             ],
             [
              0.4444444444444444,
              "#bd3786"
             ],
             [
              0.5555555555555556,
              "#d8576b"
             ],
             [
              0.6666666666666666,
              "#ed7953"
             ],
             [
              0.7777777777777778,
              "#fb9f3a"
             ],
             [
              0.8888888888888888,
              "#fdca26"
             ],
             [
              1,
              "#f0f921"
             ]
            ],
            "type": "heatmapgl"
           }
          ],
          "histogram": [
           {
            "marker": {
             "pattern": {
              "fillmode": "overlay",
              "size": 10,
              "solidity": 0.2
             }
            },
            "type": "histogram"
           }
          ],
          "histogram2d": [
           {
            "colorbar": {
             "outlinewidth": 0,
             "ticks": ""
            },
            "colorscale": [
             [
              0,
              "#0d0887"
             ],
             [
              0.1111111111111111,
              "#46039f"
             ],
             [
              0.2222222222222222,
              "#7201a8"
             ],
             [
              0.3333333333333333,
              "#9c179e"
             ],
             [
              0.4444444444444444,
              "#bd3786"
             ],
             [
              0.5555555555555556,
              "#d8576b"
             ],
             [
              0.6666666666666666,
              "#ed7953"
             ],
             [
              0.7777777777777778,
              "#fb9f3a"
             ],
             [
              0.8888888888888888,
              "#fdca26"
             ],
             [
              1,
              "#f0f921"
             ]
            ],
            "type": "histogram2d"
           }
          ],
          "histogram2dcontour": [
           {
            "colorbar": {
             "outlinewidth": 0,
             "ticks": ""
            },
            "colorscale": [
             [
              0,
              "#0d0887"
             ],
             [
              0.1111111111111111,
              "#46039f"
             ],
             [
              0.2222222222222222,
              "#7201a8"
             ],
             [
              0.3333333333333333,
              "#9c179e"
             ],
             [
              0.4444444444444444,
              "#bd3786"
             ],
             [
              0.5555555555555556,
              "#d8576b"
             ],
             [
              0.6666666666666666,
              "#ed7953"
             ],
             [
              0.7777777777777778,
              "#fb9f3a"
             ],
             [
              0.8888888888888888,
              "#fdca26"
             ],
             [
              1,
              "#f0f921"
             ]
            ],
            "type": "histogram2dcontour"
           }
          ],
          "mesh3d": [
           {
            "colorbar": {
             "outlinewidth": 0,
             "ticks": ""
            },
            "type": "mesh3d"
           }
          ],
          "parcoords": [
           {
            "line": {
             "colorbar": {
              "outlinewidth": 0,
              "ticks": ""
             }
            },
            "type": "parcoords"
           }
          ],
          "pie": [
           {
            "automargin": true,
            "type": "pie"
           }
          ],
          "scatter": [
           {
            "fillpattern": {
             "fillmode": "overlay",
             "size": 10,
             "solidity": 0.2
            },
            "type": "scatter"
           }
          ],
          "scatter3d": [
           {
            "line": {
             "colorbar": {
              "outlinewidth": 0,
              "ticks": ""
             }
            },
            "marker": {
             "colorbar": {
              "outlinewidth": 0,
              "ticks": ""
             }
            },
            "type": "scatter3d"
           }
          ],
          "scattercarpet": [
           {
            "marker": {
             "colorbar": {
              "outlinewidth": 0,
              "ticks": ""
             }
            },
            "type": "scattercarpet"
           }
          ],
          "scattergeo": [
           {
            "marker": {
             "colorbar": {
              "outlinewidth": 0,
              "ticks": ""
             }
            },
            "type": "scattergeo"
           }
          ],
          "scattergl": [
           {
            "marker": {
             "colorbar": {
              "outlinewidth": 0,
              "ticks": ""
             }
            },
            "type": "scattergl"
           }
          ],
          "scattermapbox": [
           {
            "marker": {
             "colorbar": {
              "outlinewidth": 0,
              "ticks": ""
             }
            },
            "type": "scattermapbox"
           }
          ],
          "scatterpolar": [
           {
            "marker": {
             "colorbar": {
              "outlinewidth": 0,
              "ticks": ""
             }
            },
            "type": "scatterpolar"
           }
          ],
          "scatterpolargl": [
           {
            "marker": {
             "colorbar": {
              "outlinewidth": 0,
              "ticks": ""
             }
            },
            "type": "scatterpolargl"
           }
          ],
          "scatterternary": [
           {
            "marker": {
             "colorbar": {
              "outlinewidth": 0,
              "ticks": ""
             }
            },
            "type": "scatterternary"
           }
          ],
          "surface": [
           {
            "colorbar": {
             "outlinewidth": 0,
             "ticks": ""
            },
            "colorscale": [
             [
              0,
              "#0d0887"
             ],
             [
              0.1111111111111111,
              "#46039f"
             ],
             [
              0.2222222222222222,
              "#7201a8"
             ],
             [
              0.3333333333333333,
              "#9c179e"
             ],
             [
              0.4444444444444444,
              "#bd3786"
             ],
             [
              0.5555555555555556,
              "#d8576b"
             ],
             [
              0.6666666666666666,
              "#ed7953"
             ],
             [
              0.7777777777777778,
              "#fb9f3a"
             ],
             [
              0.8888888888888888,
              "#fdca26"
             ],
             [
              1,
              "#f0f921"
             ]
            ],
            "type": "surface"
           }
          ],
          "table": [
           {
            "cells": {
             "fill": {
              "color": "#EBF0F8"
             },
             "line": {
              "color": "white"
             }
            },
            "header": {
             "fill": {
              "color": "#C8D4E3"
             },
             "line": {
              "color": "white"
             }
            },
            "type": "table"
           }
          ]
         },
         "layout": {
          "annotationdefaults": {
           "arrowcolor": "#2a3f5f",
           "arrowhead": 0,
           "arrowwidth": 1
          },
          "autotypenumbers": "strict",
          "coloraxis": {
           "colorbar": {
            "outlinewidth": 0,
            "ticks": ""
           }
          },
          "colorscale": {
           "diverging": [
            [
             0,
             "#8e0152"
            ],
            [
             0.1,
             "#c51b7d"
            ],
            [
             0.2,
             "#de77ae"
            ],
            [
             0.3,
             "#f1b6da"
            ],
            [
             0.4,
             "#fde0ef"
            ],
            [
             0.5,
             "#f7f7f7"
            ],
            [
             0.6,
             "#e6f5d0"
            ],
            [
             0.7,
             "#b8e186"
            ],
            [
             0.8,
             "#7fbc41"
            ],
            [
             0.9,
             "#4d9221"
            ],
            [
             1,
             "#276419"
            ]
           ],
           "sequential": [
            [
             0,
             "#0d0887"
            ],
            [
             0.1111111111111111,
             "#46039f"
            ],
            [
             0.2222222222222222,
             "#7201a8"
            ],
            [
             0.3333333333333333,
             "#9c179e"
            ],
            [
             0.4444444444444444,
             "#bd3786"
            ],
            [
             0.5555555555555556,
             "#d8576b"
            ],
            [
             0.6666666666666666,
             "#ed7953"
            ],
            [
             0.7777777777777778,
             "#fb9f3a"
            ],
            [
             0.8888888888888888,
             "#fdca26"
            ],
            [
             1,
             "#f0f921"
            ]
           ],
           "sequentialminus": [
            [
             0,
             "#0d0887"
            ],
            [
             0.1111111111111111,
             "#46039f"
            ],
            [
             0.2222222222222222,
             "#7201a8"
            ],
            [
             0.3333333333333333,
             "#9c179e"
            ],
            [
             0.4444444444444444,
             "#bd3786"
            ],
            [
             0.5555555555555556,
             "#d8576b"
            ],
            [
             0.6666666666666666,
             "#ed7953"
            ],
            [
             0.7777777777777778,
             "#fb9f3a"
            ],
            [
             0.8888888888888888,
             "#fdca26"
            ],
            [
             1,
             "#f0f921"
            ]
           ]
          },
          "colorway": [
           "#636efa",
           "#EF553B",
           "#00cc96",
           "#ab63fa",
           "#FFA15A",
           "#19d3f3",
           "#FF6692",
           "#B6E880",
           "#FF97FF",
           "#FECB52"
          ],
          "font": {
           "color": "#2a3f5f"
          },
          "geo": {
           "bgcolor": "white",
           "lakecolor": "white",
           "landcolor": "#E5ECF6",
           "showlakes": true,
           "showland": true,
           "subunitcolor": "white"
          },
          "hoverlabel": {
           "align": "left"
          },
          "hovermode": "closest",
          "mapbox": {
           "style": "light"
          },
          "paper_bgcolor": "white",
          "plot_bgcolor": "#E5ECF6",
          "polar": {
           "angularaxis": {
            "gridcolor": "white",
            "linecolor": "white",
            "ticks": ""
           },
           "bgcolor": "#E5ECF6",
           "radialaxis": {
            "gridcolor": "white",
            "linecolor": "white",
            "ticks": ""
           }
          },
          "scene": {
           "xaxis": {
            "backgroundcolor": "#E5ECF6",
            "gridcolor": "white",
            "gridwidth": 2,
            "linecolor": "white",
            "showbackground": true,
            "ticks": "",
            "zerolinecolor": "white"
           },
           "yaxis": {
            "backgroundcolor": "#E5ECF6",
            "gridcolor": "white",
            "gridwidth": 2,
            "linecolor": "white",
            "showbackground": true,
            "ticks": "",
            "zerolinecolor": "white"
           },
           "zaxis": {
            "backgroundcolor": "#E5ECF6",
            "gridcolor": "white",
            "gridwidth": 2,
            "linecolor": "white",
            "showbackground": true,
            "ticks": "",
            "zerolinecolor": "white"
           }
          },
          "shapedefaults": {
           "line": {
            "color": "#2a3f5f"
           }
          },
          "ternary": {
           "aaxis": {
            "gridcolor": "white",
            "linecolor": "white",
            "ticks": ""
           },
           "baxis": {
            "gridcolor": "white",
            "linecolor": "white",
            "ticks": ""
           },
           "bgcolor": "#E5ECF6",
           "caxis": {
            "gridcolor": "white",
            "linecolor": "white",
            "ticks": ""
           }
          },
          "title": {
           "x": 0.05
          },
          "xaxis": {
           "automargin": true,
           "gridcolor": "white",
           "linecolor": "white",
           "ticks": "",
           "title": {
            "standoff": 15
           },
           "zerolinecolor": "white",
           "zerolinewidth": 2
          },
          "yaxis": {
           "automargin": true,
           "gridcolor": "white",
           "linecolor": "white",
           "ticks": "",
           "title": {
            "standoff": 15
           },
           "zerolinecolor": "white",
           "zerolinewidth": 2
          }
         }
        },
        "title": {
         "text": "Ionosonde Data: hmF2"
        },
        "xaxis": {
         "anchor": "y",
         "autorange": true,
         "domain": [
          0,
          1
         ],
         "range": [
          "2022-05-06",
          "2022-05-07"
         ],
         "title": {
          "text": "Time (UTC)"
         },
         "type": "date"
        },
        "yaxis": {
         "anchor": "x",
         "autorange": true,
         "domain": [
          0,
          1
         ],
         "range": [
          193.67777777777778,
          398.1222222222222
         ],
         "title": {
          "text": "hmF2"
         },
         "type": "linear"
        }
       }
      },
      "image/png": "[encoded data removed]",
      "text/html": [
       "<div>                            <div id=\"76ddff51-bce3-4dc0-9b70-fd63a684b45e\" class=\"plotly-graph-div\" style=\"height:525px; width:100%;\"></div>            <script type=\"text/javascript\">                require([\"plotly\"], function(Plotly) {                    window.PLOTLYENV=window.PLOTLYENV || {};                                    if (document.getElementById(\"76ddff51-bce3-4dc0-9b70-fd63a684b45e\")) {                    Plotly.newPlot(                        \"76ddff51-bce3-4dc0-9b70-fd63a684b45e\",                        [{\"hovertemplate\":\"variable=AUSTIN<br>Time=%{x}<br>value=%{y}<extra></extra>\",\"legendgroup\":\"AUSTIN\",\"line\":{\"color\":\"#636efa\",\"dash\":\"solid\"},\"marker\":{\"symbol\":\"circle\"},\"mode\":\"lines\",\"name\":\"AUSTIN\",\"showlegend\":true,\"x\":[\"2022-05-06T00:00:00+00:00\",\"2022-05-06T00:05:00+00:00\",\"2022-05-06T00:10:00+00:00\",\"2022-05-06T00:15:00+00:00\",\"2022-05-06T00:20:00+00:00\",\"2022-05-06T00:25:00+00:00\",\"2022-05-06T00:30:00+00:00\",\"2022-05-06T00:35:00+00:00\",\"2022-05-06T00:40:00+00:00\",\"2022-05-06T00:45:00+00:00\",\"2022-05-06T00:50:00+00:00\",\"2022-05-06T00:55:00+00:00\",\"2022-05-06T01:00:00+00:00\",\"2022-05-06T01:05:00+00:00\",\"2022-05-06T01:10:00+00:00\",\"2022-05-06T01:15:00+00:00\",\"2022-05-06T01:20:00+00:00\",\"2022-05-06T01:25:00+00:00\",\"2022-05-06T01:30:00+00:00\",\"2022-05-06T01:35:00+00:00\",\"2022-05-06T01:40:00+00:00\",\"2022-05-06T01:45:00+00:00\",\"2022-05-06T01:50:00+00:00\",\"2022-05-06T01:55:00+00:00\",\"2022-05-06T02:00:00+00:00\",\"2022-05-06T02:05:00+00:00\",\"2022-05-06T02:10:00+00:00\",\"2022-05-06T02:15:00+00:00\",\"2022-05-06T02:20:00+00:00\",\"2022-05-06T02:25:00+00:00\",\"2022-05-06T02:30:00+00:00\",\"2022-05-06T02:35:00+00:00\",\"2022-05-06T02:40:00+00:00\",\"2022-05-06T02:45:00+00:00\",\"2022-05-06T02:50:00+00:00\",\"2022-05-06T02:55:00+00:00\",\"2022-05-06T03:00:00+00:00\",\"2022-05-06T03:05:00+00:00\",\"2022-05-06T03:10:00+00:00\",\"2022-05-06T03:15:00+00:00\",\"2022-05-06T03:20:00+00:00\",\"2022-05-06T03:25:00+00:00\",\"2022-05-06T03:30:00+00:00\",\"2022-05-06T03:35:00+00:00\",\"2022-05-06T03:40:00+00:00\",\"2022-05-06T03:45:00+00:00\",\"2022-05-06T03:50:00+00:00\",\"2022-05-06T03:55:00+00:00\",\"2022-05-06T04:00:00+00:00\",\"2022-05-06T04:05:00+00:00\",\"2022-05-06T04:10:00+00:00\",\"2022-05-06T04:15:00+00:00\",\"2022-05-06T04:20:00+00:00\",\"2022-05-06T04:25:00+00:00\",\"2022-05-06T04:30:00+00:00\",\"2022-05-06T04:35:00+00:00\",\"2022-05-06T04:40:00+00:00\",\"2022-05-06T04:45:00+00:00\",\"2022-05-06T04:50:00+00:00\",\"2022-05-06T04:55:00+00:00\",\"2022-05-06T05:00:00+00:00\",\"2022-05-06T05:05:00+00:00\",\"2022-05-06T05:10:00+00:00\",\"2022-05-06T05:15:00+00:00\",\"2022-05-06T05:20:00+00:00\",\"2022-05-06T05:25:00+00:00\",\"2022-05-06T05:30:00+00:00\",\"2022-05-06T05:35:00+00:00\",\"2022-05-06T05:40:00+00:00\",\"2022-05-06T05:45:00+00:00\",\"2022-05-06T05:50:00+00:00\",\"2022-05-06T05:55:00+00:00\",\"2022-05-06T06:00:00+00:00\",\"2022-05-06T06:05:00+00:00\",\"2022-05-06T06:10:00+00:00\",\"2022-05-06T06:15:00+00:00\",\"2022-05-06T06:20:00+00:00\",\"2022-05-06T06:25:00+00:00\",\"2022-05-06T06:30:00+00:00\",\"2022-05-06T06:35:00+00:00\",\"2022-05-06T06:40:00+00:00\",\"2022-05-06T06:45:00+00:00\",\"2022-05-06T06:50:00+00:00\",\"2022-05-06T06:55:00+00:00\",\"2022-05-06T07:00:00+00:00\",\"2022-05-06T07:05:00+00:00\",\"2022-05-06T07:10:00+00:00\",\"2022-05-06T07:15:00+00:00\",\"2022-05-06T07:20:00+00:00\",\"2022-05-06T07:25:00+00:00\",\"2022-05-06T07:30:00+00:00\",\"2022-05-06T07:35:00+00:00\",\"2022-05-06T07:40:00+00:00\",\"2022-05-06T07:45:00+00:00\",\"2022-05-06T07:50:00+00:00\",\"2022-05-06T07:55:00+00:00\",\"2022-05-06T08:00:00+00:00\",\"2022-05-06T08:05:00+00:00\",\"2022-05-06T08:10:00+00:00\",\"2022-05-06T08:15:00+00:00\",\"2022-05-06T08:20:00+00:00\",\"2022-05-06T08:25:00+00:00\",\"2022-05-06T08:30:00+00:00\",\"2022-05-06T08:35:00+00:00\",\"2022-05-06T08:40:00+00:00\",\"2022-05-06T08:45:00+00:00\",\"2022-05-06T08:50:00+00:00\",\"2022-05-06T08:55:00+00:00\",\"2022-05-06T09:00:00+00:00\",\"2022-05-06T09:05:00+00:00\",\"2022-05-06T09:10:00+00:00\",\"2022-05-06T09:15:00+00:00\",\"2022-05-06T09:20:00+00:00\",\"2022-05-06T09:25:00+00:00\",\"2022-05-06T09:30:00+00:00\",\"2022-05-06T09:35:00+00:00\",\"2022-05-06T09:40:00+00:00\",\"2022-05-06T09:45:00+00:00\",\"2022-05-06T09:50:00+00:00\",\"2022-05-06T09:55:00+00:00\",\"2022-05-06T10:00:00+00:00\",\"2022-05-06T10:05:00+00:00\",\"2022-05-06T10:20:00+00:00\",\"2022-05-06T10:30:00+00:00\",\"2022-05-06T10:35:00+00:00\",\"2022-05-06T10:40:00+00:00\",\"2022-05-06T10:45:00+00:00\",\"2022-05-06T10:50:00+00:00\",\"2022-05-06T10:55:00+00:00\",\"2022-05-06T11:00:00+00:00\",\"2022-05-06T11:05:00+00:00\",\"2022-05-06T11:10:00+00:00\",\"2022-05-06T11:15:00+00:00\",\"2022-05-06T11:20:00+00:00\",\"2022-05-06T11:25:00+00:00\",\"2022-05-06T11:30:00+00:00\",\"2022-05-06T11:35:00+00:00\",\"2022-05-06T11:40:00+00:00\",\"2022-05-06T11:45:00+00:00\",\"2022-05-06T11:50:00+00:00\",\"2022-05-06T11:55:00+00:00\",\"2022-05-06T12:00:00+00:00\",\"2022-05-06T12:05:00+00:00\",\"2022-05-06T12:10:00+00:00\",\"2022-05-06T12:15:00+00:00\",\"2022-05-06T12:20:00+00:00\",\"2022-05-06T12:25:00+00:00\",\"2022-05-06T12:30:00+00:00\",\"2022-05-06T12:35:00+00:00\",\"2022-05-06T12:40:00+00:00\",\"2022-05-06T12:45:00+00:00\",\"2022-05-06T12:50:00+00:00\",\"2022-05-06T12:55:00+00:00\",\"2022-05-06T13:00:00+00:00\",\"2022-05-06T13:05:00+00:00\",\"2022-05-06T13:10:00+00:00\",\"2022-05-06T13:15:00+00:00\",\"2022-05-06T13:20:00+00:00\",\"2022-05-06T13:25:00+00:00\",\"2022-05-06T13:30:00+00:00\",\"2022-05-06T13:35:00+00:00\",\"2022-05-06T13:40:00+00:00\",\"2022-05-06T13:45:00+00:00\",\"2022-05-06T13:50:00+00:00\",\"2022-05-06T13:55:00+00:00\",\"2022-05-06T14:00:00+00:00\",\"2022-05-06T14:05:00+00:00\",\"2022-05-06T14:10:00+00:00\",\"2022-05-06T14:15:00+00:00\",\"2022-05-06T14:20:00+00:00\",\"2022-05-06T14:25:00+00:00\",\"2022-05-06T14:30:00+00:00\",\"2022-05-06T14:35:00+00:00\",\"2022-05-06T14:40:00+00:00\",\"2022-05-06T14:45:00+00:00\",\"2022-05-06T14:50:00+00:00\",\"2022-05-06T14:55:00+00:00\",\"2022-05-06T15:00:00+00:00\",\"2022-05-06T15:05:00+00:00\",\"2022-05-06T15:10:00+00:00\",\"2022-05-06T15:15:00+00:00\",\"2022-05-06T15:20:00+00:00\",\"2022-05-06T15:25:00+00:00\",\"2022-05-06T15:30:00+00:00\",\"2022-05-06T15:35:00+00:00\",\"2022-05-06T15:40:00+00:00\",\"2022-05-06T15:45:00+00:00\",\"2022-05-06T15:50:00+00:00\",\"2022-05-06T15:55:00+00:00\",\"2022-05-06T16:00:00+00:00\",\"2022-05-06T16:05:00+00:00\",\"2022-05-06T16:10:00+00:00\",\"2022-05-06T16:15:00+00:00\",\"2022-05-06T16:20:00+00:00\",\"2022-05-06T16:25:00+00:00\",\"2022-05-06T16:30:00+00:00\",\"2022-05-06T16:35:00+00:00\",\"2022-05-06T16:40:00+00:00\",\"2022-05-06T16:45:00+00:00\",\"2022-05-06T16:50:00+00:00\",\"2022-05-06T16:55:00+00:00\",\"2022-05-06T17:00:00+00:00\",\"2022-05-06T17:05:00+00:00\",\"2022-05-06T17:10:00+00:00\",\"2022-05-06T17:15:00+00:00\",\"2022-05-06T17:20:00+00:00\",\"2022-05-06T17:25:00+00:00\",\"2022-05-06T17:30:00+00:00\",\"2022-05-06T17:35:00+00:00\",\"2022-05-06T17:40:00+00:00\",\"2022-05-06T17:45:00+00:00\",\"2022-05-06T17:50:00+00:00\",\"2022-05-06T17:55:00+00:00\",\"2022-05-06T18:00:00+00:00\",\"2022-05-06T18:05:00+00:00\",\"2022-05-06T18:10:00+00:00\",\"2022-05-06T18:15:00+00:00\",\"2022-05-06T18:20:00+00:00\",\"2022-05-06T18:25:00+00:00\",\"2022-05-06T18:30:00+00:00\",\"2022-05-06T18:45:00+00:00\",\"2022-05-06T18:55:00+00:00\",\"2022-05-06T19:00:00+00:00\",\"2022-05-06T19:05:00+00:00\",\"2022-05-06T19:10:00+00:00\",\"2022-05-06T19:15:00+00:00\",\"2022-05-06T19:20:00+00:00\",\"2022-05-06T19:25:00+00:00\",\"2022-05-06T19:30:00+00:00\",\"2022-05-06T19:35:00+00:00\",\"2022-05-06T19:40:00+00:00\",\"2022-05-06T19:45:00+00:00\",\"2022-05-06T19:50:00+00:00\",\"2022-05-06T19:55:00+00:00\",\"2022-05-06T20:00:00+00:00\",\"2022-05-06T20:05:00+00:00\",\"2022-05-06T20:10:00+00:00\",\"2022-05-06T20:15:00+00:00\",\"2022-05-06T20:20:00+00:00\",\"2022-05-06T20:25:00+00:00\",\"2022-05-06T20:30:00+00:00\",\"2022-05-06T20:35:00+00:00\",\"2022-05-06T20:40:00+00:00\",\"2022-05-06T20:45:00+00:00\",\"2022-05-06T20:50:00+00:00\",\"2022-05-06T20:55:00+00:00\",\"2022-05-06T21:00:00+00:00\",\"2022-05-06T21:05:00+00:00\",\"2022-05-06T21:10:00+00:00\",\"2022-05-06T21:15:00+00:00\",\"2022-05-06T21:20:00+00:00\",\"2022-05-06T21:25:00+00:00\",\"2022-05-06T21:30:00+00:00\",\"2022-05-06T21:35:00+00:00\",\"2022-05-06T21:40:00+00:00\",\"2022-05-06T21:45:00+00:00\",\"2022-05-06T21:50:00+00:00\",\"2022-05-06T21:55:00+00:00\",\"2022-05-06T22:00:00+00:00\",\"2022-05-06T22:05:00+00:00\",\"2022-05-06T22:10:00+00:00\",\"2022-05-06T22:15:00+00:00\",\"2022-05-06T22:20:00+00:00\",\"2022-05-06T22:25:00+00:00\",\"2022-05-06T22:30:00+00:00\",\"2022-05-06T22:35:00+00:00\",\"2022-05-06T22:40:00+00:00\",\"2022-05-06T22:45:00+00:00\",\"2022-05-06T22:50:00+00:00\",\"2022-05-06T22:55:00+00:00\",\"2022-05-06T23:00:00+00:00\",\"2022-05-06T23:05:00+00:00\",\"2022-05-06T23:10:00+00:00\",\"2022-05-06T23:15:00+00:00\",\"2022-05-06T23:20:00+00:00\",\"2022-05-06T23:25:00+00:00\",\"2022-05-06T23:30:00+00:00\",\"2022-05-06T23:35:00+00:00\",\"2022-05-06T23:40:00+00:00\",\"2022-05-06T23:45:00+00:00\",\"2022-05-06T23:50:00+00:00\",\"2022-05-07T00:00:00+00:00\",\"2022-05-06T00:00:05+00:00\",\"2022-05-06T00:05:05+00:00\",\"2022-05-06T00:10:05+00:00\",\"2022-05-06T00:15:05+00:00\",\"2022-05-06T00:20:05+00:00\",\"2022-05-06T00:25:05+00:00\",\"2022-05-06T00:30:05+00:00\",\"2022-05-06T00:35:05+00:00\",\"2022-05-06T00:40:05+00:00\",\"2022-05-06T00:45:05+00:00\",\"2022-05-06T00:50:05+00:00\",\"2022-05-06T00:55:05+00:00\",\"2022-05-06T01:00:05+00:00\",\"2022-05-06T01:05:05+00:00\",\"2022-05-06T01:10:05+00:00\",\"2022-05-06T01:15:05+00:00\",\"2022-05-06T01:20:05+00:00\",\"2022-05-06T01:25:05+00:00\",\"2022-05-06T01:30:05+00:00\",\"2022-05-06T01:35:05+00:00\",\"2022-05-06T01:40:05+00:00\",\"2022-05-06T01:45:05+00:00\",\"2022-05-06T01:50:05+00:00\",\"2022-05-06T01:55:05+00:00\",\"2022-05-06T02:00:05+00:00\",\"2022-05-06T02:05:05+00:00\",\"2022-05-06T02:10:05+00:00\",\"2022-05-06T02:15:05+00:00\",\"2022-05-06T02:20:05+00:00\",\"2022-05-06T02:25:05+00:00\",\"2022-05-06T02:30:05+00:00\",\"2022-05-06T02:35:05+00:00\",\"2022-05-06T02:40:05+00:00\",\"2022-05-06T02:45:05+00:00\",\"2022-05-06T02:50:05+00:00\",\"2022-05-06T02:55:05+00:00\",\"2022-05-06T03:00:05+00:00\",\"2022-05-06T03:05:05+00:00\",\"2022-05-06T03:10:05+00:00\",\"2022-05-06T03:15:05+00:00\",\"2022-05-06T03:20:05+00:00\",\"2022-05-06T03:25:05+00:00\",\"2022-05-06T03:30:05+00:00\",\"2022-05-06T03:35:05+00:00\",\"2022-05-06T03:40:05+00:00\",\"2022-05-06T03:45:05+00:00\",\"2022-05-06T03:50:05+00:00\",\"2022-05-06T03:55:05+00:00\",\"2022-05-06T04:00:05+00:00\",\"2022-05-06T04:05:05+00:00\",\"2022-05-06T04:10:05+00:00\",\"2022-05-06T04:15:05+00:00\",\"2022-05-06T04:20:05+00:00\",\"2022-05-06T04:25:05+00:00\",\"2022-05-06T04:30:05+00:00\",\"2022-05-06T04:35:05+00:00\",\"2022-05-06T04:40:05+00:00\",\"2022-05-06T04:45:05+00:00\",\"2022-05-06T04:50:05+00:00\",\"2022-05-06T04:55:05+00:00\",\"2022-05-06T05:00:05+00:00\",\"2022-05-06T05:05:05+00:00\",\"2022-05-06T05:10:05+00:00\",\"2022-05-06T05:15:05+00:00\",\"2022-05-06T05:20:05+00:00\",\"2022-05-06T05:25:05+00:00\",\"2022-05-06T05:30:05+00:00\",\"2022-05-06T05:35:05+00:00\",\"2022-05-06T05:40:05+00:00\",\"2022-05-06T05:45:05+00:00\",\"2022-05-06T05:50:05+00:00\",\"2022-05-06T05:55:05+00:00\",\"2022-05-06T06:00:05+00:00\",\"2022-05-06T06:05:05+00:00\",\"2022-05-06T06:10:05+00:00\",\"2022-05-06T06:15:05+00:00\",\"2022-05-06T06:20:05+00:00\",\"2022-05-06T06:25:05+00:00\",\"2022-05-06T06:30:05+00:00\",\"2022-05-06T06:35:05+00:00\",\"2022-05-06T06:40:05+00:00\",\"2022-05-06T06:45:05+00:00\",\"2022-05-06T06:50:05+00:00\",\"2022-05-06T06:55:05+00:00\",\"2022-05-06T07:00:05+00:00\",\"2022-05-06T07:05:05+00:00\",\"2022-05-06T07:10:05+00:00\",\"2022-05-06T07:15:05+00:00\",\"2022-05-06T07:20:05+00:00\",\"2022-05-06T07:25:05+00:00\",\"2022-05-06T07:30:05+00:00\",\"2022-05-06T07:35:05+00:00\",\"2022-05-06T07:40:05+00:00\",\"2022-05-06T07:45:05+00:00\",\"2022-05-06T07:50:05+00:00\",\"2022-05-06T07:55:05+00:00\",\"2022-05-06T08:00:05+00:00\",\"2022-05-06T08:05:05+00:00\",\"2022-05-06T08:10:05+00:00\",\"2022-05-06T08:15:05+00:00\",\"2022-05-06T08:20:05+00:00\",\"2022-05-06T08:25:05+00:00\",\"2022-05-06T08:30:05+00:00\",\"2022-05-06T08:35:05+00:00\",\"2022-05-06T08:40:05+00:00\",\"2022-05-06T08:45:05+00:00\",\"2022-05-06T08:50:05+00:00\",\"2022-05-06T08:55:05+00:00\",\"2022-05-06T09:00:05+00:00\",\"2022-05-06T09:05:05+00:00\",\"2022-05-06T09:10:05+00:00\",\"2022-05-06T09:15:05+00:00\",\"2022-05-06T09:20:05+00:00\",\"2022-05-06T09:25:05+00:00\",\"2022-05-06T09:30:05+00:00\",\"2022-05-06T09:35:05+00:00\",\"2022-05-06T09:40:05+00:00\",\"2022-05-06T09:45:05+00:00\",\"2022-05-06T09:50:05+00:00\",\"2022-05-06T09:55:05+00:00\",\"2022-05-06T10:00:05+00:00\",\"2022-05-06T10:05:05+00:00\",\"2022-05-06T10:10:05+00:00\",\"2022-05-06T10:15:05+00:00\",\"2022-05-06T10:20:05+00:00\",\"2022-05-06T10:25:05+00:00\",\"2022-05-06T10:30:05+00:00\",\"2022-05-06T10:35:05+00:00\",\"2022-05-06T10:40:05+00:00\",\"2022-05-06T10:45:05+00:00\",\"2022-05-06T10:50:05+00:00\",\"2022-05-06T10:55:05+00:00\",\"2022-05-06T11:00:05+00:00\",\"2022-05-06T11:05:05+00:00\",\"2022-05-06T11:10:05+00:00\",\"2022-05-06T11:15:05+00:00\",\"2022-05-06T11:20:05+00:00\",\"2022-05-06T11:25:05+00:00\",\"2022-05-06T11:30:05+00:00\",\"2022-05-06T11:35:05+00:00\",\"2022-05-06T11:40:05+00:00\",\"2022-05-06T11:45:05+00:00\",\"2022-05-06T11:50:05+00:00\",\"2022-05-06T11:55:05+00:00\",\"2022-05-06T12:00:05+00:00\",\"2022-05-06T12:05:05+00:00\",\"2022-05-06T12:10:05+00:00\",\"2022-05-06T12:15:05+00:00\",\"2022-05-06T12:20:05+00:00\",\"2022-05-06T12:25:05+00:00\",\"2022-05-06T12:30:05+00:00\",\"2022-05-06T12:35:05+00:00\",\"2022-05-06T12:40:05+00:00\",\"2022-05-06T12:45:05+00:00\",\"2022-05-06T12:50:05+00:00\",\"2022-05-06T12:55:05+00:00\",\"2022-05-06T13:00:05+00:00\",\"2022-05-06T13:05:05+00:00\",\"2022-05-06T13:10:05+00:00\",\"2022-05-06T13:15:05+00:00\",\"2022-05-06T13:20:05+00:00\",\"2022-05-06T13:25:05+00:00\",\"2022-05-06T13:30:05+00:00\",\"2022-05-06T13:35:05+00:00\",\"2022-05-06T13:40:05+00:00\",\"2022-05-06T13:45:05+00:00\",\"2022-05-06T13:50:05+00:00\",\"2022-05-06T13:55:05+00:00\",\"2022-05-06T14:00:05+00:00\",\"2022-05-06T14:05:05+00:00\",\"2022-05-06T14:10:05+00:00\",\"2022-05-06T14:15:05+00:00\",\"2022-05-06T14:20:05+00:00\",\"2022-05-06T14:25:05+00:00\",\"2022-05-06T14:30:05+00:00\",\"2022-05-06T14:35:05+00:00\",\"2022-05-06T14:40:05+00:00\",\"2022-05-06T14:45:05+00:00\",\"2022-05-06T14:50:05+00:00\",\"2022-05-06T15:05:05+00:00\",\"2022-05-06T15:10:05+00:00\",\"2022-05-06T15:15:05+00:00\",\"2022-05-06T15:25:05+00:00\",\"2022-05-06T15:30:05+00:00\",\"2022-05-06T15:35:05+00:00\",\"2022-05-06T15:45:05+00:00\",\"2022-05-06T15:50:05+00:00\",\"2022-05-06T15:55:05+00:00\",\"2022-05-06T16:00:05+00:00\",\"2022-05-06T16:05:05+00:00\",\"2022-05-06T16:10:05+00:00\",\"2022-05-06T16:20:05+00:00\",\"2022-05-06T16:30:05+00:00\",\"2022-05-06T16:45:05+00:00\",\"2022-05-06T16:50:05+00:00\",\"2022-05-06T17:05:05+00:00\",\"2022-05-06T17:10:05+00:00\",\"2022-05-06T17:20:05+00:00\",\"2022-05-06T17:35:05+00:00\",\"2022-05-06T17:40:05+00:00\",\"2022-05-06T17:45:05+00:00\",\"2022-05-06T17:50:05+00:00\",\"2022-05-06T17:55:05+00:00\",\"2022-05-06T18:00:05+00:00\",\"2022-05-06T18:05:05+00:00\",\"2022-05-06T18:10:05+00:00\",\"2022-05-06T18:15:05+00:00\",\"2022-05-06T18:20:05+00:00\",\"2022-05-06T18:25:05+00:00\",\"2022-05-06T18:30:05+00:00\",\"2022-05-06T18:35:05+00:00\",\"2022-05-06T18:45:05+00:00\",\"2022-05-06T18:50:05+00:00\",\"2022-05-06T18:55:05+00:00\",\"2022-05-06T19:00:05+00:00\",\"2022-05-06T19:05:05+00:00\",\"2022-05-06T19:20:05+00:00\",\"2022-05-06T19:25:05+00:00\",\"2022-05-06T19:30:05+00:00\",\"2022-05-06T19:35:05+00:00\",\"2022-05-06T19:40:05+00:00\",\"2022-05-06T19:45:05+00:00\",\"2022-05-06T19:50:05+00:00\",\"2022-05-06T19:55:05+00:00\",\"2022-05-06T20:00:05+00:00\",\"2022-05-06T20:05:05+00:00\",\"2022-05-06T20:15:05+00:00\",\"2022-05-06T20:20:05+00:00\",\"2022-05-06T20:30:05+00:00\",\"2022-05-06T20:40:05+00:00\",\"2022-05-06T20:45:05+00:00\",\"2022-05-06T20:50:05+00:00\",\"2022-05-06T20:55:05+00:00\",\"2022-05-06T21:00:05+00:00\",\"2022-05-06T21:05:05+00:00\",\"2022-05-06T21:10:05+00:00\",\"2022-05-06T21:15:05+00:00\",\"2022-05-06T21:20:05+00:00\",\"2022-05-06T21:25:05+00:00\",\"2022-05-06T21:30:05+00:00\",\"2022-05-06T21:35:05+00:00\",\"2022-05-06T21:40:05+00:00\",\"2022-05-06T21:45:05+00:00\",\"2022-05-06T21:50:05+00:00\",\"2022-05-06T21:55:05+00:00\",\"2022-05-06T22:00:05+00:00\",\"2022-05-06T22:10:05+00:00\",\"2022-05-06T22:15:05+00:00\",\"2022-05-06T22:20:05+00:00\",\"2022-05-06T22:25:05+00:00\",\"2022-05-06T22:30:05+00:00\",\"2022-05-06T22:35:05+00:00\",\"2022-05-06T22:40:05+00:00\",\"2022-05-06T22:45:05+00:00\",\"2022-05-06T22:50:05+00:00\",\"2022-05-06T22:55:05+00:00\",\"2022-05-06T23:00:05+00:00\",\"2022-05-06T23:05:05+00:00\",\"2022-05-06T23:10:05+00:00\",\"2022-05-06T23:15:05+00:00\",\"2022-05-06T23:20:05+00:00\",\"2022-05-06T23:25:05+00:00\",\"2022-05-06T23:30:05+00:00\",\"2022-05-06T23:35:05+00:00\",\"2022-05-06T23:40:05+00:00\",\"2022-05-06T23:45:05+00:00\",\"2022-05-06T23:50:05+00:00\",\"2022-05-06T23:55:05+00:00\",\"2022-05-06T03:30:26+00:00\",\"2022-05-06T08:00:28+00:00\",\"2022-05-06T14:55:05+00:00\",\"2022-05-06T15:20:05+00:00\",\"2022-05-06T16:25:05+00:00\",\"2022-05-06T16:40:05+00:00\",\"2022-05-06T17:25:05+00:00\",\"2022-05-06T17:30:05+00:00\",\"2022-05-06T18:40:05+00:00\",\"2022-05-06T19:10:05+00:00\",\"2022-05-06T19:15:05+00:00\",\"2022-05-06T20:10:05+00:00\",\"2022-05-06T20:25:05+00:00\",\"2022-05-06T22:05:05+00:00\"],\"xaxis\":\"x\",\"y\":[null,null,null,null,null,null,null,null,null,null,null,null,null,null,null,null,null,null,null,null,null,null,null,null,null,null,null,null,null,null,null,null,null,null,null,null,null,null,null,null,null,null,null,null,null,null,null,null,null,null,null,null,null,null,null,null,null,null,null,null,null,null,null,null,null,null,null,null,null,null,null,null,null,null,null,null,null,null,null,null,null,null,null,null,null,null,null,null,null,null,null,null,null,null,null,null,null,null,null,null,null,null,null,null,null,null,null,null,null,null,null,null,null,null,null,null,null,null,null,null,null,null,null,null,null,null,null,null,null,null,null,null,null,null,null,null,null,null,null,null,null,null,null,null,null,null,null,null,null,null,null,null,null,null,null,null,null,null,null,null,null,null,null,null,null,null,null,null,null,null,null,null,null,null,null,null,null,null,null,null,null,null,null,null,null,null,null,null,null,null,null,null,null,null,null,null,null,null,null,null,null,null,null,null,null,null,null,null,null,null,null,null,null,null,null,null,null,null,null,null,null,null,null,null,null,null,null,null,null,null,null,null,null,null,null,null,null,null,null,null,null,null,null,null,null,null,null,null,null,null,null,null,null,null,null,null,null,null,null,null,null,null,null,null,null,null,null,null,null,null,null,null,null,null,null,null,null,null,null,null,null,null,285.0,281.5,281.3,278.1,282.4,282.8,282.9,283.9,277.4,275.6,277.7,281.2,279.9,273.9,278.9,281.7,275.0,275.4,281.1,282.0,281.8,275.3,272.3,271.2,268.4,286.6,263.4,270.9,259.8,257.0,263.4,292.3,264.9,262.1,275.7,274.0,275.5,278.8,299.3,310.7,274.7,281.1,276.1,279.7,282.7,279.2,312.2,312.2,320.1,342.7,329.9,328.1,346.2,344.8,350.4,345.2,355.7,332.8,353.4,345.3,341.2,349.8,344.3,341.0,352.0,338.7,340.8,330.0,362.2,326.7,323.3,337.8,346.0,329.4,345.2,318.9,336.0,338.8,340.5,331.1,342.1,348.6,341.1,344.8,341.6,320.2,347.5,342.3,354.6,351.7,335.2,340.7,347.5,343.8,312.8,350.7,346.9,350.0,345.6,347.2,353.5,355.3,351.3,353.1,364.1,359.2,366.6,356.2,351.7,341.0,361.7,373.5,354.5,353.7,357.5,355.4,362.7,350.8,351.5,361.1,348.1,354.1,368.4,350.7,351.7,354.0,349.4,354.9,318.7,344.2,335.0,323.6,312.0,324.6,331.2,319.0,310.2,308.3,303.7,289.8,280.2,269.6,260.0,254.3,244.3,240.7,241.3,235.8,229.0,225.5,231.7,223.9,226.3,216.7,226.0,219.7,224.2,220.5,219.0,203.9,231.6,223.5,227.5,241.4,247.7,234.2,225.9,225.5,232.6,248.4,236.8,235.6,240.4,242.1,218.2,225.1,230.9,233.2,237.7,244.0,223.6,251.9,264.3,280.5,256.5,237.0,249.4,271.5,239.8,259.3,270.7,255.5,278.0,273.5,265.4,278.2,290.5,271.7,268.4,281.8,299.9,247.6,297.1,302.0,280.5,271.8,312.6,305.3,249.8,299.7,274.2,313.9,306.5,313.8,288.5,281.5,291.3,306.1,262.1,306.0,284.1,307.5,312.7,277.9,297.6,309.9,307.7,305.0,297.5,299.7,315.3,310.1,240.6,257.8,243.5,265.2,310.9,290.2,297.6,276.8,270.9,280.7,331.3,267.3,294.3,291.7,257.2,269.8,280.5,288.6,294.2,252.6,263.7,285.8,279.8,287.6,293.9,272.9,258.2,283.0,299.3,282.4,278.8,286.6,286.8,303.2,286.6,278.2,null,null,null,null,null,null,null,null,null,null,null,null,null,null],\"yaxis\":\"y\",\"type\":\"scattergl\"},{\"hovertemplate\":\"variable=BOULDER<br>Time=%{x}<br>value=%{y}<extra></extra>\",\"legendgroup\":\"BOULDER\",\"line\":{\"color\":\"#EF553B\",\"dash\":\"solid\"},\"marker\":{\"symbol\":\"circle\"},\"mode\":\"lines\",\"name\":\"BOULDER\",\"showlegend\":true,\"x\":[\"2022-05-06T00:00:00+00:00\",\"2022-05-06T00:05:00+00:00\",\"2022-05-06T00:10:00+00:00\",\"2022-05-06T00:15:00+00:00\",\"2022-05-06T00:20:00+00:00\",\"2022-05-06T00:25:00+00:00\",\"2022-05-06T00:30:00+00:00\",\"2022-05-06T00:35:00+00:00\",\"2022-05-06T00:40:00+00:00\",\"2022-05-06T00:45:00+00:00\",\"2022-05-06T00:50:00+00:00\",\"2022-05-06T00:55:00+00:00\",\"2022-05-06T01:00:00+00:00\",\"2022-05-06T01:05:00+00:00\",\"2022-05-06T01:10:00+00:00\",\"2022-05-06T01:15:00+00:00\",\"2022-05-06T01:20:00+00:00\",\"2022-05-06T01:25:00+00:00\",\"2022-05-06T01:30:00+00:00\",\"2022-05-06T01:35:00+00:00\",\"2022-05-06T01:40:00+00:00\",\"2022-05-06T01:45:00+00:00\",\"2022-05-06T01:50:00+00:00\",\"2022-05-06T01:55:00+00:00\",\"2022-05-06T02:00:00+00:00\",\"2022-05-06T02:05:00+00:00\",\"2022-05-06T02:10:00+00:00\",\"2022-05-06T02:15:00+00:00\",\"2022-05-06T02:20:00+00:00\",\"2022-05-06T02:25:00+00:00\",\"2022-05-06T02:30:00+00:00\",\"2022-05-06T02:35:00+00:00\",\"2022-05-06T02:40:00+00:00\",\"2022-05-06T02:45:00+00:00\",\"2022-05-06T02:50:00+00:00\",\"2022-05-06T02:55:00+00:00\",\"2022-05-06T03:00:00+00:00\",\"2022-05-06T03:05:00+00:00\",\"2022-05-06T03:10:00+00:00\",\"2022-05-06T03:15:00+00:00\",\"2022-05-06T03:20:00+00:00\",\"2022-05-06T03:25:00+00:00\",\"2022-05-06T03:30:00+00:00\",\"2022-05-06T03:35:00+00:00\",\"2022-05-06T03:40:00+00:00\",\"2022-05-06T03:45:00+00:00\",\"2022-05-06T03:50:00+00:00\",\"2022-05-06T03:55:00+00:00\",\"2022-05-06T04:00:00+00:00\",\"2022-05-06T04:05:00+00:00\",\"2022-05-06T04:10:00+00:00\",\"2022-05-06T04:15:00+00:00\",\"2022-05-06T04:20:00+00:00\",\"2022-05-06T04:25:00+00:00\",\"2022-05-06T04:30:00+00:00\",\"2022-05-06T04:35:00+00:00\",\"2022-05-06T04:40:00+00:00\",\"2022-05-06T04:45:00+00:00\",\"2022-05-06T04:50:00+00:00\",\"2022-05-06T04:55:00+00:00\",\"2022-05-06T05:00:00+00:00\",\"2022-05-06T05:05:00+00:00\",\"2022-05-06T05:10:00+00:00\",\"2022-05-06T05:15:00+00:00\",\"2022-05-06T05:20:00+00:00\",\"2022-05-06T05:25:00+00:00\",\"2022-05-06T05:30:00+00:00\",\"2022-05-06T05:35:00+00:00\",\"2022-05-06T05:40:00+00:00\",\"2022-05-06T05:45:00+00:00\",\"2022-05-06T05:50:00+00:00\",\"2022-05-06T05:55:00+00:00\",\"2022-05-06T06:00:00+00:00\",\"2022-05-06T06:05:00+00:00\",\"2022-05-06T06:10:00+00:00\",\"2022-05-06T06:15:00+00:00\",\"2022-05-06T06:20:00+00:00\",\"2022-05-06T06:25:00+00:00\",\"2022-05-06T06:30:00+00:00\",\"2022-05-06T06:35:00+00:00\",\"2022-05-06T06:40:00+00:00\",\"2022-05-06T06:45:00+00:00\",\"2022-05-06T06:50:00+00:00\",\"2022-05-06T06:55:00+00:00\",\"2022-05-06T07:00:00+00:00\",\"2022-05-06T07:05:00+00:00\",\"2022-05-06T07:10:00+00:00\",\"2022-05-06T07:15:00+00:00\",\"2022-05-06T07:20:00+00:00\",\"2022-05-06T07:25:00+00:00\",\"2022-05-06T07:30:00+00:00\",\"2022-05-06T07:35:00+00:00\",\"2022-05-06T07:40:00+00:00\",\"2022-05-06T07:45:00+00:00\",\"2022-05-06T07:50:00+00:00\",\"2022-05-06T07:55:00+00:00\",\"2022-05-06T08:00:00+00:00\",\"2022-05-06T08:05:00+00:00\",\"2022-05-06T08:10:00+00:00\",\"2022-05-06T08:15:00+00:00\",\"2022-05-06T08:20:00+00:00\",\"2022-05-06T08:25:00+00:00\",\"2022-05-06T08:30:00+00:00\",\"2022-05-06T08:35:00+00:00\",\"2022-05-06T08:40:00+00:00\",\"2022-05-06T08:45:00+00:00\",\"2022-05-06T08:50:00+00:00\",\"2022-05-06T08:55:00+00:00\",\"2022-05-06T09:00:00+00:00\",\"2022-05-06T09:05:00+00:00\",\"2022-05-06T09:10:00+00:00\",\"2022-05-06T09:15:00+00:00\",\"2022-05-06T09:20:00+00:00\",\"2022-05-06T09:25:00+00:00\",\"2022-05-06T09:30:00+00:00\",\"2022-05-06T09:35:00+00:00\",\"2022-05-06T09:40:00+00:00\",\"2022-05-06T09:45:00+00:00\",\"2022-05-06T09:50:00+00:00\",\"2022-05-06T09:55:00+00:00\",\"2022-05-06T10:00:00+00:00\",\"2022-05-06T10:05:00+00:00\",\"2022-05-06T10:20:00+00:00\",\"2022-05-06T10:30:00+00:00\",\"2022-05-06T10:35:00+00:00\",\"2022-05-06T10:40:00+00:00\",\"2022-05-06T10:45:00+00:00\",\"2022-05-06T10:50:00+00:00\",\"2022-05-06T10:55:00+00:00\",\"2022-05-06T11:00:00+00:00\",\"2022-05-06T11:05:00+00:00\",\"2022-05-06T11:10:00+00:00\",\"2022-05-06T11:15:00+00:00\",\"2022-05-06T11:20:00+00:00\",\"2022-05-06T11:25:00+00:00\",\"2022-05-06T11:30:00+00:00\",\"2022-05-06T11:35:00+00:00\",\"2022-05-06T11:40:00+00:00\",\"2022-05-06T11:45:00+00:00\",\"2022-05-06T11:50:00+00:00\",\"2022-05-06T11:55:00+00:00\",\"2022-05-06T12:00:00+00:00\",\"2022-05-06T12:05:00+00:00\",\"2022-05-06T12:10:00+00:00\",\"2022-05-06T12:15:00+00:00\",\"2022-05-06T12:20:00+00:00\",\"2022-05-06T12:25:00+00:00\",\"2022-05-06T12:30:00+00:00\",\"2022-05-06T12:35:00+00:00\",\"2022-05-06T12:40:00+00:00\",\"2022-05-06T12:45:00+00:00\",\"2022-05-06T12:50:00+00:00\",\"2022-05-06T12:55:00+00:00\",\"2022-05-06T13:00:00+00:00\",\"2022-05-06T13:05:00+00:00\",\"2022-05-06T13:10:00+00:00\",\"2022-05-06T13:15:00+00:00\",\"2022-05-06T13:20:00+00:00\",\"2022-05-06T13:25:00+00:00\",\"2022-05-06T13:30:00+00:00\",\"2022-05-06T13:35:00+00:00\",\"2022-05-06T13:40:00+00:00\",\"2022-05-06T13:45:00+00:00\",\"2022-05-06T13:50:00+00:00\",\"2022-05-06T13:55:00+00:00\",\"2022-05-06T14:00:00+00:00\",\"2022-05-06T14:05:00+00:00\",\"2022-05-06T14:10:00+00:00\",\"2022-05-06T14:15:00+00:00\",\"2022-05-06T14:20:00+00:00\",\"2022-05-06T14:25:00+00:00\",\"2022-05-06T14:30:00+00:00\",\"2022-05-06T14:35:00+00:00\",\"2022-05-06T14:40:00+00:00\",\"2022-05-06T14:45:00+00:00\",\"2022-05-06T14:50:00+00:00\",\"2022-05-06T14:55:00+00:00\",\"2022-05-06T15:00:00+00:00\",\"2022-05-06T15:05:00+00:00\",\"2022-05-06T15:10:00+00:00\",\"2022-05-06T15:15:00+00:00\",\"2022-05-06T15:20:00+00:00\",\"2022-05-06T15:25:00+00:00\",\"2022-05-06T15:30:00+00:00\",\"2022-05-06T15:35:00+00:00\",\"2022-05-06T15:40:00+00:00\",\"2022-05-06T15:45:00+00:00\",\"2022-05-06T15:50:00+00:00\",\"2022-05-06T15:55:00+00:00\",\"2022-05-06T16:00:00+00:00\",\"2022-05-06T16:05:00+00:00\",\"2022-05-06T16:10:00+00:00\",\"2022-05-06T16:15:00+00:00\",\"2022-05-06T16:20:00+00:00\",\"2022-05-06T16:25:00+00:00\",\"2022-05-06T16:30:00+00:00\",\"2022-05-06T16:35:00+00:00\",\"2022-05-06T16:40:00+00:00\",\"2022-05-06T16:45:00+00:00\",\"2022-05-06T16:50:00+00:00\",\"2022-05-06T16:55:00+00:00\",\"2022-05-06T17:00:00+00:00\",\"2022-05-06T17:05:00+00:00\",\"2022-05-06T17:10:00+00:00\",\"2022-05-06T17:15:00+00:00\",\"2022-05-06T17:20:00+00:00\",\"2022-05-06T17:25:00+00:00\",\"2022-05-06T17:30:00+00:00\",\"2022-05-06T17:35:00+00:00\",\"2022-05-06T17:40:00+00:00\",\"2022-05-06T17:45:00+00:00\",\"2022-05-06T17:50:00+00:00\",\"2022-05-06T17:55:00+00:00\",\"2022-05-06T18:00:00+00:00\",\"2022-05-06T18:05:00+00:00\",\"2022-05-06T18:10:00+00:00\",\"2022-05-06T18:15:00+00:00\",\"2022-05-06T18:20:00+00:00\",\"2022-05-06T18:25:00+00:00\",\"2022-05-06T18:30:00+00:00\",\"2022-05-06T18:45:00+00:00\",\"2022-05-06T18:55:00+00:00\",\"2022-05-06T19:00:00+00:00\",\"2022-05-06T19:05:00+00:00\",\"2022-05-06T19:10:00+00:00\",\"2022-05-06T19:15:00+00:00\",\"2022-05-06T19:20:00+00:00\",\"2022-05-06T19:25:00+00:00\",\"2022-05-06T19:30:00+00:00\",\"2022-05-06T19:35:00+00:00\",\"2022-05-06T19:40:00+00:00\",\"2022-05-06T19:45:00+00:00\",\"2022-05-06T19:50:00+00:00\",\"2022-05-06T19:55:00+00:00\",\"2022-05-06T20:00:00+00:00\",\"2022-05-06T20:05:00+00:00\",\"2022-05-06T20:10:00+00:00\",\"2022-05-06T20:15:00+00:00\",\"2022-05-06T20:20:00+00:00\",\"2022-05-06T20:25:00+00:00\",\"2022-05-06T20:30:00+00:00\",\"2022-05-06T20:35:00+00:00\",\"2022-05-06T20:40:00+00:00\",\"2022-05-06T20:45:00+00:00\",\"2022-05-06T20:50:00+00:00\",\"2022-05-06T20:55:00+00:00\",\"2022-05-06T21:00:00+00:00\",\"2022-05-06T21:05:00+00:00\",\"2022-05-06T21:10:00+00:00\",\"2022-05-06T21:15:00+00:00\",\"2022-05-06T21:20:00+00:00\",\"2022-05-06T21:25:00+00:00\",\"2022-05-06T21:30:00+00:00\",\"2022-05-06T21:35:00+00:00\",\"2022-05-06T21:40:00+00:00\",\"2022-05-06T21:45:00+00:00\",\"2022-05-06T21:50:00+00:00\",\"2022-05-06T21:55:00+00:00\",\"2022-05-06T22:00:00+00:00\",\"2022-05-06T22:05:00+00:00\",\"2022-05-06T22:10:00+00:00\",\"2022-05-06T22:15:00+00:00\",\"2022-05-06T22:20:00+00:00\",\"2022-05-06T22:25:00+00:00\",\"2022-05-06T22:30:00+00:00\",\"2022-05-06T22:35:00+00:00\",\"2022-05-06T22:40:00+00:00\",\"2022-05-06T22:45:00+00:00\",\"2022-05-06T22:50:00+00:00\",\"2022-05-06T22:55:00+00:00\",\"2022-05-06T23:00:00+00:00\",\"2022-05-06T23:05:00+00:00\",\"2022-05-06T23:10:00+00:00\",\"2022-05-06T23:15:00+00:00\",\"2022-05-06T23:20:00+00:00\",\"2022-05-06T23:25:00+00:00\",\"2022-05-06T23:30:00+00:00\",\"2022-05-06T23:35:00+00:00\",\"2022-05-06T23:40:00+00:00\",\"2022-05-06T23:45:00+00:00\",\"2022-05-06T23:50:00+00:00\",\"2022-05-07T00:00:00+00:00\",\"2022-05-06T00:00:05+00:00\",\"2022-05-06T00:05:05+00:00\",\"2022-05-06T00:10:05+00:00\",\"2022-05-06T00:15:05+00:00\",\"2022-05-06T00:20:05+00:00\",\"2022-05-06T00:25:05+00:00\",\"2022-05-06T00:30:05+00:00\",\"2022-05-06T00:35:05+00:00\",\"2022-05-06T00:40:05+00:00\",\"2022-05-06T00:45:05+00:00\",\"2022-05-06T00:50:05+00:00\",\"2022-05-06T00:55:05+00:00\",\"2022-05-06T01:00:05+00:00\",\"2022-05-06T01:05:05+00:00\",\"2022-05-06T01:10:05+00:00\",\"2022-05-06T01:15:05+00:00\",\"2022-05-06T01:20:05+00:00\",\"2022-05-06T01:25:05+00:00\",\"2022-05-06T01:30:05+00:00\",\"2022-05-06T01:35:05+00:00\",\"2022-05-06T01:40:05+00:00\",\"2022-05-06T01:45:05+00:00\",\"2022-05-06T01:50:05+00:00\",\"2022-05-06T01:55:05+00:00\",\"2022-05-06T02:00:05+00:00\",\"2022-05-06T02:05:05+00:00\",\"2022-05-06T02:10:05+00:00\",\"2022-05-06T02:15:05+00:00\",\"2022-05-06T02:20:05+00:00\",\"2022-05-06T02:25:05+00:00\",\"2022-05-06T02:30:05+00:00\",\"2022-05-06T02:35:05+00:00\",\"2022-05-06T02:40:05+00:00\",\"2022-05-06T02:45:05+00:00\",\"2022-05-06T02:50:05+00:00\",\"2022-05-06T02:55:05+00:00\",\"2022-05-06T03:00:05+00:00\",\"2022-05-06T03:05:05+00:00\",\"2022-05-06T03:10:05+00:00\",\"2022-05-06T03:15:05+00:00\",\"2022-05-06T03:20:05+00:00\",\"2022-05-06T03:25:05+00:00\",\"2022-05-06T03:30:05+00:00\",\"2022-05-06T03:35:05+00:00\",\"2022-05-06T03:40:05+00:00\",\"2022-05-06T03:45:05+00:00\",\"2022-05-06T03:50:05+00:00\",\"2022-05-06T03:55:05+00:00\",\"2022-05-06T04:00:05+00:00\",\"2022-05-06T04:05:05+00:00\",\"2022-05-06T04:10:05+00:00\",\"2022-05-06T04:15:05+00:00\",\"2022-05-06T04:20:05+00:00\",\"2022-05-06T04:25:05+00:00\",\"2022-05-06T04:30:05+00:00\",\"2022-05-06T04:35:05+00:00\",\"2022-05-06T04:40:05+00:00\",\"2022-05-06T04:45:05+00:00\",\"2022-05-06T04:50:05+00:00\",\"2022-05-06T04:55:05+00:00\",\"2022-05-06T05:00:05+00:00\",\"2022-05-06T05:05:05+00:00\",\"2022-05-06T05:10:05+00:00\",\"2022-05-06T05:15:05+00:00\",\"2022-05-06T05:20:05+00:00\",\"2022-05-06T05:25:05+00:00\",\"2022-05-06T05:30:05+00:00\",\"2022-05-06T05:35:05+00:00\",\"2022-05-06T05:40:05+00:00\",\"2022-05-06T05:45:05+00:00\",\"2022-05-06T05:50:05+00:00\",\"2022-05-06T05:55:05+00:00\",\"2022-05-06T06:00:05+00:00\",\"2022-05-06T06:05:05+00:00\",\"2022-05-06T06:10:05+00:00\",\"2022-05-06T06:15:05+00:00\",\"2022-05-06T06:20:05+00:00\",\"2022-05-06T06:25:05+00:00\",\"2022-05-06T06:30:05+00:00\",\"2022-05-06T06:35:05+00:00\",\"2022-05-06T06:40:05+00:00\",\"2022-05-06T06:45:05+00:00\",\"2022-05-06T06:50:05+00:00\",\"2022-05-06T06:55:05+00:00\",\"2022-05-06T07:00:05+00:00\",\"2022-05-06T07:05:05+00:00\",\"2022-05-06T07:10:05+00:00\",\"2022-05-06T07:15:05+00:00\",\"2022-05-06T07:20:05+00:00\",\"2022-05-06T07:25:05+00:00\",\"2022-05-06T07:30:05+00:00\",\"2022-05-06T07:35:05+00:00\",\"2022-05-06T07:40:05+00:00\",\"2022-05-06T07:45:05+00:00\",\"2022-05-06T07:50:05+00:00\",\"2022-05-06T07:55:05+00:00\",\"2022-05-06T08:00:05+00:00\",\"2022-05-06T08:05:05+00:00\",\"2022-05-06T08:10:05+00:00\",\"2022-05-06T08:15:05+00:00\",\"2022-05-06T08:20:05+00:00\",\"2022-05-06T08:25:05+00:00\",\"2022-05-06T08:30:05+00:00\",\"2022-05-06T08:35:05+00:00\",\"2022-05-06T08:40:05+00:00\",\"2022-05-06T08:45:05+00:00\",\"2022-05-06T08:50:05+00:00\",\"2022-05-06T08:55:05+00:00\",\"2022-05-06T09:00:05+00:00\",\"2022-05-06T09:05:05+00:00\",\"2022-05-06T09:10:05+00:00\",\"2022-05-06T09:15:05+00:00\",\"2022-05-06T09:20:05+00:00\",\"2022-05-06T09:25:05+00:00\",\"2022-05-06T09:30:05+00:00\",\"2022-05-06T09:35:05+00:00\",\"2022-05-06T09:40:05+00:00\",\"2022-05-06T09:45:05+00:00\",\"2022-05-06T09:50:05+00:00\",\"2022-05-06T09:55:05+00:00\",\"2022-05-06T10:00:05+00:00\",\"2022-05-06T10:05:05+00:00\",\"2022-05-06T10:10:05+00:00\",\"2022-05-06T10:15:05+00:00\",\"2022-05-06T10:20:05+00:00\",\"2022-05-06T10:25:05+00:00\",\"2022-05-06T10:30:05+00:00\",\"2022-05-06T10:35:05+00:00\",\"2022-05-06T10:40:05+00:00\",\"2022-05-06T10:45:05+00:00\",\"2022-05-06T10:50:05+00:00\",\"2022-05-06T10:55:05+00:00\",\"2022-05-06T11:00:05+00:00\",\"2022-05-06T11:05:05+00:00\",\"2022-05-06T11:10:05+00:00\",\"2022-05-06T11:15:05+00:00\",\"2022-05-06T11:20:05+00:00\",\"2022-05-06T11:25:05+00:00\",\"2022-05-06T11:30:05+00:00\",\"2022-05-06T11:35:05+00:00\",\"2022-05-06T11:40:05+00:00\",\"2022-05-06T11:45:05+00:00\",\"2022-05-06T11:50:05+00:00\",\"2022-05-06T11:55:05+00:00\",\"2022-05-06T12:00:05+00:00\",\"2022-05-06T12:05:05+00:00\",\"2022-05-06T12:10:05+00:00\",\"2022-05-06T12:15:05+00:00\",\"2022-05-06T12:20:05+00:00\",\"2022-05-06T12:25:05+00:00\",\"2022-05-06T12:30:05+00:00\",\"2022-05-06T12:35:05+00:00\",\"2022-05-06T12:40:05+00:00\",\"2022-05-06T12:45:05+00:00\",\"2022-05-06T12:50:05+00:00\",\"2022-05-06T12:55:05+00:00\",\"2022-05-06T13:00:05+00:00\",\"2022-05-06T13:05:05+00:00\",\"2022-05-06T13:10:05+00:00\",\"2022-05-06T13:15:05+00:00\",\"2022-05-06T13:20:05+00:00\",\"2022-05-06T13:25:05+00:00\",\"2022-05-06T13:30:05+00:00\",\"2022-05-06T13:35:05+00:00\",\"2022-05-06T13:40:05+00:00\",\"2022-05-06T13:45:05+00:00\",\"2022-05-06T13:50:05+00:00\",\"2022-05-06T13:55:05+00:00\",\"2022-05-06T14:00:05+00:00\",\"2022-05-06T14:05:05+00:00\",\"2022-05-06T14:10:05+00:00\",\"2022-05-06T14:15:05+00:00\",\"2022-05-06T14:20:05+00:00\",\"2022-05-06T14:25:05+00:00\",\"2022-05-06T14:30:05+00:00\",\"2022-05-06T14:35:05+00:00\",\"2022-05-06T14:40:05+00:00\",\"2022-05-06T14:45:05+00:00\",\"2022-05-06T14:50:05+00:00\",\"2022-05-06T15:05:05+00:00\",\"2022-05-06T15:10:05+00:00\",\"2022-05-06T15:15:05+00:00\",\"2022-05-06T15:25:05+00:00\",\"2022-05-06T15:30:05+00:00\",\"2022-05-06T15:35:05+00:00\",\"2022-05-06T15:45:05+00:00\",\"2022-05-06T15:50:05+00:00\",\"2022-05-06T15:55:05+00:00\",\"2022-05-06T16:00:05+00:00\",\"2022-05-06T16:05:05+00:00\",\"2022-05-06T16:10:05+00:00\",\"2022-05-06T16:20:05+00:00\",\"2022-05-06T16:30:05+00:00\",\"2022-05-06T16:45:05+00:00\",\"2022-05-06T16:50:05+00:00\",\"2022-05-06T17:05:05+00:00\",\"2022-05-06T17:10:05+00:00\",\"2022-05-06T17:20:05+00:00\",\"2022-05-06T17:35:05+00:00\",\"2022-05-06T17:40:05+00:00\",\"2022-05-06T17:45:05+00:00\",\"2022-05-06T17:50:05+00:00\",\"2022-05-06T17:55:05+00:00\",\"2022-05-06T18:00:05+00:00\",\"2022-05-06T18:05:05+00:00\",\"2022-05-06T18:10:05+00:00\",\"2022-05-06T18:15:05+00:00\",\"2022-05-06T18:20:05+00:00\",\"2022-05-06T18:25:05+00:00\",\"2022-05-06T18:30:05+00:00\",\"2022-05-06T18:35:05+00:00\",\"2022-05-06T18:45:05+00:00\",\"2022-05-06T18:50:05+00:00\",\"2022-05-06T18:55:05+00:00\",\"2022-05-06T19:00:05+00:00\",\"2022-05-06T19:05:05+00:00\",\"2022-05-06T19:20:05+00:00\",\"2022-05-06T19:25:05+00:00\",\"2022-05-06T19:30:05+00:00\",\"2022-05-06T19:35:05+00:00\",\"2022-05-06T19:40:05+00:00\",\"2022-05-06T19:45:05+00:00\",\"2022-05-06T19:50:05+00:00\",\"2022-05-06T19:55:05+00:00\",\"2022-05-06T20:00:05+00:00\",\"2022-05-06T20:05:05+00:00\",\"2022-05-06T20:15:05+00:00\",\"2022-05-06T20:20:05+00:00\",\"2022-05-06T20:30:05+00:00\",\"2022-05-06T20:40:05+00:00\",\"2022-05-06T20:45:05+00:00\",\"2022-05-06T20:50:05+00:00\",\"2022-05-06T20:55:05+00:00\",\"2022-05-06T21:00:05+00:00\",\"2022-05-06T21:05:05+00:00\",\"2022-05-06T21:10:05+00:00\",\"2022-05-06T21:15:05+00:00\",\"2022-05-06T21:20:05+00:00\",\"2022-05-06T21:25:05+00:00\",\"2022-05-06T21:30:05+00:00\",\"2022-05-06T21:35:05+00:00\",\"2022-05-06T21:40:05+00:00\",\"2022-05-06T21:45:05+00:00\",\"2022-05-06T21:50:05+00:00\",\"2022-05-06T21:55:05+00:00\",\"2022-05-06T22:00:05+00:00\",\"2022-05-06T22:10:05+00:00\",\"2022-05-06T22:15:05+00:00\",\"2022-05-06T22:20:05+00:00\",\"2022-05-06T22:25:05+00:00\",\"2022-05-06T22:30:05+00:00\",\"2022-05-06T22:35:05+00:00\",\"2022-05-06T22:40:05+00:00\",\"2022-05-06T22:45:05+00:00\",\"2022-05-06T22:50:05+00:00\",\"2022-05-06T22:55:05+00:00\",\"2022-05-06T23:00:05+00:00\",\"2022-05-06T23:05:05+00:00\",\"2022-05-06T23:10:05+00:00\",\"2022-05-06T23:15:05+00:00\",\"2022-05-06T23:20:05+00:00\",\"2022-05-06T23:25:05+00:00\",\"2022-05-06T23:30:05+00:00\",\"2022-05-06T23:35:05+00:00\",\"2022-05-06T23:40:05+00:00\",\"2022-05-06T23:45:05+00:00\",\"2022-05-06T23:50:05+00:00\",\"2022-05-06T23:55:05+00:00\",\"2022-05-06T03:30:26+00:00\",\"2022-05-06T08:00:28+00:00\",\"2022-05-06T14:55:05+00:00\",\"2022-05-06T15:20:05+00:00\",\"2022-05-06T16:25:05+00:00\",\"2022-05-06T16:40:05+00:00\",\"2022-05-06T17:25:05+00:00\",\"2022-05-06T17:30:05+00:00\",\"2022-05-06T18:40:05+00:00\",\"2022-05-06T19:10:05+00:00\",\"2022-05-06T19:15:05+00:00\",\"2022-05-06T20:10:05+00:00\",\"2022-05-06T20:25:05+00:00\",\"2022-05-06T22:05:05+00:00\"],\"xaxis\":\"x\",\"y\":[null,null,null,null,null,null,null,null,null,null,null,null,null,null,null,null,null,null,null,null,null,null,null,null,null,null,null,null,null,null,null,null,null,null,null,null,null,null,null,null,null,null,null,null,null,null,null,null,null,null,null,null,null,null,null,null,null,null,null,null,null,null,null,null,null,null,null,null,null,null,null,null,null,null,null,null,null,null,null,null,null,null,null,null,null,null,null,null,null,null,null,null,null,null,null,null,null,null,null,null,null,null,null,null,null,null,null,null,null,null,null,null,null,null,null,null,null,null,null,null,null,null,null,null,null,null,null,null,null,null,null,null,null,null,null,null,null,null,null,null,null,null,null,null,null,null,null,null,null,null,null,null,null,null,null,null,null,null,null,null,null,null,null,null,null,null,null,null,null,null,null,null,null,null,null,null,null,null,null,null,null,null,null,null,null,null,null,null,null,null,null,null,null,null,null,null,null,null,null,null,null,null,null,null,null,null,null,null,null,null,null,null,null,null,null,null,null,null,null,null,null,null,null,null,null,null,null,null,null,null,null,null,null,null,null,null,null,null,null,null,null,null,null,null,null,null,null,null,null,null,null,null,null,null,null,null,null,null,null,null,null,null,null,null,null,null,null,null,null,null,null,null,null,null,null,null,null,null,null,null,null,null,264.6,272.2,287.1,273.9,266.6,270.1,271.3,275.0,278.4,271.4,263.6,264.8,268.2,274.3,278.4,271.1,268.9,270.6,276.0,292.1,294.7,297.2,286.7,296.1,293.5,298.0,293.3,295.1,293.3,295.4,294.8,298.5,301.6,308.6,296.2,295.9,292.7,285.1,283.8,300.2,294.8,283.1,null,279.4,270.4,270.8,273.2,266.4,268.9,264.6,271.5,264.8,264.6,265.1,269.3,268.4,278.8,282.2,308.1,280.1,287.9,306.7,311.2,321.2,316.9,331.6,340.8,331.2,368.6,319.0,332.8,340.0,344.9,346.2,348.0,348.3,351.3,379.6,357.6,364.7,375.2,372.0,380.8,367.9,353.1,372.4,370.0,384.8,371.4,371.1,375.4,372.1,376.1,374.7,374.3,377.9,null,387.9,379.8,378.8,387.0,376.4,383.1,364.2,373.7,377.8,378.5,371.9,347.7,385.3,376.0,365.1,338.1,336.0,331.1,311.7,371.3,375.6,369.0,370.3,372.5,358.8,309.8,366.8,362.9,306.3,309.1,303.7,360.8,358.7,360.4,355.0,352.2,296.9,343.8,321.4,339.1,332.9,321.8,315.4,306.1,300.3,301.3,295.0,281.4,270.5,256.9,256.5,250.7,262.5,273.0,255.6,256.2,251.9,250.9,266.9,269.8,252.6,249.9,251.6,251.2,261.7,242.7,259.4,247.6,243.3,265.7,242.2,233.8,261.6,264.9,272.5,247.4,245.4,266.0,244.8,245.8,232.9,null,249.7,253.6,250.5,225.4,223.4,229.3,250.9,null,239.0,235.3,256.1,null,null,null,247.5,null,null,272.3,261.8,null,null,null,null,250.0,264.0,null,null,252.9,null,267.6,null,274.1,null,278.6,301.3,299.4,279.8,273.2,290.3,262.5,null,null,303.8,279.4,273.4,273.8,261.1,276.0,null,263.5,275.1,null,null,287.4,269.9,263.4,276.9,null,294.7,285.9,286.8,302.3,268.2,291.3,null,null,null,null,288.8,286.1,273.8,278.2,280.4,296.8,273.3,null,null,276.8,287.7,282.5,290.6,280.5,271.4,278.4,273.7,281.6,272.4,282.3,270.9,279.9,387.8,250.1,244.0,255.4,256.7,250.1,243.3,281.1,267.2,280.3,276.2,271.6,281.4],\"yaxis\":\"y\",\"type\":\"scattergl\"}],                        {\"template\":{\"data\":{\"histogram2dcontour\":[{\"type\":\"histogram2dcontour\",\"colorbar\":{\"outlinewidth\":0,\"ticks\":\"\"},\"colorscale\":[[0.0,\"#0d0887\"],[0.1111111111111111,\"#46039f\"],[0.2222222222222222,\"#7201a8\"],[0.3333333333333333,\"#9c179e\"],[0.4444444444444444,\"#bd3786\"],[0.5555555555555556,\"#d8576b\"],[0.6666666666666666,\"#ed7953\"],[0.7777777777777778,\"#fb9f3a\"],[0.8888888888888888,\"#fdca26\"],[1.0,\"#f0f921\"]]}],\"choropleth\":[{\"type\":\"choropleth\",\"colorbar\":{\"outlinewidth\":0,\"ticks\":\"\"}}],\"histogram2d\":[{\"type\":\"histogram2d\",\"colorbar\":{\"outlinewidth\":0,\"ticks\":\"\"},\"colorscale\":[[0.0,\"#0d0887\"],[0.1111111111111111,\"#46039f\"],[0.2222222222222222,\"#7201a8\"],[0.3333333333333333,\"#9c179e\"],[0.4444444444444444,\"#bd3786\"],[0.5555555555555556,\"#d8576b\"],[0.6666666666666666,\"#ed7953\"],[0.7777777777777778,\"#fb9f3a\"],[0.8888888888888888,\"#fdca26\"],[1.0,\"#f0f921\"]]}],\"heatmap\":[{\"type\":\"heatmap\",\"colorbar\":{\"outlinewidth\":0,\"ticks\":\"\"},\"colorscale\":[[0.0,\"#0d0887\"],[0.1111111111111111,\"#46039f\"],[0.2222222222222222,\"#7201a8\"],[0.3333333333333333,\"#9c179e\"],[0.4444444444444444,\"#bd3786\"],[0.5555555555555556,\"#d8576b\"],[0.6666666666666666,\"#ed7953\"],[0.7777777777777778,\"#fb9f3a\"],[0.8888888888888888,\"#fdca26\"],[1.0,\"#f0f921\"]]}],\"heatmapgl\":[{\"type\":\"heatmapgl\",\"colorbar\":{\"outlinewidth\":0,\"ticks\":\"\"},\"colorscale\":[[0.0,\"#0d0887\"],[0.1111111111111111,\"#46039f\"],[0.2222222222222222,\"#7201a8\"],[0.3333333333333333,\"#9c179e\"],[0.4444444444444444,\"#bd3786\"],[0.5555555555555556,\"#d8576b\"],[0.6666666666666666,\"#ed7953\"],[0.7777777777777778,\"#fb9f3a\"],[0.8888888888888888,\"#fdca26\"],[1.0,\"#f0f921\"]]}],\"contourcarpet\":[{\"type\":\"contourcarpet\",\"colorbar\":{\"outlinewidth\":0,\"ticks\":\"\"}}],\"contour\":[{\"type\":\"contour\",\"colorbar\":{\"outlinewidth\":0,\"ticks\":\"\"},\"colorscale\":[[0.0,\"#0d0887\"],[0.1111111111111111,\"#46039f\"],[0.2222222222222222,\"#7201a8\"],[0.3333333333333333,\"#9c179e\"],[0.4444444444444444,\"#bd3786\"],[0.5555555555555556,\"#d8576b\"],[0.6666666666666666,\"#ed7953\"],[0.7777777777777778,\"#fb9f3a\"],[0.8888888888888888,\"#fdca26\"],[1.0,\"#f0f921\"]]}],\"surface\":[{\"type\":\"surface\",\"colorbar\":{\"outlinewidth\":0,\"ticks\":\"\"},\"colorscale\":[[0.0,\"#0d0887\"],[0.1111111111111111,\"#46039f\"],[0.2222222222222222,\"#7201a8\"],[0.3333333333333333,\"#9c179e\"],[0.4444444444444444,\"#bd3786\"],[0.5555555555555556,\"#d8576b\"],[0.6666666666666666,\"#ed7953\"],[0.7777777777777778,\"#fb9f3a\"],[0.8888888888888888,\"#fdca26\"],[1.0,\"#f0f921\"]]}],\"mesh3d\":[{\"type\":\"mesh3d\",\"colorbar\":{\"outlinewidth\":0,\"ticks\":\"\"}}],\"scatter\":[{\"fillpattern\":{\"fillmode\":\"overlay\",\"size\":10,\"solidity\":0.2},\"type\":\"scatter\"}],\"parcoords\":[{\"type\":\"parcoords\",\"line\":{\"colorbar\":{\"outlinewidth\":0,\"ticks\":\"\"}}}],\"scatterpolargl\":[{\"type\":\"scatterpolargl\",\"marker\":{\"colorbar\":{\"outlinewidth\":0,\"ticks\":\"\"}}}],\"bar\":[{\"error_x\":{\"color\":\"#2a3f5f\"},\"error_y\":{\"color\":\"#2a3f5f\"},\"marker\":{\"line\":{\"color\":\"#E5ECF6\",\"width\":0.5},\"pattern\":{\"fillmode\":\"overlay\",\"size\":10,\"solidity\":0.2}},\"type\":\"bar\"}],\"scattergeo\":[{\"type\":\"scattergeo\",\"marker\":{\"colorbar\":{\"outlinewidth\":0,\"ticks\":\"\"}}}],\"scatterpolar\":[{\"type\":\"scatterpolar\",\"marker\":{\"colorbar\":{\"outlinewidth\":0,\"ticks\":\"\"}}}],\"histogram\":[{\"marker\":{\"pattern\":{\"fillmode\":\"overlay\",\"size\":10,\"solidity\":0.2}},\"type\":\"histogram\"}],\"scattergl\":[{\"type\":\"scattergl\",\"marker\":{\"colorbar\":{\"outlinewidth\":0,\"ticks\":\"\"}}}],\"scatter3d\":[{\"type\":\"scatter3d\",\"line\":{\"colorbar\":{\"outlinewidth\":0,\"ticks\":\"\"}},\"marker\":{\"colorbar\":{\"outlinewidth\":0,\"ticks\":\"\"}}}],\"scattermapbox\":[{\"type\":\"scattermapbox\",\"marker\":{\"colorbar\":{\"outlinewidth\":0,\"ticks\":\"\"}}}],\"scatterternary\":[{\"type\":\"scatterternary\",\"marker\":{\"colorbar\":{\"outlinewidth\":0,\"ticks\":\"\"}}}],\"scattercarpet\":[{\"type\":\"scattercarpet\",\"marker\":{\"colorbar\":{\"outlinewidth\":0,\"ticks\":\"\"}}}],\"carpet\":[{\"aaxis\":{\"endlinecolor\":\"#2a3f5f\",\"gridcolor\":\"white\",\"linecolor\":\"white\",\"minorgridcolor\":\"white\",\"startlinecolor\":\"#2a3f5f\"},\"baxis\":{\"endlinecolor\":\"#2a3f5f\",\"gridcolor\":\"white\",\"linecolor\":\"white\",\"minorgridcolor\":\"white\",\"startlinecolor\":\"#2a3f5f\"},\"type\":\"carpet\"}],\"table\":[{\"cells\":{\"fill\":{\"color\":\"#EBF0F8\"},\"line\":{\"color\":\"white\"}},\"header\":{\"fill\":{\"color\":\"#C8D4E3\"},\"line\":{\"color\":\"white\"}},\"type\":\"table\"}],\"barpolar\":[{\"marker\":{\"line\":{\"color\":\"#E5ECF6\",\"width\":0.5},\"pattern\":{\"fillmode\":\"overlay\",\"size\":10,\"solidity\":0.2}},\"type\":\"barpolar\"}],\"pie\":[{\"automargin\":true,\"type\":\"pie\"}]},\"layout\":{\"autotypenumbers\":\"strict\",\"colorway\":[\"#636efa\",\"#EF553B\",\"#00cc96\",\"#ab63fa\",\"#FFA15A\",\"#19d3f3\",\"#FF6692\",\"#B6E880\",\"#FF97FF\",\"#FECB52\"],\"font\":{\"color\":\"#2a3f5f\"},\"hovermode\":\"closest\",\"hoverlabel\":{\"align\":\"left\"},\"paper_bgcolor\":\"white\",\"plot_bgcolor\":\"#E5ECF6\",\"polar\":{\"bgcolor\":\"#E5ECF6\",\"angularaxis\":{\"gridcolor\":\"white\",\"linecolor\":\"white\",\"ticks\":\"\"},\"radialaxis\":{\"gridcolor\":\"white\",\"linecolor\":\"white\",\"ticks\":\"\"}},\"ternary\":{\"bgcolor\":\"#E5ECF6\",\"aaxis\":{\"gridcolor\":\"white\",\"linecolor\":\"white\",\"ticks\":\"\"},\"baxis\":{\"gridcolor\":\"white\",\"linecolor\":\"white\",\"ticks\":\"\"},\"caxis\":{\"gridcolor\":\"white\",\"linecolor\":\"white\",\"ticks\":\"\"}},\"coloraxis\":{\"colorbar\":{\"outlinewidth\":0,\"ticks\":\"\"}},\"colorscale\":{\"sequential\":[[0.0,\"#0d0887\"],[0.1111111111111111,\"#46039f\"],[0.2222222222222222,\"#7201a8\"],[0.3333333333333333,\"#9c179e\"],[0.4444444444444444,\"#bd3786\"],[0.5555555555555556,\"#d8576b\"],[0.6666666666666666,\"#ed7953\"],[0.7777777777777778,\"#fb9f3a\"],[0.8888888888888888,\"#fdca26\"],[1.0,\"#f0f921\"]],\"sequentialminus\":[[0.0,\"#0d0887\"],[0.1111111111111111,\"#46039f\"],[0.2222222222222222,\"#7201a8\"],[0.3333333333333333,\"#9c179e\"],[0.4444444444444444,\"#bd3786\"],[0.5555555555555556,\"#d8576b\"],[0.6666666666666666,\"#ed7953\"],[0.7777777777777778,\"#fb9f3a\"],[0.8888888888888888,\"#fdca26\"],[1.0,\"#f0f921\"]],\"diverging\":[[0,\"#8e0152\"],[0.1,\"#c51b7d\"],[0.2,\"#de77ae\"],[0.3,\"#f1b6da\"],[0.4,\"#fde0ef\"],[0.5,\"#f7f7f7\"],[0.6,\"#e6f5d0\"],[0.7,\"#b8e186\"],[0.8,\"#7fbc41\"],[0.9,\"#4d9221\"],[1,\"#276419\"]]},\"xaxis\":{\"gridcolor\":\"white\",\"linecolor\":\"white\",\"ticks\":\"\",\"title\":{\"standoff\":15},\"zerolinecolor\":\"white\",\"automargin\":true,\"zerolinewidth\":2},\"yaxis\":{\"gridcolor\":\"white\",\"linecolor\":\"white\",\"ticks\":\"\",\"title\":{\"standoff\":15},\"zerolinecolor\":\"white\",\"automargin\":true,\"zerolinewidth\":2},\"scene\":{\"xaxis\":{\"backgroundcolor\":\"#E5ECF6\",\"gridcolor\":\"white\",\"linecolor\":\"white\",\"showbackground\":true,\"ticks\":\"\",\"zerolinecolor\":\"white\",\"gridwidth\":2},\"yaxis\":{\"backgroundcolor\":\"#E5ECF6\",\"gridcolor\":\"white\",\"linecolor\":\"white\",\"showbackground\":true,\"ticks\":\"\",\"zerolinecolor\":\"white\",\"gridwidth\":2},\"zaxis\":{\"backgroundcolor\":\"#E5ECF6\",\"gridcolor\":\"white\",\"linecolor\":\"white\",\"showbackground\":true,\"ticks\":\"\",\"zerolinecolor\":\"white\",\"gridwidth\":2}},\"shapedefaults\":{\"line\":{\"color\":\"#2a3f5f\"}},\"annotationdefaults\":{\"arrowcolor\":\"#2a3f5f\",\"arrowhead\":0,\"arrowwidth\":1},\"geo\":{\"bgcolor\":\"white\",\"landcolor\":\"#E5ECF6\",\"subunitcolor\":\"white\",\"showland\":true,\"showlakes\":true,\"lakecolor\":\"white\"},\"title\":{\"x\":0.05},\"mapbox\":{\"style\":\"light\"}}},\"xaxis\":{\"anchor\":\"y\",\"domain\":[0.0,1.0],\"title\":{\"text\":\"Time (UTC)\"}},\"yaxis\":{\"anchor\":\"x\",\"domain\":[0.0,1.0],\"title\":{\"text\":\"hmF2\"}},\"legend\":{\"title\":{\"text\":\"Station\"},\"tracegroupgap\":0},\"title\":{\"text\":\"Ionosonde Data: hmF2\"},\"autotypenumbers\":\"convert types\",\"font\":{\"family\":\"Courier New, monospace\",\"size\":18},\"plot_bgcolor\":\"rgba(0, 0, 0, 0)\",\"paper_bgcolor\":\"rgba(0, 0, 0, 0)\"},                        {\"responsive\": true}                    ).then(function(){\n",
       "                            \n",
       "var gd = document.getElementById('76ddff51-bce3-4dc0-9b70-fd63a684b45e');\n",
       "var x = new MutationObserver(function (mutations, observer) {{\n",
       "        var display = window.getComputedStyle(gd).display;\n",
       "        if (!display || display === 'none') {{\n",
       "            console.log([gd, 'removed!']);\n",
       "            Plotly.purge(gd);\n",
       "            observer.disconnect();\n",
       "        }}\n",
       "}});\n",
       "\n",
       "// Listen for the removal of the full notebook cells\n",
       "var notebookContainer = gd.closest('#notebook-container');\n",
       "if (notebookContainer) {{\n",
       "    x.observe(notebookContainer, {childList: true});\n",
       "}}\n",
       "\n",
       "// Listen for the clearing of the current output cell\n",
       "var outputEl = gd.closest('.output');\n",
       "if (outputEl) {{\n",
       "    x.observe(outputEl, {childList: true});\n",
       "}}\n",
       "\n",
       "                        })                };                });            </script>        </div>"
      ]
     },
     "metadata": {},
     "output_type": "display_data"
    }
   ],
   "source": [
    "# Generate an interactive plot\n",
    "# df = df.sort_values(by=\"Time\")  # This seems to break the plot for some reason.\n",
    "\n",
    "# Convert to numeric so plotly express can plot the data correctly:\n",
    "df[df.columns] = df[df.columns].apply(pd.to_numeric)\n",
    "\n",
    "print(df.info())     # for debugging:\n",
    "\n",
    "\n",
    "fig = px.line(df, title=str(parameter))\n",
    "\n",
    "\n",
    "fig.update_layout(autotypenumbers='convert types')     # converting to fix plotting\n",
    "\n",
    "\n",
    "fig.update_layout(\n",
    "    title=\"Ionosonde Data: \" + str(parameter),\n",
    "    xaxis_title=\"Time (UTC)\",\n",
    "    yaxis_title=str(parameter),\n",
    "    legend_title=\"Station\",\n",
    "    font=dict(\n",
    "        family=\"Courier New, monospace\",\n",
    "        size=18,\n",
    "#         color=\"RebeccaPurple\"\n",
    "    )\n",
    ")\n",
    "\n",
    "# Eliminate the gray background plotly express uses by default:\n",
    "fig.update_layout({\n",
    "'plot_bgcolor': 'rgba(0, 0, 0, 0)',\n",
    "'paper_bgcolor': 'rgba(0, 0, 0, 0)',\n",
    "})\n",
    "\n",
    "fig.show()\n",
    "fig.write_html(\"plots/\"+ str(parameter) + \"_plot.html\", include_plotlyjs=\"cdn\")\n"
   ]
  },
  {
   "cell_type": "code",
   "execution_count": 22,
   "id": "adc76516",
   "metadata": {},
   "outputs": [],
   "source": [
    "# # Comment in to write dataframe to CSV:\n",
    "df.to_csv('data/' + str(parameter) + '.csv')"
   ]
  }
 ],
 "metadata": {
  "kernelspec": {
   "display_name": "Python 3 (ipykernel)",
   "language": "python",
   "name": "python3"
  },
  "language_info": {
   "codemirror_mode": {
    "name": "ipython",
    "version": 3
   },
   "file_extension": ".py",
   "mimetype": "text/x-python",
   "name": "python",
   "nbconvert_exporter": "python",
   "pygments_lexer": "ipython3",
   "version": "3.9.12"
  }
 },
 "nbformat": 4,
 "nbformat_minor": 5
}
